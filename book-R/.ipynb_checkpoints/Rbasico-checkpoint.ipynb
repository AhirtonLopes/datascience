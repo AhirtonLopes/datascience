{
 "cells": [
  {
   "cell_type": "markdown",
   "metadata": {},
   "source": [
    "# Variáveis\n",
    "\n",
    "\n",
    "- Variável (estatística) - atributo, mensurável ou não, sujeito à variação quantitativa ou qualitativa, no interior de um conjunto\n",
    "- Variável (matemática) - ente, em geral representado por uma letra, que pode assumir diferentes valores numéricos em uma expressão algébrica, numa fórmula ou num algoritmo\n",
    "- Variável (programação) - objeto situado na memória que representa um valor ou expressão\n"
   ]
  },
  {
   "cell_type": "code",
   "execution_count": 1,
   "metadata": {},
   "outputs": [
    {
     "ename": "ERROR",
     "evalue": "Error in eval(expr, envir, enclos): objeto 'x' não encontrado\n",
     "output_type": "error",
     "traceback": [
      "Error in eval(expr, envir, enclos): objeto 'x' não encontrado\nTraceback:\n"
     ]
    }
   ],
   "source": [
    "y <- 2*x + 3"
   ]
  },
  {
   "cell_type": "code",
   "execution_count": 2,
   "metadata": {},
   "outputs": [],
   "source": [
    "x <- 3"
   ]
  },
  {
   "cell_type": "code",
   "execution_count": 3,
   "metadata": {},
   "outputs": [
    {
     "name": "stdout",
     "output_type": "stream",
     "text": [
      "[1] 9\n"
     ]
    }
   ],
   "source": [
    "y <- 2*x + 3\n",
    "print(y)"
   ]
  },
  {
   "cell_type": "markdown",
   "metadata": {},
   "source": [
    "## Variáveis estatísticas"
   ]
  },
  {
   "cell_type": "code",
   "execution_count": 4,
   "metadata": {},
   "outputs": [],
   "source": [
    "df_alunos <- read.csv('pesos-alturas.csv')"
   ]
  },
  {
   "cell_type": "code",
   "execution_count": 5,
   "metadata": {
    "scrolled": true
   },
   "outputs": [
    {
     "data": {
      "text/html": [
       "<table>\n",
       "<thead><tr><th scope=col>Pesos</th><th scope=col>Alturas</th></tr></thead>\n",
       "<tbody>\n",
       "\t<tr><td>74  </td><td>1,73</td></tr>\n",
       "\t<tr><td>61  </td><td>1,62</td></tr>\n",
       "\t<tr><td>61  </td><td>1,63</td></tr>\n",
       "\t<tr><td>68  </td><td>1,68</td></tr>\n",
       "\t<tr><td>70  </td><td>1,68</td></tr>\n",
       "\t<tr><td>73  </td><td>1,75</td></tr>\n",
       "</tbody>\n",
       "</table>\n"
      ],
      "text/latex": [
       "\\begin{tabular}{r|ll}\n",
       " Pesos & Alturas\\\\\n",
       "\\hline\n",
       "\t 74   & 1,73\\\\\n",
       "\t 61   & 1,62\\\\\n",
       "\t 61   & 1,63\\\\\n",
       "\t 68   & 1,68\\\\\n",
       "\t 70   & 1,68\\\\\n",
       "\t 73   & 1,75\\\\\n",
       "\\end{tabular}\n"
      ],
      "text/markdown": [
       "\n",
       "Pesos | Alturas | \n",
       "|---|---|---|---|---|---|\n",
       "| 74   | 1,73 | \n",
       "| 61   | 1,62 | \n",
       "| 61   | 1,63 | \n",
       "| 68   | 1,68 | \n",
       "| 70   | 1,68 | \n",
       "| 73   | 1,75 | \n",
       "\n",
       "\n"
      ],
      "text/plain": [
       "  Pesos Alturas\n",
       "1 74    1,73   \n",
       "2 61    1,62   \n",
       "3 61    1,63   \n",
       "4 68    1,68   \n",
       "5 70    1,68   \n",
       "6 73    1,75   "
      ]
     },
     "metadata": {},
     "output_type": "display_data"
    }
   ],
   "source": [
    "head(df_alunos)"
   ]
  },
  {
   "cell_type": "code",
   "execution_count": 6,
   "metadata": {},
   "outputs": [
    {
     "data": {
      "text/plain": [
       "     Pesos          Alturas   \n",
       " Min.   :50.00   1,61   : 15  \n",
       " 1st Qu.:57.00   1,7    : 15  \n",
       " Median :65.00   1,75   : 13  \n",
       " Mean   :64.93   1,57   : 12  \n",
       " 3rd Qu.:73.00   1,68   : 12  \n",
       " Max.   :80.00   1,52   : 11  \n",
       "                 (Other):221  "
      ]
     },
     "metadata": {},
     "output_type": "display_data"
    }
   ],
   "source": [
    "summary(df_alunos)"
   ]
  },
  {
   "cell_type": "code",
   "execution_count": 7,
   "metadata": {},
   "outputs": [
    {
     "data": {
      "text/html": [
       "9.07808449759619"
      ],
      "text/latex": [
       "9.07808449759619"
      ],
      "text/markdown": [
       "9.07808449759619"
      ],
      "text/plain": [
       "[1] 9.078084"
      ]
     },
     "metadata": {},
     "output_type": "display_data"
    }
   ],
   "source": [
    "sd(df_alunos$Pesos)"
   ]
  },
  {
   "cell_type": "code",
   "execution_count": 8,
   "metadata": {},
   "outputs": [
    {
     "name": "stdout",
     "output_type": "stream",
     "text": [
      "[1] 9.078084\n"
     ]
    }
   ],
   "source": [
    "s <- sqrt(sum((df_alunos$Pesos-mean(df_alunos$Pesos))^2/(length(df_alunos$Pesos)-1)))\n",
    "print(s)"
   ]
  },
  {
   "cell_type": "code",
   "execution_count": null,
   "metadata": {
    "collapsed": true
   },
   "outputs": [],
   "source": []
  }
 ],
 "metadata": {
  "kernelspec": {
   "display_name": "R",
   "language": "R",
   "name": "ir"
  },
  "language_info": {
   "codemirror_mode": "r",
   "file_extension": ".r",
   "mimetype": "text/x-r-source",
   "name": "R",
   "pygments_lexer": "r",
   "version": "3.4.3"
  }
 },
 "nbformat": 4,
 "nbformat_minor": 2
}
