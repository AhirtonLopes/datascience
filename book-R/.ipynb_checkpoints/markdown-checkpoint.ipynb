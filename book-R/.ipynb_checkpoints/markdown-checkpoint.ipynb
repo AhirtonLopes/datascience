{
 "cells": [
  {
   "cell_type": "markdown",
   "metadata": {},
   "source": [
    "# Título\n",
    "\n",
    "```\n",
    "Digite:\n",
    "# Título\n",
    "```"
   ]
  },
  {
   "cell_type": "markdown",
   "metadata": {},
   "source": [
    "## Subtítulo\n",
    "\n",
    "```\n",
    "Digite:\n",
    "## Subtítulo\n",
    "```"
   ]
  },
  {
   "cell_type": "markdown",
   "metadata": {},
   "source": [
    "Texto normal"
   ]
  },
  {
   "cell_type": "markdown",
   "metadata": {},
   "source": [
    "## Listas\n",
    "Não numerada:\n",
    "- Item 1;\n",
    "- Item 2; \n",
    "- Item 3; \n",
    "\n",
    "```\n",
    "Digite:\n",
    "- Item 1;\n",
    "- Item 2; \n",
    "- Item 3; \n",
    "```\n",
    "\n",
    "Numerada:\n",
    "1. Item a;\n",
    "2. Item b;\n",
    "  1. Subitem a1\n",
    "  2. Subitem a2\n",
    "3. Item c;\n",
    "\n",
    "```\n",
    "Digite:\n",
    "1. Item a;\n",
    "2. Item b;\n",
    "  1. Subitem a1\n",
    "  2. Subitem a2\n",
    "3. Item c;\n",
    "\n",
    "```"
   ]
  },
  {
   "cell_type": "markdown",
   "metadata": {},
   "source": [
    "## Destaques\n",
    "\n",
    "Colocar texto **em negrito** ou *em itálico* é muito fácil.\n",
    "```\n",
    "Digite:\n",
    "Colocar texto **em negrito** ou *em itálico* é muito fácil.\n",
    "```"
   ]
  },
  {
   "cell_type": "markdown",
   "metadata": {},
   "source": [
    "## Imagens\n",
    "Vamos inserir uma imagem:\n",
    "![Texto alternativo](./logo-curso.png)\n",
    "\n",
    "```\n",
    "Digite:\n",
    "![Texto alternativo](./logo-curso.png)\n",
    "\n",
    "```"
   ]
  },
  {
   "cell_type": "markdown",
   "metadata": {},
   "source": [
    "## Links internos ou externos\n",
    "[Google](https://www.google.com)\n",
    "\n",
    "[Imagem](./logo-curso.png)\n",
    "\n",
    "```\n",
    "Digite:\n",
    "[Google](https://www.google.com)\n",
    "\n",
    "[Imagem](./logo-curso.png)\n",
    "\n",
    "```"
   ]
  },
  {
   "cell_type": "markdown",
   "metadata": {},
   "source": [
    "## Texto pré-formatado (comandos)\n",
    "\n",
    "```\n",
    "Texto pré formatado comum.\n",
    "```\n",
    "Digite 3 caracteres acento grave, pule uma linha e escreva o texto. Feche com outros e caracteres acento grave.\n",
    "\n",
    "Em R:\n",
    "```R\n",
    "df <- mtcars\n",
    "head(df)\n",
    "```\n",
    "Digite 3 caracteres acento grave, seguido do nome da linguagem, neste caso \"R\", pule uma linha e escreva o texto. Feche com outros e caracteres acento grave.\n"
   ]
  },
  {
   "cell_type": "code",
   "execution_count": null,
   "metadata": {},
   "outputs": [],
   "source": []
  }
 ],
 "metadata": {
  "kernelspec": {
   "display_name": "R",
   "language": "R",
   "name": "ir"
  },
  "language_info": {
   "codemirror_mode": "r",
   "file_extension": ".r",
   "mimetype": "text/x-r-source",
   "name": "R",
   "pygments_lexer": "r",
   "version": "3.4.2"
  }
 },
 "nbformat": 4,
 "nbformat_minor": 2
}
