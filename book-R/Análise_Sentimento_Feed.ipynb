{
 "cells": [
  {
   "cell_type": "markdown",
   "metadata": {},
   "source": [
    "## Neste trabalho, usamos o dicionário léxico OpLexicon: \n",
    "```\n",
    "Souza, M.; Vieira, R. Sentiment Analysis on Twitter Data for Portuguese Language. 10th International Conference Computational Processing of the Portuguese Language, 2012. [pdf] [bib]\n",
    "\n",
    "Souza, M.; Vieira, R.; Busetti, D.; Chishman, R. e Alves, I. M. Construction of a Portuguese Opinion Lexicon from multiple resources. 8th Brazilian Symposium in Information and Human Language Technology, 2011. [pdf] [bib]\n",
    "\n",
    "```\n",
    "http://ontolp.inf.pucrs.br/Recursos/downloads-OpLexicon.php"
   ]
  },
  {
   "cell_type": "code",
   "execution_count": 1,
   "metadata": {},
   "outputs": [
    {
     "name": "stderr",
     "output_type": "stream",
     "text": [
      "\n",
      "Attaching package: ‘dplyr’\n",
      "\n",
      "The following objects are masked from ‘package:stats’:\n",
      "\n",
      "    filter, lag\n",
      "\n",
      "The following objects are masked from ‘package:base’:\n",
      "\n",
      "    intersect, setdiff, setequal, union\n",
      "\n",
      "Loading required package: RColorBrewer\n"
     ]
    }
   ],
   "source": [
    "library(readr)\n",
    "library(dplyr)\n",
    "library(stringr)\n",
    "library(wordcloud)\n",
    "library(tidytext)\n",
    "library(tidyRSS)"
   ]
  },
  {
   "cell_type": "code",
   "execution_count": 2,
   "metadata": {},
   "outputs": [
    {
     "data": {
      "text/html": [
       "<table>\n",
       "<thead><tr><th scope=col>word</th><th scope=col>type</th><th scope=col>weight</th><th scope=col>other</th></tr></thead>\n",
       "<tbody>\n",
       "\t<tr><td>=[  </td><td>emot</td><td>-1  </td><td>A   </td></tr>\n",
       "\t<tr><td>=@  </td><td>emot</td><td>-1  </td><td>A   </td></tr>\n",
       "\t<tr><td>=p  </td><td>emot</td><td>-1  </td><td>A   </td></tr>\n",
       "\t<tr><td>=P  </td><td>emot</td><td>-1  </td><td>A   </td></tr>\n",
       "\t<tr><td>=x  </td><td>emot</td><td>-1  </td><td>A   </td></tr>\n",
       "\t<tr><td>=d  </td><td>emot</td><td> 1  </td><td>A   </td></tr>\n",
       "</tbody>\n",
       "</table>\n"
      ],
      "text/latex": [
       "\\begin{tabular}{r|llll}\n",
       " word & type & weight & other\\\\\n",
       "\\hline\n",
       "\t ={[} & emot & -1   & A   \\\\\n",
       "\t =@   & emot & -1   & A   \\\\\n",
       "\t =p   & emot & -1   & A   \\\\\n",
       "\t =P   & emot & -1   & A   \\\\\n",
       "\t =x   & emot & -1   & A   \\\\\n",
       "\t =d   & emot &  1   & A   \\\\\n",
       "\\end{tabular}\n"
      ],
      "text/markdown": [
       "\n",
       "word | type | weight | other | \n",
       "|---|---|---|---|---|---|\n",
       "| =[   | emot | -1   | A    | \n",
       "| =@   | emot | -1   | A    | \n",
       "| =p   | emot | -1   | A    | \n",
       "| =P   | emot | -1   | A    | \n",
       "| =x   | emot | -1   | A    | \n",
       "| =d   | emot |  1   | A    | \n",
       "\n",
       "\n"
      ],
      "text/plain": [
       "  word type weight other\n",
       "1 =[   emot -1     A    \n",
       "2 =@   emot -1     A    \n",
       "3 =p   emot -1     A    \n",
       "4 =P   emot -1     A    \n",
       "5 =x   emot -1     A    \n",
       "6 =d   emot  1     A    "
      ]
     },
     "metadata": {},
     "output_type": "display_data"
    }
   ],
   "source": [
    "\n",
    "oplexicon <- read_csv('oplexicon_v3.0/lexico_v3.0.txt', col_names = c('word', 'type', 'weight', 'other'), col_types = \n",
    "  cols(\n",
    "    word = col_character(),\n",
    "    type = col_character(),\n",
    "    weight = col_integer(), \n",
    "    other = col_character()\n",
    "  ))\n",
    "head(oplexicon)"
   ]
  },
  {
   "cell_type": "code",
   "execution_count": 3,
   "metadata": {},
   "outputs": [
    {
     "name": "stderr",
     "output_type": "stream",
     "text": [
      "Parsed with column specification:\n",
      "cols(\n",
      "  word = col_character()\n",
      ")\n"
     ]
    }
   ],
   "source": [
    "stopwords <- read_csv('portuguese-stopwords.txt', col_names = 'word')\n",
    "\n"
   ]
  },
  {
   "cell_type": "code",
   "execution_count": 4,
   "metadata": {},
   "outputs": [],
   "source": [
    "feed <- tidyfeed(\"https://oglobo.globo.com/rss.xml?completo=true\")"
   ]
  },
  {
   "cell_type": "code",
   "execution_count": 5,
   "metadata": {},
   "outputs": [],
   "source": [
    "rss_t <- feed %>%\n",
    "    unnest_tokens(word,item_title) %>%\n",
    "    anti_join(stopwords,by=\"word\") "
   ]
  },
  {
   "cell_type": "code",
   "execution_count": 6,
   "metadata": {},
   "outputs": [
    {
     "name": "stderr",
     "output_type": "stream",
     "text": [
      "Joining, by = \"word\"\n"
     ]
    },
    {
     "data": {
      "text/html": [
       "<table>\n",
       "<thead><tr><th scope=col>item_link</th><th scope=col>peso</th></tr></thead>\n",
       "<tbody>\n",
       "\t<tr><td>https://oglobo.globo.com/brasil/pf-suspeita-que-blairo-tenha-apagado-remotamente-mensagens-de-celular-apreendido-22374025</td><td>-3                                                                                                                       </td></tr>\n",
       "\t<tr><td>https://oglobo.globo.com/cultura/filmes/agnes-varda-manda-boneco-de-papelao-para-foto-anual-do-oscar-22373932            </td><td> 0                                                                                                                       </td></tr>\n",
       "\t<tr><td>https://oglobo.globo.com/economia/em-encontro-com-presidente-do-bc-maia-negocia-agenda-pos-previdencia-22374103          </td><td> 0                                                                                                                       </td></tr>\n",
       "\t<tr><td>https://oglobo.globo.com/economia/medico-bilionario-quer-comprar-los-angeles-times-diz-fonte-22374051                    </td><td> 0                                                                                                                       </td></tr>\n",
       "\t<tr><td>https://oglobo.globo.com/mundo/al-qaeda-lanca-revista-feminina-para-esposas-de-militantes-extremistas-22374020           </td><td>-1                                                                                                                       </td></tr>\n",
       "\t<tr><td>https://oglobo.globo.com/mundo/conheca-forca-politica-de-kim-yo-jong-irma-do-lider-da-coreia-do-norte-22373854           </td><td>-1                                                                                                                       </td></tr>\n",
       "\t<tr><td>https://oglobo.globo.com/rio/plano-integrado-de-seguranca-sofre-com-desencontro-entre-autoridades-22373607               </td><td>-1                                                                                                                       </td></tr>\n",
       "</tbody>\n",
       "</table>\n"
      ],
      "text/latex": [
       "\\begin{tabular}{r|ll}\n",
       " item\\_link & peso\\\\\n",
       "\\hline\n",
       "\t https://oglobo.globo.com/brasil/pf-suspeita-que-blairo-tenha-apagado-remotamente-mensagens-de-celular-apreendido-22374025 & -3                                                                                                                       \\\\\n",
       "\t https://oglobo.globo.com/cultura/filmes/agnes-varda-manda-boneco-de-papelao-para-foto-anual-do-oscar-22373932             &  0                                                                                                                       \\\\\n",
       "\t https://oglobo.globo.com/economia/em-encontro-com-presidente-do-bc-maia-negocia-agenda-pos-previdencia-22374103           &  0                                                                                                                       \\\\\n",
       "\t https://oglobo.globo.com/economia/medico-bilionario-quer-comprar-los-angeles-times-diz-fonte-22374051                     &  0                                                                                                                       \\\\\n",
       "\t https://oglobo.globo.com/mundo/al-qaeda-lanca-revista-feminina-para-esposas-de-militantes-extremistas-22374020            & -1                                                                                                                       \\\\\n",
       "\t https://oglobo.globo.com/mundo/conheca-forca-politica-de-kim-yo-jong-irma-do-lider-da-coreia-do-norte-22373854            & -1                                                                                                                       \\\\\n",
       "\t https://oglobo.globo.com/rio/plano-integrado-de-seguranca-sofre-com-desencontro-entre-autoridades-22373607                & -1                                                                                                                       \\\\\n",
       "\\end{tabular}\n"
      ],
      "text/markdown": [
       "\n",
       "item_link | peso | \n",
       "|---|---|---|---|---|---|---|\n",
       "| https://oglobo.globo.com/brasil/pf-suspeita-que-blairo-tenha-apagado-remotamente-mensagens-de-celular-apreendido-22374025 | -3                                                                                                                        | \n",
       "| https://oglobo.globo.com/cultura/filmes/agnes-varda-manda-boneco-de-papelao-para-foto-anual-do-oscar-22373932             |  0                                                                                                                        | \n",
       "| https://oglobo.globo.com/economia/em-encontro-com-presidente-do-bc-maia-negocia-agenda-pos-previdencia-22374103           |  0                                                                                                                        | \n",
       "| https://oglobo.globo.com/economia/medico-bilionario-quer-comprar-los-angeles-times-diz-fonte-22374051                     |  0                                                                                                                        | \n",
       "| https://oglobo.globo.com/mundo/al-qaeda-lanca-revista-feminina-para-esposas-de-militantes-extremistas-22374020            | -1                                                                                                                        | \n",
       "| https://oglobo.globo.com/mundo/conheca-forca-politica-de-kim-yo-jong-irma-do-lider-da-coreia-do-norte-22373854            | -1                                                                                                                        | \n",
       "| https://oglobo.globo.com/rio/plano-integrado-de-seguranca-sofre-com-desencontro-entre-autoridades-22373607                | -1                                                                                                                        | \n",
       "\n",
       "\n"
      ],
      "text/plain": [
       "  item_link                                                                                                                \n",
       "1 https://oglobo.globo.com/brasil/pf-suspeita-que-blairo-tenha-apagado-remotamente-mensagens-de-celular-apreendido-22374025\n",
       "2 https://oglobo.globo.com/cultura/filmes/agnes-varda-manda-boneco-de-papelao-para-foto-anual-do-oscar-22373932            \n",
       "3 https://oglobo.globo.com/economia/em-encontro-com-presidente-do-bc-maia-negocia-agenda-pos-previdencia-22374103          \n",
       "4 https://oglobo.globo.com/economia/medico-bilionario-quer-comprar-los-angeles-times-diz-fonte-22374051                    \n",
       "5 https://oglobo.globo.com/mundo/al-qaeda-lanca-revista-feminina-para-esposas-de-militantes-extremistas-22374020           \n",
       "6 https://oglobo.globo.com/mundo/conheca-forca-politica-de-kim-yo-jong-irma-do-lider-da-coreia-do-norte-22373854           \n",
       "7 https://oglobo.globo.com/rio/plano-integrado-de-seguranca-sofre-com-desencontro-entre-autoridades-22373607               \n",
       "  peso\n",
       "1 -3  \n",
       "2  0  \n",
       "3  0  \n",
       "4  0  \n",
       "5 -1  \n",
       "6 -1  \n",
       "7 -1  "
      ]
     },
     "metadata": {},
     "output_type": "display_data"
    }
   ],
   "source": [
    "sentimentoFeed <- rss_t %>%\n",
    "    inner_join(oplexicon) %>%\n",
    "    group_by(item_link) %>%\n",
    "    summarize(peso = sum(weight, na.rm = TRUE))\n",
    "sentimentoFeed"
   ]
  },
  {
   "cell_type": "code",
   "execution_count": null,
   "metadata": {},
   "outputs": [],
   "source": []
  }
 ],
 "metadata": {
  "kernelspec": {
   "display_name": "R",
   "language": "R",
   "name": "ir"
  },
  "language_info": {
   "codemirror_mode": "r",
   "file_extension": ".r",
   "mimetype": "text/x-r-source",
   "name": "R",
   "pygments_lexer": "r",
   "version": "3.4.2"
  }
 },
 "nbformat": 4,
 "nbformat_minor": 2
}
