{
 "cells": [
  {
   "cell_type": "markdown",
   "metadata": {},
   "source": [
    "# Churn prediction\n",
    "## Regressão logística"
   ]
  },
  {
   "cell_type": "code",
   "execution_count": 2,
   "metadata": {},
   "outputs": [
    {
     "data": {
      "text/html": [
       "<table>\n",
       "<thead><tr><th scope=col>periodo</th><th scope=col>bolsa</th><th scope=col>repetiu</th><th scope=col>ematraso</th><th scope=col>disciplinas</th><th scope=col>faltas</th><th scope=col>desempenho</th><th scope=col>abandonou</th></tr></thead>\n",
       "<tbody>\n",
       "\t<tr><td>2       </td><td>0.25    </td><td>8       </td><td>1       </td><td>4       </td><td>0       </td><td>0.000000</td><td>1       </td></tr>\n",
       "\t<tr><td>2       </td><td>0.15    </td><td>3       </td><td>1       </td><td>3       </td><td>6       </td><td>5.333333</td><td>0       </td></tr>\n",
       "\t<tr><td>4       </td><td>0.10    </td><td>0       </td><td>1       </td><td>1       </td><td>0       </td><td>8.000000</td><td>0       </td></tr>\n",
       "\t<tr><td>4       </td><td>0.20    </td><td>8       </td><td>1       </td><td>1       </td><td>0       </td><td>4.000000</td><td>1       </td></tr>\n",
       "\t<tr><td>1       </td><td>0.20    </td><td>3       </td><td>1       </td><td>1       </td><td>1       </td><td>8.000000</td><td>0       </td></tr>\n",
       "\t<tr><td>5       </td><td>0.20    </td><td>2       </td><td>1       </td><td>2       </td><td>0       </td><td>3.500000</td><td>1       </td></tr>\n",
       "</tbody>\n",
       "</table>\n"
      ],
      "text/latex": [
       "\\begin{tabular}{r|llllllll}\n",
       " periodo & bolsa & repetiu & ematraso & disciplinas & faltas & desempenho & abandonou\\\\\n",
       "\\hline\n",
       "\t 2        & 0.25     & 8        & 1        & 4        & 0        & 0.000000 & 1       \\\\\n",
       "\t 2        & 0.15     & 3        & 1        & 3        & 6        & 5.333333 & 0       \\\\\n",
       "\t 4        & 0.10     & 0        & 1        & 1        & 0        & 8.000000 & 0       \\\\\n",
       "\t 4        & 0.20     & 8        & 1        & 1        & 0        & 4.000000 & 1       \\\\\n",
       "\t 1        & 0.20     & 3        & 1        & 1        & 1        & 8.000000 & 0       \\\\\n",
       "\t 5        & 0.20     & 2        & 1        & 2        & 0        & 3.500000 & 1       \\\\\n",
       "\\end{tabular}\n"
      ],
      "text/markdown": [
       "\n",
       "periodo | bolsa | repetiu | ematraso | disciplinas | faltas | desempenho | abandonou | \n",
       "|---|---|---|---|---|---|\n",
       "| 2        | 0.25     | 8        | 1        | 4        | 0        | 0.000000 | 1        | \n",
       "| 2        | 0.15     | 3        | 1        | 3        | 6        | 5.333333 | 0        | \n",
       "| 4        | 0.10     | 0        | 1        | 1        | 0        | 8.000000 | 0        | \n",
       "| 4        | 0.20     | 8        | 1        | 1        | 0        | 4.000000 | 1        | \n",
       "| 1        | 0.20     | 3        | 1        | 1        | 1        | 8.000000 | 0        | \n",
       "| 5        | 0.20     | 2        | 1        | 2        | 0        | 3.500000 | 1        | \n",
       "\n",
       "\n"
      ],
      "text/plain": [
       "  periodo bolsa repetiu ematraso disciplinas faltas desempenho abandonou\n",
       "1 2       0.25  8       1        4           0      0.000000   1        \n",
       "2 2       0.15  3       1        3           6      5.333333   0        \n",
       "3 4       0.10  0       1        1           0      8.000000   0        \n",
       "4 4       0.20  8       1        1           0      4.000000   1        \n",
       "5 1       0.20  3       1        1           1      8.000000   0        \n",
       "6 5       0.20  2       1        2           0      3.500000   1        "
      ]
     },
     "metadata": {},
     "output_type": "display_data"
    },
    {
     "name": "stdout",
     "output_type": "stream",
     "text": [
      "'data.frame':\t300 obs. of  8 variables:\n",
      " $ periodo    : int  2 2 4 4 1 5 9 2 9 5 ...\n",
      " $ bolsa      : num  0.25 0.15 0.1 0.2 0.2 0.2 0.1 0.15 0.15 0.15 ...\n",
      " $ repetiu    : int  8 3 0 8 3 2 6 3 7 3 ...\n",
      " $ ematraso   : int  1 1 1 1 1 1 1 0 1 0 ...\n",
      " $ disciplinas: int  4 3 1 1 1 2 1 2 5 1 ...\n",
      " $ faltas     : int  0 6 0 0 1 0 1 2 10 1 ...\n",
      " $ desempenho : num  0 5.33 8 4 8 ...\n",
      " $ abandonou  : int  1 0 0 1 0 1 0 1 0 0 ...\n"
     ]
    },
    {
     "data": {
      "text/plain": [
       "    periodo          bolsa           repetiu         ematraso     \n",
       " Min.   : 1.00   Min.   :0.0000   Min.   :0.000   Min.   :0.0000  \n",
       " 1st Qu.: 3.00   1st Qu.:0.0500   1st Qu.:0.000   1st Qu.:0.0000  \n",
       " Median : 5.00   Median :0.1000   Median :2.000   Median :0.0000  \n",
       " Mean   : 5.46   Mean   :0.1233   Mean   :2.777   Mean   :0.4767  \n",
       " 3rd Qu.: 8.00   3rd Qu.:0.2000   3rd Qu.:5.000   3rd Qu.:1.0000  \n",
       " Max.   :10.00   Max.   :0.2500   Max.   :8.000   Max.   :1.0000  \n",
       "  disciplinas        faltas         desempenho       abandonou   \n",
       " Min.   :0.000   Min.   : 0.000   Min.   : 0.000   Min.   :0.00  \n",
       " 1st Qu.:1.000   1st Qu.: 0.000   1st Qu.: 0.400   1st Qu.:0.00  \n",
       " Median :2.000   Median : 1.000   Median : 2.000   Median :0.00  \n",
       " Mean   :2.293   Mean   : 2.213   Mean   : 2.623   Mean   :0.41  \n",
       " 3rd Qu.:4.000   3rd Qu.: 4.000   3rd Qu.: 4.000   3rd Qu.:1.00  \n",
       " Max.   :5.000   Max.   :10.000   Max.   :10.000   Max.   :1.00  "
      ]
     },
     "metadata": {},
     "output_type": "display_data"
    }
   ],
   "source": [
    "df <- read.csv('evasao.csv')\n",
    "head(df)\n",
    "str(df)\n",
    "summary(df)\n"
   ]
  },
  {
   "cell_type": "code",
   "execution_count": 3,
   "metadata": {},
   "outputs": [
    {
     "data": {
      "text/plain": [
       "\n",
       "FALSE \n",
       " 2400 "
      ]
     },
     "metadata": {},
     "output_type": "display_data"
    }
   ],
   "source": [
    "table(is.na(df))"
   ]
  },
  {
   "cell_type": "markdown",
   "metadata": {},
   "source": [
    "Separando dados de treino e de teste: "
   ]
  },
  {
   "cell_type": "code",
   "execution_count": 18,
   "metadata": {},
   "outputs": [
    {
     "data": {
      "text/html": [
       "<table>\n",
       "<thead><tr><th></th><th scope=col>periodo</th><th scope=col>bolsa</th><th scope=col>repetiu</th><th scope=col>ematraso</th><th scope=col>disciplinas</th><th scope=col>faltas</th><th scope=col>desempenho</th><th scope=col>abandonou</th></tr></thead>\n",
       "<tbody>\n",
       "\t<tr><th scope=row>275</th><td> 2  </td><td>0.15</td><td>0   </td><td>1   </td><td>1   </td><td>0   </td><td>10.0</td><td>0   </td></tr>\n",
       "\t<tr><th scope=row>281</th><td> 9  </td><td>0.00</td><td>2   </td><td>1   </td><td>5   </td><td>0   </td><td> 0.8</td><td>0   </td></tr>\n",
       "\t<tr><th scope=row>86</th><td> 9  </td><td>0.10</td><td>3   </td><td>0   </td><td>1   </td><td>2   </td><td> 6.0</td><td>0   </td></tr>\n",
       "\t<tr><th scope=row>247</th><td> 8  </td><td>0.15</td><td>8   </td><td>0   </td><td>0   </td><td>0   </td><td> 0.0</td><td>0   </td></tr>\n",
       "\t<tr><th scope=row>190</th><td> 9  </td><td>0.25</td><td>6   </td><td>0   </td><td>3   </td><td>0   </td><td> 1.0</td><td>1   </td></tr>\n",
       "\t<tr><th scope=row>154</th><td>10  </td><td>0.20</td><td>3   </td><td>1   </td><td>2   </td><td>2   </td><td> 5.0</td><td>0   </td></tr>\n",
       "</tbody>\n",
       "</table>\n"
      ],
      "text/latex": [
       "\\begin{tabular}{r|llllllll}\n",
       "  & periodo & bolsa & repetiu & ematraso & disciplinas & faltas & desempenho & abandonou\\\\\n",
       "\\hline\n",
       "\t275 &  2   & 0.15 & 0    & 1    & 1    & 0    & 10.0 & 0   \\\\\n",
       "\t281 &  9   & 0.00 & 2    & 1    & 5    & 0    &  0.8 & 0   \\\\\n",
       "\t86 &  9   & 0.10 & 3    & 0    & 1    & 2    &  6.0 & 0   \\\\\n",
       "\t247 &  8   & 0.15 & 8    & 0    & 0    & 0    &  0.0 & 0   \\\\\n",
       "\t190 &  9   & 0.25 & 6    & 0    & 3    & 0    &  1.0 & 1   \\\\\n",
       "\t154 & 10   & 0.20 & 3    & 1    & 2    & 2    &  5.0 & 0   \\\\\n",
       "\\end{tabular}\n"
      ],
      "text/markdown": [
       "\n",
       "| <!--/--> | periodo | bolsa | repetiu | ematraso | disciplinas | faltas | desempenho | abandonou | \n",
       "|---|---|---|---|---|---|\n",
       "| 275 |  2   | 0.15 | 0    | 1    | 1    | 0    | 10.0 | 0    | \n",
       "| 281 |  9   | 0.00 | 2    | 1    | 5    | 0    |  0.8 | 0    | \n",
       "| 86 |  9   | 0.10 | 3    | 0    | 1    | 2    |  6.0 | 0    | \n",
       "| 247 |  8   | 0.15 | 8    | 0    | 0    | 0    |  0.0 | 0    | \n",
       "| 190 |  9   | 0.25 | 6    | 0    | 3    | 0    |  1.0 | 1    | \n",
       "| 154 | 10   | 0.20 | 3    | 1    | 2    | 2    |  5.0 | 0    | \n",
       "\n",
       "\n"
      ],
      "text/plain": [
       "    periodo bolsa repetiu ematraso disciplinas faltas desempenho abandonou\n",
       "275  2      0.15  0       1        1           0      10.0       0        \n",
       "281  9      0.00  2       1        5           0       0.8       0        \n",
       "86   9      0.10  3       0        1           2       6.0       0        \n",
       "247  8      0.15  8       0        0           0       0.0       0        \n",
       "190  9      0.25  6       0        3           0       1.0       1        \n",
       "154 10      0.20  3       1        2           2       5.0       0        "
      ]
     },
     "metadata": {},
     "output_type": "display_data"
    },
    {
     "data": {
      "text/html": [
       "225"
      ],
      "text/latex": [
       "225"
      ],
      "text/markdown": [
       "225"
      ],
      "text/plain": [
       "[1] 225"
      ]
     },
     "metadata": {},
     "output_type": "display_data"
    }
   ],
   "source": [
    "n <- nrow(df)\n",
    "set.seed(42) # Se não fizer isso, verá valores diferentes dos meus\n",
    "limite <- sample(1:n, size = round(0.75*n), replace = FALSE)\n",
    "train_df <- df[limite,]\n",
    "test_df <- df[-limite,]\n",
    "\n",
    "head(train_df)\n",
    "length(train_df$periodo)"
   ]
  },
  {
   "cell_type": "markdown",
   "metadata": {},
   "source": [
    "Criando e treinando o modelo: "
   ]
  },
  {
   "cell_type": "code",
   "execution_count": 19,
   "metadata": {},
   "outputs": [
    {
     "data": {
      "text/plain": [
       "\n",
       "Call:\n",
       "glm(formula = \"abandonou ~ periodo + bolsa + repetiu + ematraso + disciplinas + faltas + desempenho\", \n",
       "    family = \"binomial\", data = train_df)\n",
       "\n",
       "Deviance Residuals: \n",
       "    Min       1Q   Median       3Q      Max  \n",
       "-2.1118  -0.8458  -0.4490   0.9895   1.8442  \n",
       "\n",
       "Coefficients:\n",
       "            Estimate Std. Error z value Pr(>|z|)    \n",
       "(Intercept) -1.22157    0.55658  -2.195 0.028180 *  \n",
       "periodo     -0.03821    0.05343  -0.715 0.474563    \n",
       "bolsa        0.33331    1.79914   0.185 0.853026    \n",
       "repetiu      0.38381    0.06928   5.540 3.03e-08 ***\n",
       "ematraso     0.45097    0.31782   1.419 0.155920    \n",
       "disciplinas  0.13612    0.10848   1.255 0.209565    \n",
       "faltas       0.03512    0.06627   0.530 0.596155    \n",
       "desempenho  -0.26800    0.07315  -3.664 0.000249 ***\n",
       "---\n",
       "Signif. codes:  0 ‘***’ 0.001 ‘**’ 0.01 ‘*’ 0.05 ‘.’ 0.1 ‘ ’ 1\n",
       "\n",
       "(Dispersion parameter for binomial family taken to be 1)\n",
       "\n",
       "    Null deviance: 305.12  on 224  degrees of freedom\n",
       "Residual deviance: 247.74  on 217  degrees of freedom\n",
       "AIC: 263.74\n",
       "\n",
       "Number of Fisher Scoring iterations: 4\n"
      ]
     },
     "metadata": {},
     "output_type": "display_data"
    }
   ],
   "source": [
    "modelo <- glm('abandonou ~ periodo + bolsa + repetiu + ematraso + disciplinas + faltas + desempenho', data = train_df, family = 'binomial')\n",
    "summary(modelo)\n"
   ]
  },
  {
   "cell_type": "markdown",
   "metadata": {},
   "source": [
    "Verificando a relevância dos coeficientes com anova(): "
   ]
  },
  {
   "cell_type": "code",
   "execution_count": 20,
   "metadata": {},
   "outputs": [
    {
     "data": {
      "text/html": [
       "<table>\n",
       "<thead><tr><th></th><th scope=col>Df</th><th scope=col>Deviance</th><th scope=col>Resid. Df</th><th scope=col>Resid. Dev</th><th scope=col>Pr(&gt;Chi)</th></tr></thead>\n",
       "<tbody>\n",
       "\t<tr><th scope=row>NULL</th><td>NA          </td><td>          NA</td><td>224         </td><td>305.1220    </td><td>          NA</td></tr>\n",
       "\t<tr><th scope=row>periodo</th><td> 1          </td><td> 0.617576197</td><td>223         </td><td>304.5044    </td><td>4.319494e-01</td></tr>\n",
       "\t<tr><th scope=row>bolsa</th><td> 1          </td><td> 0.490419075</td><td>222         </td><td>304.0140    </td><td>4.837404e-01</td></tr>\n",
       "\t<tr><th scope=row>repetiu</th><td> 1          </td><td>35.991536814</td><td>221         </td><td>268.0224    </td><td>1.981764e-09</td></tr>\n",
       "\t<tr><th scope=row>ematraso</th><td> 1          </td><td> 1.144289681</td><td>220         </td><td>266.8781    </td><td>2.847477e-01</td></tr>\n",
       "\t<tr><th scope=row>disciplinas</th><td> 1          </td><td> 3.025633226</td><td>219         </td><td>263.8525    </td><td>8.195832e-02</td></tr>\n",
       "\t<tr><th scope=row>faltas</th><td> 1          </td><td> 0.003532531</td><td>218         </td><td>263.8490    </td><td>9.526056e-01</td></tr>\n",
       "\t<tr><th scope=row>desempenho</th><td> 1          </td><td>16.109767574</td><td>217         </td><td>247.7392    </td><td>5.977494e-05</td></tr>\n",
       "</tbody>\n",
       "</table>\n"
      ],
      "text/latex": [
       "\\begin{tabular}{r|lllll}\n",
       "  & Df & Deviance & Resid. Df & Resid. Dev & Pr(>Chi)\\\\\n",
       "\\hline\n",
       "\tNULL & NA           &           NA & 224          & 305.1220     &           NA\\\\\n",
       "\tperiodo &  1           &  0.617576197 & 223          & 304.5044     & 4.319494e-01\\\\\n",
       "\tbolsa &  1           &  0.490419075 & 222          & 304.0140     & 4.837404e-01\\\\\n",
       "\trepetiu &  1           & 35.991536814 & 221          & 268.0224     & 1.981764e-09\\\\\n",
       "\tematraso &  1           &  1.144289681 & 220          & 266.8781     & 2.847477e-01\\\\\n",
       "\tdisciplinas &  1           &  3.025633226 & 219          & 263.8525     & 8.195832e-02\\\\\n",
       "\tfaltas &  1           &  0.003532531 & 218          & 263.8490     & 9.526056e-01\\\\\n",
       "\tdesempenho &  1           & 16.109767574 & 217          & 247.7392     & 5.977494e-05\\\\\n",
       "\\end{tabular}\n"
      ],
      "text/markdown": [
       "\n",
       "| <!--/--> | Df | Deviance | Resid. Df | Resid. Dev | Pr(>Chi) | \n",
       "|---|---|---|---|---|---|---|---|\n",
       "| NULL | NA           |           NA | 224          | 305.1220     |           NA | \n",
       "| periodo |  1           |  0.617576197 | 223          | 304.5044     | 4.319494e-01 | \n",
       "| bolsa |  1           |  0.490419075 | 222          | 304.0140     | 4.837404e-01 | \n",
       "| repetiu |  1           | 35.991536814 | 221          | 268.0224     | 1.981764e-09 | \n",
       "| ematraso |  1           |  1.144289681 | 220          | 266.8781     | 2.847477e-01 | \n",
       "| disciplinas |  1           |  3.025633226 | 219          | 263.8525     | 8.195832e-02 | \n",
       "| faltas |  1           |  0.003532531 | 218          | 263.8490     | 9.526056e-01 | \n",
       "| desempenho |  1           | 16.109767574 | 217          | 247.7392     | 5.977494e-05 | \n",
       "\n",
       "\n"
      ],
      "text/plain": [
       "            Df Deviance     Resid. Df Resid. Dev Pr(>Chi)    \n",
       "NULL        NA           NA 224       305.1220             NA\n",
       "periodo      1  0.617576197 223       304.5044   4.319494e-01\n",
       "bolsa        1  0.490419075 222       304.0140   4.837404e-01\n",
       "repetiu      1 35.991536814 221       268.0224   1.981764e-09\n",
       "ematraso     1  1.144289681 220       266.8781   2.847477e-01\n",
       "disciplinas  1  3.025633226 219       263.8525   8.195832e-02\n",
       "faltas       1  0.003532531 218       263.8490   9.526056e-01\n",
       "desempenho   1 16.109767574 217       247.7392   5.977494e-05"
      ]
     },
     "metadata": {},
     "output_type": "display_data"
    }
   ],
   "source": [
    "anova(modelo, test = \"Chisq\")"
   ]
  },
  {
   "cell_type": "markdown",
   "metadata": {},
   "source": [
    "Vamos criar um novo modelo com apenas as variáveis relevantes: \"repetiu\" e \"desempenho\": "
   ]
  },
  {
   "cell_type": "code",
   "execution_count": 21,
   "metadata": {},
   "outputs": [
    {
     "data": {
      "text/plain": [
       "\n",
       "Call:\n",
       "glm(formula = \"abandonou ~ repetiu + desempenho\", family = \"binomial\", \n",
       "    data = train_r)\n",
       "\n",
       "Deviance Residuals: \n",
       "    Min       1Q   Median       3Q      Max  \n",
       "-2.1034  -0.8348  -0.5126   1.0583   1.8926  \n",
       "\n",
       "Coefficients:\n",
       "            Estimate Std. Error z value Pr(>|z|)    \n",
       "(Intercept) -0.74067    0.27015  -2.742 0.006113 ** \n",
       "repetiu      0.35462    0.06585   5.385 7.23e-08 ***\n",
       "desempenho  -0.24450    0.06887  -3.550 0.000385 ***\n",
       "---\n",
       "Signif. codes:  0 ‘***’ 0.001 ‘**’ 0.01 ‘*’ 0.05 ‘.’ 0.1 ‘ ’ 1\n",
       "\n",
       "(Dispersion parameter for binomial family taken to be 1)\n",
       "\n",
       "    Null deviance: 305.12  on 224  degrees of freedom\n",
       "Residual deviance: 254.46  on 222  degrees of freedom\n",
       "AIC: 260.46\n",
       "\n",
       "Number of Fisher Scoring iterations: 4\n"
      ]
     },
     "metadata": {},
     "output_type": "display_data"
    },
    {
     "data": {
      "text/html": [
       "<table>\n",
       "<thead><tr><th></th><th scope=col>Df</th><th scope=col>Deviance</th><th scope=col>Resid. Df</th><th scope=col>Resid. Dev</th><th scope=col>Pr(&gt;Chi)</th></tr></thead>\n",
       "<tbody>\n",
       "\t<tr><th scope=row>NULL</th><td>NA          </td><td>      NA    </td><td>224         </td><td>305.1220    </td><td>          NA</td></tr>\n",
       "\t<tr><th scope=row>repetiu</th><td> 1          </td><td>35.92344    </td><td>223         </td><td>269.1985    </td><td>2.052247e-09</td></tr>\n",
       "\t<tr><th scope=row>desempenho</th><td> 1          </td><td>14.73577    </td><td>222         </td><td>254.4628    </td><td>1.236775e-04</td></tr>\n",
       "</tbody>\n",
       "</table>\n"
      ],
      "text/latex": [
       "\\begin{tabular}{r|lllll}\n",
       "  & Df & Deviance & Resid. Df & Resid. Dev & Pr(>Chi)\\\\\n",
       "\\hline\n",
       "\tNULL & NA           &       NA     & 224          & 305.1220     &           NA\\\\\n",
       "\trepetiu &  1           & 35.92344     & 223          & 269.1985     & 2.052247e-09\\\\\n",
       "\tdesempenho &  1           & 14.73577     & 222          & 254.4628     & 1.236775e-04\\\\\n",
       "\\end{tabular}\n"
      ],
      "text/markdown": [
       "\n",
       "| <!--/--> | Df | Deviance | Resid. Df | Resid. Dev | Pr(>Chi) | \n",
       "|---|---|---|\n",
       "| NULL | NA           |       NA     | 224          | 305.1220     |           NA | \n",
       "| repetiu |  1           | 35.92344     | 223          | 269.1985     | 2.052247e-09 | \n",
       "| desempenho |  1           | 14.73577     | 222          | 254.4628     | 1.236775e-04 | \n",
       "\n",
       "\n"
      ],
      "text/plain": [
       "           Df Deviance Resid. Df Resid. Dev Pr(>Chi)    \n",
       "NULL       NA       NA 224       305.1220             NA\n",
       "repetiu     1 35.92344 223       269.1985   2.052247e-09\n",
       "desempenho  1 14.73577 222       254.4628   1.236775e-04"
      ]
     },
     "metadata": {},
     "output_type": "display_data"
    }
   ],
   "source": [
    "train_r <- subset(train_df,select = c('repetiu','desempenho','abandonou'))\n",
    "\n",
    "modelo2 <- glm('abandonou ~ repetiu + desempenho', data = train_r, family = 'binomial')\n",
    "summary(modelo2)\n",
    "anova(modelo2, test = \"Chisq\")\n"
   ]
  },
  {
   "cell_type": "markdown",
   "metadata": {},
   "source": [
    "Testando o modelo: "
   ]
  },
  {
   "cell_type": "code",
   "execution_count": 23,
   "metadata": {},
   "outputs": [
    {
     "name": "stdout",
     "output_type": "stream",
     "text": [
      "[1] \"Precisão modelo reduzido: 0.573333333333333\"\n"
     ]
    }
   ],
   "source": [
    "test_r <- subset(test_df,select = c('repetiu','desempenho','abandonou'))\n",
    "resultados <- predict(modelo2,newdata = test_r, type = 'response')\n",
    "resultados_ar <- ifelse(resultados > 0.5, 1, 0)\n",
    "erroMedio <- mean(resultados_ar != test_r$abandonou)\n",
    "print(paste('Precisão modelo reduzido:',1 - erroMedio))\n"
   ]
  },
  {
   "cell_type": "markdown",
   "metadata": {},
   "source": [
    "Não é um resultado muito bom... 57% Mas é melhor do que nada. Talvez, a adição de outras variáveis ou um novo levantamento ajudem a resolver."
   ]
  },
  {
   "cell_type": "code",
   "execution_count": 28,
   "metadata": {},
   "outputs": [],
   "source": [
    "df_predicao <- data.frame(desempenho = test_r$desempenho, \n",
    "                          repetiu = test_r$repetiu, \n",
    "                          abandonou_obs = test_r$abandonou, \n",
    "                          abandonou_pred = resultados_ar)"
   ]
  },
  {
   "cell_type": "code",
   "execution_count": 29,
   "metadata": {},
   "outputs": [
    {
     "data": {
      "text/html": [
       "<table>\n",
       "<thead><tr><th></th><th scope=col>desempenho</th><th scope=col>repetiu</th><th scope=col>abandonou_obs</th><th scope=col>abandonou_pred</th></tr></thead>\n",
       "<tbody>\n",
       "\t<tr><th scope=row>3</th><td>8.000000</td><td>0       </td><td>0       </td><td>0       </td></tr>\n",
       "\t<tr><th scope=row>4</th><td>4.000000</td><td>8       </td><td>1       </td><td>1       </td></tr>\n",
       "\t<tr><th scope=row>7</th><td>2.000000</td><td>6       </td><td>0       </td><td>1       </td></tr>\n",
       "\t<tr><th scope=row>9</th><td>2.800000</td><td>7       </td><td>0       </td><td>1       </td></tr>\n",
       "\t<tr><th scope=row>11</th><td>2.666667</td><td>5       </td><td>0       </td><td>1       </td></tr>\n",
       "\t<tr><th scope=row>17</th><td>9.000000</td><td>0       </td><td>0       </td><td>0       </td></tr>\n",
       "</tbody>\n",
       "</table>\n"
      ],
      "text/latex": [
       "\\begin{tabular}{r|llll}\n",
       "  & desempenho & repetiu & abandonou\\_obs & abandonou\\_pred\\\\\n",
       "\\hline\n",
       "\t3 & 8.000000 & 0        & 0        & 0       \\\\\n",
       "\t4 & 4.000000 & 8        & 1        & 1       \\\\\n",
       "\t7 & 2.000000 & 6        & 0        & 1       \\\\\n",
       "\t9 & 2.800000 & 7        & 0        & 1       \\\\\n",
       "\t11 & 2.666667 & 5        & 0        & 1       \\\\\n",
       "\t17 & 9.000000 & 0        & 0        & 0       \\\\\n",
       "\\end{tabular}\n"
      ],
      "text/markdown": [
       "\n",
       "| <!--/--> | desempenho | repetiu | abandonou_obs | abandonou_pred | \n",
       "|---|---|---|---|---|---|\n",
       "| 3 | 8.000000 | 0        | 0        | 0        | \n",
       "| 4 | 4.000000 | 8        | 1        | 1        | \n",
       "| 7 | 2.000000 | 6        | 0        | 1        | \n",
       "| 9 | 2.800000 | 7        | 0        | 1        | \n",
       "| 11 | 2.666667 | 5        | 0        | 1        | \n",
       "| 17 | 9.000000 | 0        | 0        | 0        | \n",
       "\n",
       "\n"
      ],
      "text/plain": [
       "   desempenho repetiu abandonou_obs abandonou_pred\n",
       "3  8.000000   0       0             0             \n",
       "4  4.000000   8       1             1             \n",
       "7  2.000000   6       0             1             \n",
       "9  2.800000   7       0             1             \n",
       "11 2.666667   5       0             1             \n",
       "17 9.000000   0       0             0             "
      ]
     },
     "metadata": {},
     "output_type": "display_data"
    }
   ],
   "source": [
    "head(df_predicao)"
   ]
  },
  {
   "cell_type": "code",
   "execution_count": null,
   "metadata": {},
   "outputs": [],
   "source": []
  }
 ],
 "metadata": {
  "kernelspec": {
   "display_name": "R",
   "language": "R",
   "name": "ir"
  },
  "language_info": {
   "codemirror_mode": "r",
   "file_extension": ".r",
   "mimetype": "text/x-r-source",
   "name": "R",
   "pygments_lexer": "r",
   "version": "3.4.2"
  }
 },
 "nbformat": 4,
 "nbformat_minor": 2
}
