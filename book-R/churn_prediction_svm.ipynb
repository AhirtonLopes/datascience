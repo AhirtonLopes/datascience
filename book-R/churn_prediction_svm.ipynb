{
 "cells": [
  {
   "cell_type": "markdown",
   "metadata": {},
   "source": [
    "# Churn Prediction\n",
    "## SVM"
   ]
  },
  {
   "cell_type": "code",
   "execution_count": 2,
   "metadata": {},
   "outputs": [
    {
     "name": "stderr",
     "output_type": "stream",
     "text": [
      "Updating HTML index of packages in '.Library'\n",
      "Making 'packages.html' ... done\n"
     ]
    }
   ],
   "source": [
    "#install.packages(\"e1071\")"
   ]
  },
  {
   "cell_type": "code",
   "execution_count": 3,
   "metadata": {},
   "outputs": [],
   "source": [
    "library(e1071)"
   ]
  },
  {
   "cell_type": "code",
   "execution_count": 4,
   "metadata": {},
   "outputs": [],
   "source": [
    "df <- read.csv('evasao.csv')"
   ]
  },
  {
   "cell_type": "code",
   "execution_count": 5,
   "metadata": {},
   "outputs": [],
   "source": [
    "n <- nrow(df)\n",
    "set.seed(42) # Se não fizer isso, verá valores diferentes dos meus\n",
    "limite <- sample(1:n, size = round(0.75*n), replace = FALSE)\n",
    "train_df <- df[limite,]\n",
    "test_df <- df[-limite,]\n",
    "\n"
   ]
  },
  {
   "cell_type": "code",
   "execution_count": 58,
   "metadata": {},
   "outputs": [],
   "source": [
    "abandonou = train_df$abandonou\n",
    "periodo = train_df$periodo \n",
    "bolsa = train_df$bolsa \n",
    "repetiu =  train_df$repetiu\n",
    "ematraso = train_df$ematraso \n",
    "disciplinas = train_df$disciplinas \n",
    "faltas = train_df$faltas\n",
    "desempenho = train_df$desempenho\n",
    "modelo_svm <- svm(abandonou ~ periodo + bolsa + repetiu + ematraso + disciplinas + faltas + desempenho , train_df,\n",
    "                  kernel = 'polynomial', gamma = 10, cost = 2, type='C-classification')"
   ]
  },
  {
   "cell_type": "code",
   "execution_count": 59,
   "metadata": {},
   "outputs": [
    {
     "data": {
      "text/plain": [
       "\n",
       "Call:\n",
       "svm(formula = abandonou ~ periodo + bolsa + repetiu + ematraso + \n",
       "    disciplinas + faltas + desempenho, data = train_df, kernel = \"polynomial\", \n",
       "    gamma = 10, cost = 2, type = \"C-classification\")\n",
       "\n",
       "\n",
       "Parameters:\n",
       "   SVM-Type:  C-classification \n",
       " SVM-Kernel:  polynomial \n",
       "       cost:  2 \n",
       "     degree:  3 \n",
       "      gamma:  10 \n",
       "     coef.0:  0 \n",
       "\n",
       "Number of Support Vectors:  91\n",
       "\n",
       " ( 48 43 )\n",
       "\n",
       "\n",
       "Number of Classes:  2 \n",
       "\n",
       "Levels: \n",
       " 0 1\n",
       "\n",
       "\n"
      ]
     },
     "metadata": {},
     "output_type": "display_data"
    }
   ],
   "source": [
    "summary(modelo_svm)"
   ]
  },
  {
   "cell_type": "code",
   "execution_count": 65,
   "metadata": {},
   "outputs": [],
   "source": [
    "abandonou = test_df$abandonou\n",
    "periodo = test_df$periodo \n",
    "bolsa = test_df$bolsa \n",
    "repetiu =  test_df$repetiu\n",
    "ematraso = test_df$ematraso \n",
    "disciplinas = test_df$disciplinas \n",
    "faltas = test_df$faltas\n",
    "desempenho = test_df$desempenho\n",
    "\n",
    "predicoes <- predict(modelo_svm, test_df)"
   ]
  },
  {
   "cell_type": "code",
   "execution_count": 66,
   "metadata": {},
   "outputs": [
    {
     "data": {
      "text/html": [
       "<dl class=dl-horizontal>\n",
       "\t<dt>3</dt>\n",
       "\t\t<dd>0</dd>\n",
       "\t<dt>4</dt>\n",
       "\t\t<dd>1</dd>\n",
       "\t<dt>7</dt>\n",
       "\t\t<dd>1</dd>\n",
       "\t<dt>9</dt>\n",
       "\t\t<dd>1</dd>\n",
       "\t<dt>11</dt>\n",
       "\t\t<dd>1</dd>\n",
       "\t<dt>17</dt>\n",
       "\t\t<dd>0</dd>\n",
       "</dl>\n"
      ],
      "text/latex": [
       "\\begin{description*}\n",
       "\\item[3] 0\n",
       "\\item[4] 1\n",
       "\\item[7] 1\n",
       "\\item[9] 1\n",
       "\\item[11] 1\n",
       "\\item[17] 0\n",
       "\\end{description*}\n"
      ],
      "text/markdown": [
       "3\n",
       ":   04\n",
       ":   17\n",
       ":   19\n",
       ":   111\n",
       ":   117\n",
       ":   0\n",
       "\n"
      ],
      "text/plain": [
       " 3  4  7  9 11 17 \n",
       " 0  1  1  1  1  0 \n",
       "Levels: 0 1"
      ]
     },
     "metadata": {},
     "output_type": "display_data"
    }
   ],
   "source": [
    "head(predicoes)"
   ]
  },
  {
   "cell_type": "code",
   "execution_count": 67,
   "metadata": {},
   "outputs": [],
   "source": [
    "df_predicao <- data.frame(desempenho = test_df$desempenho, \n",
    "                          repetiu = test_df$repetiu, \n",
    "                          abandonou_obs = test_df$abandonou, \n",
    "                          abandonou_pred = predicoes)"
   ]
  },
  {
   "cell_type": "code",
   "execution_count": 68,
   "metadata": {},
   "outputs": [
    {
     "data": {
      "text/html": [
       "<table>\n",
       "<thead><tr><th></th><th scope=col>desempenho</th><th scope=col>repetiu</th><th scope=col>abandonou_obs</th><th scope=col>abandonou_pred</th></tr></thead>\n",
       "<tbody>\n",
       "\t<tr><th scope=row>3</th><td>8.000000</td><td>0       </td><td>0       </td><td>0       </td></tr>\n",
       "\t<tr><th scope=row>4</th><td>4.000000</td><td>8       </td><td>1       </td><td>1       </td></tr>\n",
       "\t<tr><th scope=row>7</th><td>2.000000</td><td>6       </td><td>0       </td><td>1       </td></tr>\n",
       "\t<tr><th scope=row>9</th><td>2.800000</td><td>7       </td><td>0       </td><td>1       </td></tr>\n",
       "\t<tr><th scope=row>11</th><td>2.666667</td><td>5       </td><td>0       </td><td>1       </td></tr>\n",
       "\t<tr><th scope=row>17</th><td>9.000000</td><td>0       </td><td>0       </td><td>0       </td></tr>\n",
       "</tbody>\n",
       "</table>\n"
      ],
      "text/latex": [
       "\\begin{tabular}{r|llll}\n",
       "  & desempenho & repetiu & abandonou\\_obs & abandonou\\_pred\\\\\n",
       "\\hline\n",
       "\t3 & 8.000000 & 0        & 0        & 0       \\\\\n",
       "\t4 & 4.000000 & 8        & 1        & 1       \\\\\n",
       "\t7 & 2.000000 & 6        & 0        & 1       \\\\\n",
       "\t9 & 2.800000 & 7        & 0        & 1       \\\\\n",
       "\t11 & 2.666667 & 5        & 0        & 1       \\\\\n",
       "\t17 & 9.000000 & 0        & 0        & 0       \\\\\n",
       "\\end{tabular}\n"
      ],
      "text/markdown": [
       "\n",
       "| <!--/--> | desempenho | repetiu | abandonou_obs | abandonou_pred | \n",
       "|---|---|---|---|---|---|\n",
       "| 3 | 8.000000 | 0        | 0        | 0        | \n",
       "| 4 | 4.000000 | 8        | 1        | 1        | \n",
       "| 7 | 2.000000 | 6        | 0        | 1        | \n",
       "| 9 | 2.800000 | 7        | 0        | 1        | \n",
       "| 11 | 2.666667 | 5        | 0        | 1        | \n",
       "| 17 | 9.000000 | 0        | 0        | 0        | \n",
       "\n",
       "\n"
      ],
      "text/plain": [
       "   desempenho repetiu abandonou_obs abandonou_pred\n",
       "3  8.000000   0       0             0             \n",
       "4  4.000000   8       1             1             \n",
       "7  2.000000   6       0             1             \n",
       "9  2.800000   7       0             1             \n",
       "11 2.666667   5       0             1             \n",
       "17 9.000000   0       0             0             "
      ]
     },
     "metadata": {},
     "output_type": "display_data"
    }
   ],
   "source": [
    "head(df_predicao)"
   ]
  },
  {
   "cell_type": "code",
   "execution_count": 69,
   "metadata": {},
   "outputs": [
    {
     "data": {
      "text/html": [
       "61.3333333333333"
      ],
      "text/latex": [
       "61.3333333333333"
      ],
      "text/markdown": [
       "61.3333333333333"
      ],
      "text/plain": [
       "[1] 61.33333"
      ]
     },
     "metadata": {},
     "output_type": "display_data"
    }
   ],
   "source": [
    "erros <- test_df$abandonou != predicoes\n",
    "qtdErros <- sum(erros)\n",
    "percErros <- qtdErros / length(test_df$abandonou)\n",
    "acuracia <- (1 - percErros) * 100\n",
    "acuracia"
   ]
  },
  {
   "cell_type": "code",
   "execution_count": null,
   "metadata": {},
   "outputs": [],
   "source": []
  }
 ],
 "metadata": {
  "kernelspec": {
   "display_name": "R",
   "language": "R",
   "name": "ir"
  },
  "language_info": {
   "codemirror_mode": "r",
   "file_extension": ".r",
   "mimetype": "text/x-r-source",
   "name": "R",
   "pygments_lexer": "r",
   "version": "3.4.2"
  }
 },
 "nbformat": 4,
 "nbformat_minor": 2
}
