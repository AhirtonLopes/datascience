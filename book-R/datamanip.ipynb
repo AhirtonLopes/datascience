{
 "cells": [
  {
   "cell_type": "markdown",
   "metadata": {},
   "source": [
    "# Manipulação de dados"
   ]
  },
  {
   "cell_type": "code",
   "execution_count": null,
   "metadata": {
    "collapsed": true
   },
   "outputs": [],
   "source": [
    "# install.packages('tidyverse')"
   ]
  },
  {
   "cell_type": "markdown",
   "metadata": {},
   "source": [
    "# Usando o **dplyr**"
   ]
  },
  {
   "cell_type": "code",
   "execution_count": 1,
   "metadata": {},
   "outputs": [
    {
     "name": "stderr",
     "output_type": "stream",
     "text": [
      "\n",
      "Attaching package: ‘dplyr’\n",
      "\n",
      "The following objects are masked from ‘package:stats’:\n",
      "\n",
      "    filter, lag\n",
      "\n",
      "The following objects are masked from ‘package:base’:\n",
      "\n",
      "    intersect, setdiff, setequal, union\n",
      "\n"
     ]
    }
   ],
   "source": [
    "\n",
    "library(dplyr)"
   ]
  },
  {
   "cell_type": "code",
   "execution_count": 2,
   "metadata": {},
   "outputs": [
    {
     "name": "stdout",
     "output_type": "stream",
     "text": [
      "'data.frame':\t32 obs. of  11 variables:\n",
      " $ mpg : num  21 21 22.8 21.4 18.7 18.1 14.3 24.4 22.8 19.2 ...\n",
      " $ cyl : num  6 6 4 6 8 6 8 4 4 6 ...\n",
      " $ disp: num  160 160 108 258 360 ...\n",
      " $ hp  : num  110 110 93 110 175 105 245 62 95 123 ...\n",
      " $ drat: num  3.9 3.9 3.85 3.08 3.15 2.76 3.21 3.69 3.92 3.92 ...\n",
      " $ wt  : num  2.62 2.88 2.32 3.21 3.44 ...\n",
      " $ qsec: num  16.5 17 18.6 19.4 17 ...\n",
      " $ vs  : num  0 0 1 1 0 1 0 1 1 1 ...\n",
      " $ am  : num  1 1 1 0 0 0 0 0 0 0 ...\n",
      " $ gear: num  4 4 4 3 3 3 3 4 4 4 ...\n",
      " $ carb: num  4 4 1 1 2 1 4 2 2 4 ...\n"
     ]
    }
   ],
   "source": [
    "df <- mtcars\n",
    "str(df)"
   ]
  },
  {
   "cell_type": "code",
   "execution_count": 3,
   "metadata": {},
   "outputs": [
    {
     "data": {
      "text/html": [
       "<table>\n",
       "<thead><tr><th scope=col>mpg</th><th scope=col>cyl</th><th scope=col>disp</th><th scope=col>hp</th><th scope=col>drat</th><th scope=col>wt</th><th scope=col>qsec</th><th scope=col>vs</th><th scope=col>am</th><th scope=col>gear</th><th scope=col>carb</th></tr></thead>\n",
       "<tbody>\n",
       "\t<tr><td>21.0 </td><td>6    </td><td>160.0</td><td>110  </td><td>3.90 </td><td>2.620</td><td>16.46</td><td>0    </td><td>1    </td><td>4    </td><td>4    </td></tr>\n",
       "\t<tr><td>21.0 </td><td>6    </td><td>160.0</td><td>110  </td><td>3.90 </td><td>2.875</td><td>17.02</td><td>0    </td><td>1    </td><td>4    </td><td>4    </td></tr>\n",
       "\t<tr><td>21.4 </td><td>6    </td><td>258.0</td><td>110  </td><td>3.08 </td><td>3.215</td><td>19.44</td><td>1    </td><td>0    </td><td>3    </td><td>1    </td></tr>\n",
       "\t<tr><td>18.1 </td><td>6    </td><td>225.0</td><td>105  </td><td>2.76 </td><td>3.460</td><td>20.22</td><td>1    </td><td>0    </td><td>3    </td><td>1    </td></tr>\n",
       "\t<tr><td>19.2 </td><td>6    </td><td>167.6</td><td>123  </td><td>3.92 </td><td>3.440</td><td>18.30</td><td>1    </td><td>0    </td><td>4    </td><td>4    </td></tr>\n",
       "\t<tr><td>17.8 </td><td>6    </td><td>167.6</td><td>123  </td><td>3.92 </td><td>3.440</td><td>18.90</td><td>1    </td><td>0    </td><td>4    </td><td>4    </td></tr>\n",
       "</tbody>\n",
       "</table>\n"
      ],
      "text/latex": [
       "\\begin{tabular}{r|lllllllllll}\n",
       " mpg & cyl & disp & hp & drat & wt & qsec & vs & am & gear & carb\\\\\n",
       "\\hline\n",
       "\t 21.0  & 6     & 160.0 & 110   & 3.90  & 2.620 & 16.46 & 0     & 1     & 4     & 4    \\\\\n",
       "\t 21.0  & 6     & 160.0 & 110   & 3.90  & 2.875 & 17.02 & 0     & 1     & 4     & 4    \\\\\n",
       "\t 21.4  & 6     & 258.0 & 110   & 3.08  & 3.215 & 19.44 & 1     & 0     & 3     & 1    \\\\\n",
       "\t 18.1  & 6     & 225.0 & 105   & 2.76  & 3.460 & 20.22 & 1     & 0     & 3     & 1    \\\\\n",
       "\t 19.2  & 6     & 167.6 & 123   & 3.92  & 3.440 & 18.30 & 1     & 0     & 4     & 4    \\\\\n",
       "\t 17.8  & 6     & 167.6 & 123   & 3.92  & 3.440 & 18.90 & 1     & 0     & 4     & 4    \\\\\n",
       "\\end{tabular}\n"
      ],
      "text/markdown": [
       "\n",
       "mpg | cyl | disp | hp | drat | wt | qsec | vs | am | gear | carb | \n",
       "|---|---|---|---|---|---|\n",
       "| 21.0  | 6     | 160.0 | 110   | 3.90  | 2.620 | 16.46 | 0     | 1     | 4     | 4     | \n",
       "| 21.0  | 6     | 160.0 | 110   | 3.90  | 2.875 | 17.02 | 0     | 1     | 4     | 4     | \n",
       "| 21.4  | 6     | 258.0 | 110   | 3.08  | 3.215 | 19.44 | 1     | 0     | 3     | 1     | \n",
       "| 18.1  | 6     | 225.0 | 105   | 2.76  | 3.460 | 20.22 | 1     | 0     | 3     | 1     | \n",
       "| 19.2  | 6     | 167.6 | 123   | 3.92  | 3.440 | 18.30 | 1     | 0     | 4     | 4     | \n",
       "| 17.8  | 6     | 167.6 | 123   | 3.92  | 3.440 | 18.90 | 1     | 0     | 4     | 4     | \n",
       "\n",
       "\n"
      ],
      "text/plain": [
       "  mpg  cyl disp  hp  drat wt    qsec  vs am gear carb\n",
       "1 21.0 6   160.0 110 3.90 2.620 16.46 0  1  4    4   \n",
       "2 21.0 6   160.0 110 3.90 2.875 17.02 0  1  4    4   \n",
       "3 21.4 6   258.0 110 3.08 3.215 19.44 1  0  3    1   \n",
       "4 18.1 6   225.0 105 2.76 3.460 20.22 1  0  3    1   \n",
       "5 19.2 6   167.6 123 3.92 3.440 18.30 1  0  4    4   \n",
       "6 17.8 6   167.6 123 3.92 3.440 18.90 1  0  4    4   "
      ]
     },
     "metadata": {},
     "output_type": "display_data"
    }
   ],
   "source": [
    "# Filtrando apenas os registros com determinadas condições:\n",
    "head(filter(df,cyl<8,hp>100))"
   ]
  },
  {
   "cell_type": "code",
   "execution_count": 4,
   "metadata": {
    "collapsed": true
   },
   "outputs": [],
   "source": [
    "# Usando o resultado para criar outro DataFrame:\n",
    "df2 <- filter(df,cyl<8,hp>100)"
   ]
  },
  {
   "cell_type": "code",
   "execution_count": 6,
   "metadata": {},
   "outputs": [
    {
     "data": {
      "text/html": [
       "<table>\n",
       "<thead><tr><th scope=col>mpg</th><th scope=col>cyl</th><th scope=col>disp</th><th scope=col>hp</th><th scope=col>drat</th><th scope=col>wt</th><th scope=col>qsec</th><th scope=col>vs</th><th scope=col>am</th><th scope=col>gear</th><th scope=col>carb</th></tr></thead>\n",
       "<tbody>\n",
       "\t<tr><td>19.2 </td><td>6    </td><td>167.6</td><td>123  </td><td>3.92 </td><td>3.440</td><td>18.30</td><td>1    </td><td>0    </td><td>4    </td><td>4    </td></tr>\n",
       "\t<tr><td>17.8 </td><td>6    </td><td>167.6</td><td>123  </td><td>3.92 </td><td>3.440</td><td>18.90</td><td>1    </td><td>0    </td><td>4    </td><td>4    </td></tr>\n",
       "\t<tr><td>16.4 </td><td>8    </td><td>275.8</td><td>180  </td><td>3.07 </td><td>4.070</td><td>17.40</td><td>0    </td><td>0    </td><td>3    </td><td>3    </td></tr>\n",
       "\t<tr><td>17.3 </td><td>8    </td><td>275.8</td><td>180  </td><td>3.07 </td><td>3.730</td><td>17.60</td><td>0    </td><td>0    </td><td>3    </td><td>3    </td></tr>\n",
       "\t<tr><td>15.2 </td><td>8    </td><td>275.8</td><td>180  </td><td>3.07 </td><td>3.780</td><td>18.00</td><td>0    </td><td>0    </td><td>3    </td><td>3    </td></tr>\n",
       "\t<tr><td>10.4 </td><td>8    </td><td>472.0</td><td>205  </td><td>2.93 </td><td>5.250</td><td>17.98</td><td>0    </td><td>0    </td><td>3    </td><td>4    </td></tr>\n",
       "\t<tr><td>10.4 </td><td>8    </td><td>460.0</td><td>215  </td><td>3.00 </td><td>5.424</td><td>17.82</td><td>0    </td><td>0    </td><td>3    </td><td>4    </td></tr>\n",
       "\t<tr><td>14.7 </td><td>8    </td><td>440.0</td><td>230  </td><td>3.23 </td><td>5.345</td><td>17.42</td><td>0    </td><td>0    </td><td>3    </td><td>4    </td></tr>\n",
       "\t<tr><td>32.4 </td><td>4    </td><td> 78.7</td><td> 66  </td><td>4.08 </td><td>2.200</td><td>19.47</td><td>1    </td><td>1    </td><td>4    </td><td>1    </td></tr>\n",
       "\t<tr><td>30.4 </td><td>4    </td><td> 75.7</td><td> 52  </td><td>4.93 </td><td>1.615</td><td>18.52</td><td>1    </td><td>1    </td><td>4    </td><td>2    </td></tr>\n",
       "\t<tr><td>33.9 </td><td>4    </td><td> 71.1</td><td> 65  </td><td>4.22 </td><td>1.835</td><td>19.90</td><td>1    </td><td>1    </td><td>4    </td><td>1    </td></tr>\n",
       "</tbody>\n",
       "</table>\n"
      ],
      "text/latex": [
       "\\begin{tabular}{r|lllllllllll}\n",
       " mpg & cyl & disp & hp & drat & wt & qsec & vs & am & gear & carb\\\\\n",
       "\\hline\n",
       "\t 19.2  & 6     & 167.6 & 123   & 3.92  & 3.440 & 18.30 & 1     & 0     & 4     & 4    \\\\\n",
       "\t 17.8  & 6     & 167.6 & 123   & 3.92  & 3.440 & 18.90 & 1     & 0     & 4     & 4    \\\\\n",
       "\t 16.4  & 8     & 275.8 & 180   & 3.07  & 4.070 & 17.40 & 0     & 0     & 3     & 3    \\\\\n",
       "\t 17.3  & 8     & 275.8 & 180   & 3.07  & 3.730 & 17.60 & 0     & 0     & 3     & 3    \\\\\n",
       "\t 15.2  & 8     & 275.8 & 180   & 3.07  & 3.780 & 18.00 & 0     & 0     & 3     & 3    \\\\\n",
       "\t 10.4  & 8     & 472.0 & 205   & 2.93  & 5.250 & 17.98 & 0     & 0     & 3     & 4    \\\\\n",
       "\t 10.4  & 8     & 460.0 & 215   & 3.00  & 5.424 & 17.82 & 0     & 0     & 3     & 4    \\\\\n",
       "\t 14.7  & 8     & 440.0 & 230   & 3.23  & 5.345 & 17.42 & 0     & 0     & 3     & 4    \\\\\n",
       "\t 32.4  & 4     &  78.7 &  66   & 4.08  & 2.200 & 19.47 & 1     & 1     & 4     & 1    \\\\\n",
       "\t 30.4  & 4     &  75.7 &  52   & 4.93  & 1.615 & 18.52 & 1     & 1     & 4     & 2    \\\\\n",
       "\t 33.9  & 4     &  71.1 &  65   & 4.22  & 1.835 & 19.90 & 1     & 1     & 4     & 1    \\\\\n",
       "\\end{tabular}\n"
      ],
      "text/markdown": [
       "\n",
       "mpg | cyl | disp | hp | drat | wt | qsec | vs | am | gear | carb | \n",
       "|---|---|---|---|---|---|---|---|---|---|---|\n",
       "| 19.2  | 6     | 167.6 | 123   | 3.92  | 3.440 | 18.30 | 1     | 0     | 4     | 4     | \n",
       "| 17.8  | 6     | 167.6 | 123   | 3.92  | 3.440 | 18.90 | 1     | 0     | 4     | 4     | \n",
       "| 16.4  | 8     | 275.8 | 180   | 3.07  | 4.070 | 17.40 | 0     | 0     | 3     | 3     | \n",
       "| 17.3  | 8     | 275.8 | 180   | 3.07  | 3.730 | 17.60 | 0     | 0     | 3     | 3     | \n",
       "| 15.2  | 8     | 275.8 | 180   | 3.07  | 3.780 | 18.00 | 0     | 0     | 3     | 3     | \n",
       "| 10.4  | 8     | 472.0 | 205   | 2.93  | 5.250 | 17.98 | 0     | 0     | 3     | 4     | \n",
       "| 10.4  | 8     | 460.0 | 215   | 3.00  | 5.424 | 17.82 | 0     | 0     | 3     | 4     | \n",
       "| 14.7  | 8     | 440.0 | 230   | 3.23  | 5.345 | 17.42 | 0     | 0     | 3     | 4     | \n",
       "| 32.4  | 4     |  78.7 |  66   | 4.08  | 2.200 | 19.47 | 1     | 1     | 4     | 1     | \n",
       "| 30.4  | 4     |  75.7 |  52   | 4.93  | 1.615 | 18.52 | 1     | 1     | 4     | 2     | \n",
       "| 33.9  | 4     |  71.1 |  65   | 4.22  | 1.835 | 19.90 | 1     | 1     | 4     | 1     | \n",
       "\n",
       "\n"
      ],
      "text/plain": [
       "   mpg  cyl disp  hp  drat wt    qsec  vs am gear carb\n",
       "1  19.2 6   167.6 123 3.92 3.440 18.30 1  0  4    4   \n",
       "2  17.8 6   167.6 123 3.92 3.440 18.90 1  0  4    4   \n",
       "3  16.4 8   275.8 180 3.07 4.070 17.40 0  0  3    3   \n",
       "4  17.3 8   275.8 180 3.07 3.730 17.60 0  0  3    3   \n",
       "5  15.2 8   275.8 180 3.07 3.780 18.00 0  0  3    3   \n",
       "6  10.4 8   472.0 205 2.93 5.250 17.98 0  0  3    4   \n",
       "7  10.4 8   460.0 215 3.00 5.424 17.82 0  0  3    4   \n",
       "8  14.7 8   440.0 230 3.23 5.345 17.42 0  0  3    4   \n",
       "9  32.4 4    78.7  66 4.08 2.200 19.47 1  1  4    1   \n",
       "10 30.4 4    75.7  52 4.93 1.615 18.52 1  1  4    2   \n",
       "11 33.9 4    71.1  65 4.22 1.835 19.90 1  1  4    1   "
      ]
     },
     "metadata": {},
     "output_type": "display_data"
    }
   ],
   "source": [
    "# Pegando partes de um DataFrame. Da linha 10 à linha 20 (inclusive) - 11 linhas:\n",
    "slice(df,10:20)"
   ]
  },
  {
   "cell_type": "code",
   "execution_count": 7,
   "metadata": {},
   "outputs": [
    {
     "data": {
      "text/html": [
       "<table>\n",
       "<thead><tr><th scope=col>mpg</th><th scope=col>cyl</th><th scope=col>disp</th><th scope=col>hp</th><th scope=col>drat</th><th scope=col>wt</th><th scope=col>qsec</th><th scope=col>vs</th><th scope=col>am</th><th scope=col>gear</th><th scope=col>carb</th></tr></thead>\n",
       "<tbody>\n",
       "\t<tr><td>21.4 </td><td>4    </td><td>121.0</td><td>109  </td><td>4.11 </td><td>2.780</td><td>18.60</td><td>1    </td><td>1    </td><td>4    </td><td>2    </td></tr>\n",
       "\t<tr><td>21.5 </td><td>4    </td><td>120.1</td><td> 97  </td><td>3.70 </td><td>2.465</td><td>20.01</td><td>1    </td><td>0    </td><td>3    </td><td>1    </td></tr>\n",
       "\t<tr><td>22.8 </td><td>4    </td><td>108.0</td><td> 93  </td><td>3.85 </td><td>2.320</td><td>18.61</td><td>1    </td><td>1    </td><td>4    </td><td>1    </td></tr>\n",
       "\t<tr><td>22.8 </td><td>4    </td><td>140.8</td><td> 95  </td><td>3.92 </td><td>3.150</td><td>22.90</td><td>1    </td><td>0    </td><td>4    </td><td>2    </td></tr>\n",
       "\t<tr><td>24.4 </td><td>4    </td><td>146.7</td><td> 62  </td><td>3.69 </td><td>3.190</td><td>20.00</td><td>1    </td><td>0    </td><td>4    </td><td>2    </td></tr>\n",
       "\t<tr><td>26.0 </td><td>4    </td><td>120.3</td><td> 91  </td><td>4.43 </td><td>2.140</td><td>16.70</td><td>0    </td><td>1    </td><td>5    </td><td>2    </td></tr>\n",
       "</tbody>\n",
       "</table>\n"
      ],
      "text/latex": [
       "\\begin{tabular}{r|lllllllllll}\n",
       " mpg & cyl & disp & hp & drat & wt & qsec & vs & am & gear & carb\\\\\n",
       "\\hline\n",
       "\t 21.4  & 4     & 121.0 & 109   & 4.11  & 2.780 & 18.60 & 1     & 1     & 4     & 2    \\\\\n",
       "\t 21.5  & 4     & 120.1 &  97   & 3.70  & 2.465 & 20.01 & 1     & 0     & 3     & 1    \\\\\n",
       "\t 22.8  & 4     & 108.0 &  93   & 3.85  & 2.320 & 18.61 & 1     & 1     & 4     & 1    \\\\\n",
       "\t 22.8  & 4     & 140.8 &  95   & 3.92  & 3.150 & 22.90 & 1     & 0     & 4     & 2    \\\\\n",
       "\t 24.4  & 4     & 146.7 &  62   & 3.69  & 3.190 & 20.00 & 1     & 0     & 4     & 2    \\\\\n",
       "\t 26.0  & 4     & 120.3 &  91   & 4.43  & 2.140 & 16.70 & 0     & 1     & 5     & 2    \\\\\n",
       "\\end{tabular}\n"
      ],
      "text/markdown": [
       "\n",
       "mpg | cyl | disp | hp | drat | wt | qsec | vs | am | gear | carb | \n",
       "|---|---|---|---|---|---|\n",
       "| 21.4  | 4     | 121.0 | 109   | 4.11  | 2.780 | 18.60 | 1     | 1     | 4     | 2     | \n",
       "| 21.5  | 4     | 120.1 |  97   | 3.70  | 2.465 | 20.01 | 1     | 0     | 3     | 1     | \n",
       "| 22.8  | 4     | 108.0 |  93   | 3.85  | 2.320 | 18.61 | 1     | 1     | 4     | 1     | \n",
       "| 22.8  | 4     | 140.8 |  95   | 3.92  | 3.150 | 22.90 | 1     | 0     | 4     | 2     | \n",
       "| 24.4  | 4     | 146.7 |  62   | 3.69  | 3.190 | 20.00 | 1     | 0     | 4     | 2     | \n",
       "| 26.0  | 4     | 120.3 |  91   | 4.43  | 2.140 | 16.70 | 0     | 1     | 5     | 2     | \n",
       "\n",
       "\n"
      ],
      "text/plain": [
       "  mpg  cyl disp  hp  drat wt    qsec  vs am gear carb\n",
       "1 21.4 4   121.0 109 4.11 2.780 18.60 1  1  4    2   \n",
       "2 21.5 4   120.1  97 3.70 2.465 20.01 1  0  3    1   \n",
       "3 22.8 4   108.0  93 3.85 2.320 18.61 1  1  4    1   \n",
       "4 22.8 4   140.8  95 3.92 3.150 22.90 1  0  4    2   \n",
       "5 24.4 4   146.7  62 3.69 3.190 20.00 1  0  4    2   \n",
       "6 26.0 4   120.3  91 4.43 2.140 16.70 0  1  5    2   "
      ]
     },
     "metadata": {},
     "output_type": "display_data"
    }
   ],
   "source": [
    "# Classificando por cyl e depois por mpg:\n",
    "head(arrange(df,cyl,mpg))"
   ]
  },
  {
   "cell_type": "code",
   "execution_count": 9,
   "metadata": {},
   "outputs": [
    {
     "data": {
      "text/html": [
       "<table>\n",
       "<thead><tr><th scope=col>mpg</th><th scope=col>cyl</th><th scope=col>disp</th><th scope=col>hp</th><th scope=col>drat</th><th scope=col>wt</th><th scope=col>qsec</th><th scope=col>vs</th><th scope=col>am</th><th scope=col>gear</th><th scope=col>carb</th></tr></thead>\n",
       "<tbody>\n",
       "\t<tr><td>33.9 </td><td>4    </td><td> 71.1</td><td> 65  </td><td>4.22 </td><td>1.835</td><td>19.90</td><td>1    </td><td>1    </td><td>4    </td><td>1    </td></tr>\n",
       "\t<tr><td>32.4 </td><td>4    </td><td> 78.7</td><td> 66  </td><td>4.08 </td><td>2.200</td><td>19.47</td><td>1    </td><td>1    </td><td>4    </td><td>1    </td></tr>\n",
       "\t<tr><td>30.4 </td><td>4    </td><td> 75.7</td><td> 52  </td><td>4.93 </td><td>1.615</td><td>18.52</td><td>1    </td><td>1    </td><td>4    </td><td>2    </td></tr>\n",
       "\t<tr><td>30.4 </td><td>4    </td><td> 95.1</td><td>113  </td><td>3.77 </td><td>1.513</td><td>16.90</td><td>1    </td><td>1    </td><td>5    </td><td>2    </td></tr>\n",
       "\t<tr><td>27.3 </td><td>4    </td><td> 79.0</td><td> 66  </td><td>4.08 </td><td>1.935</td><td>18.90</td><td>1    </td><td>1    </td><td>4    </td><td>1    </td></tr>\n",
       "\t<tr><td>26.0 </td><td>4    </td><td>120.3</td><td> 91  </td><td>4.43 </td><td>2.140</td><td>16.70</td><td>0    </td><td>1    </td><td>5    </td><td>2    </td></tr>\n",
       "</tbody>\n",
       "</table>\n"
      ],
      "text/latex": [
       "\\begin{tabular}{r|lllllllllll}\n",
       " mpg & cyl & disp & hp & drat & wt & qsec & vs & am & gear & carb\\\\\n",
       "\\hline\n",
       "\t 33.9  & 4     &  71.1 &  65   & 4.22  & 1.835 & 19.90 & 1     & 1     & 4     & 1    \\\\\n",
       "\t 32.4  & 4     &  78.7 &  66   & 4.08  & 2.200 & 19.47 & 1     & 1     & 4     & 1    \\\\\n",
       "\t 30.4  & 4     &  75.7 &  52   & 4.93  & 1.615 & 18.52 & 1     & 1     & 4     & 2    \\\\\n",
       "\t 30.4  & 4     &  95.1 & 113   & 3.77  & 1.513 & 16.90 & 1     & 1     & 5     & 2    \\\\\n",
       "\t 27.3  & 4     &  79.0 &  66   & 4.08  & 1.935 & 18.90 & 1     & 1     & 4     & 1    \\\\\n",
       "\t 26.0  & 4     & 120.3 &  91   & 4.43  & 2.140 & 16.70 & 0     & 1     & 5     & 2    \\\\\n",
       "\\end{tabular}\n"
      ],
      "text/markdown": [
       "\n",
       "mpg | cyl | disp | hp | drat | wt | qsec | vs | am | gear | carb | \n",
       "|---|---|---|---|---|---|\n",
       "| 33.9  | 4     |  71.1 |  65   | 4.22  | 1.835 | 19.90 | 1     | 1     | 4     | 1     | \n",
       "| 32.4  | 4     |  78.7 |  66   | 4.08  | 2.200 | 19.47 | 1     | 1     | 4     | 1     | \n",
       "| 30.4  | 4     |  75.7 |  52   | 4.93  | 1.615 | 18.52 | 1     | 1     | 4     | 2     | \n",
       "| 30.4  | 4     |  95.1 | 113   | 3.77  | 1.513 | 16.90 | 1     | 1     | 5     | 2     | \n",
       "| 27.3  | 4     |  79.0 |  66   | 4.08  | 1.935 | 18.90 | 1     | 1     | 4     | 1     | \n",
       "| 26.0  | 4     | 120.3 |  91   | 4.43  | 2.140 | 16.70 | 0     | 1     | 5     | 2     | \n",
       "\n",
       "\n"
      ],
      "text/plain": [
       "  mpg  cyl disp  hp  drat wt    qsec  vs am gear carb\n",
       "1 33.9 4    71.1  65 4.22 1.835 19.90 1  1  4    1   \n",
       "2 32.4 4    78.7  66 4.08 2.200 19.47 1  1  4    1   \n",
       "3 30.4 4    75.7  52 4.93 1.615 18.52 1  1  4    2   \n",
       "4 30.4 4    95.1 113 3.77 1.513 16.90 1  1  5    2   \n",
       "5 27.3 4    79.0  66 4.08 1.935 18.90 1  1  4    1   \n",
       "6 26.0 4   120.3  91 4.43 2.140 16.70 0  1  5    2   "
      ]
     },
     "metadata": {},
     "output_type": "display_data"
    }
   ],
   "source": [
    "# Os carros que consomem menos (do mpg maior para o menor)\n",
    "head(arrange(df,desc(mpg)))"
   ]
  },
  {
   "cell_type": "code",
   "execution_count": 11,
   "metadata": {},
   "outputs": [],
   "source": [
    "# Selecionando colunas e criando outro DataFrame:\n",
    "carros <- select(df,cyl,hp)"
   ]
  },
  {
   "cell_type": "code",
   "execution_count": 12,
   "metadata": {},
   "outputs": [
    {
     "data": {
      "text/html": [
       "<table>\n",
       "<thead><tr><th></th><th scope=col>cyl</th><th scope=col>hp</th></tr></thead>\n",
       "<tbody>\n",
       "\t<tr><th scope=row>Mazda RX4</th><td>6  </td><td>110</td></tr>\n",
       "\t<tr><th scope=row>Mazda RX4 Wag</th><td>6  </td><td>110</td></tr>\n",
       "\t<tr><th scope=row>Datsun 710</th><td>4  </td><td> 93</td></tr>\n",
       "\t<tr><th scope=row>Hornet 4 Drive</th><td>6  </td><td>110</td></tr>\n",
       "\t<tr><th scope=row>Hornet Sportabout</th><td>8  </td><td>175</td></tr>\n",
       "\t<tr><th scope=row>Valiant</th><td>6  </td><td>105</td></tr>\n",
       "</tbody>\n",
       "</table>\n"
      ],
      "text/latex": [
       "\\begin{tabular}{r|ll}\n",
       "  & cyl & hp\\\\\n",
       "\\hline\n",
       "\tMazda RX4 & 6   & 110\\\\\n",
       "\tMazda RX4 Wag & 6   & 110\\\\\n",
       "\tDatsun 710 & 4   &  93\\\\\n",
       "\tHornet 4 Drive & 6   & 110\\\\\n",
       "\tHornet Sportabout & 8   & 175\\\\\n",
       "\tValiant & 6   & 105\\\\\n",
       "\\end{tabular}\n"
      ],
      "text/markdown": [
       "\n",
       "| <!--/--> | cyl | hp | \n",
       "|---|---|---|---|---|---|\n",
       "| Mazda RX4 | 6   | 110 | \n",
       "| Mazda RX4 Wag | 6   | 110 | \n",
       "| Datsun 710 | 4   |  93 | \n",
       "| Hornet 4 Drive | 6   | 110 | \n",
       "| Hornet Sportabout | 8   | 175 | \n",
       "| Valiant | 6   | 105 | \n",
       "\n",
       "\n"
      ],
      "text/plain": [
       "                  cyl hp \n",
       "Mazda RX4         6   110\n",
       "Mazda RX4 Wag     6   110\n",
       "Datsun 710        4    93\n",
       "Hornet 4 Drive    6   110\n",
       "Hornet Sportabout 8   175\n",
       "Valiant           6   105"
      ]
     },
     "metadata": {},
     "output_type": "display_data"
    }
   ],
   "source": [
    "head(carros)"
   ]
  },
  {
   "cell_type": "code",
   "execution_count": 14,
   "metadata": {},
   "outputs": [
    {
     "data": {
      "text/html": [
       "<table>\n",
       "<thead><tr><th scope=col>cyl</th></tr></thead>\n",
       "<tbody>\n",
       "\t<tr><td>6</td></tr>\n",
       "\t<tr><td>4</td></tr>\n",
       "\t<tr><td>8</td></tr>\n",
       "</tbody>\n",
       "</table>\n"
      ],
      "text/latex": [
       "\\begin{tabular}{r|l}\n",
       " cyl\\\\\n",
       "\\hline\n",
       "\t 6\\\\\n",
       "\t 4\\\\\n",
       "\t 8\\\\\n",
       "\\end{tabular}\n"
      ],
      "text/markdown": [
       "\n",
       "cyl | \n",
       "|---|---|---|\n",
       "| 6 | \n",
       "| 4 | \n",
       "| 8 | \n",
       "\n",
       "\n"
      ],
      "text/plain": [
       "  cyl\n",
       "1 6  \n",
       "2 4  \n",
       "3 8  "
      ]
     },
     "metadata": {},
     "output_type": "display_data"
    }
   ],
   "source": [
    "# Quantos tipos de cilindros diferentes existem?\n",
    "distinct(select(df,cyl))"
   ]
  },
  {
   "cell_type": "code",
   "execution_count": 15,
   "metadata": {},
   "outputs": [
    {
     "data": {
      "text/html": [
       "<table>\n",
       "<thead><tr><th scope=col>mpg</th><th scope=col>cyl</th><th scope=col>disp</th><th scope=col>hp</th><th scope=col>drat</th><th scope=col>wt</th><th scope=col>qsec</th><th scope=col>vs</th><th scope=col>am</th><th scope=col>gear</th><th scope=col>carb</th><th scope=col>hp_cyl</th></tr></thead>\n",
       "<tbody>\n",
       "\t<tr><td>21.0    </td><td>6       </td><td>160     </td><td>110     </td><td>3.90    </td><td>2.620   </td><td>16.46   </td><td>0       </td><td>1       </td><td>4       </td><td>4       </td><td>18.33333</td></tr>\n",
       "\t<tr><td>21.0    </td><td>6       </td><td>160     </td><td>110     </td><td>3.90    </td><td>2.875   </td><td>17.02   </td><td>0       </td><td>1       </td><td>4       </td><td>4       </td><td>18.33333</td></tr>\n",
       "\t<tr><td>22.8    </td><td>4       </td><td>108     </td><td> 93     </td><td>3.85    </td><td>2.320   </td><td>18.61   </td><td>1       </td><td>1       </td><td>4       </td><td>1       </td><td>23.25000</td></tr>\n",
       "\t<tr><td>21.4    </td><td>6       </td><td>258     </td><td>110     </td><td>3.08    </td><td>3.215   </td><td>19.44   </td><td>1       </td><td>0       </td><td>3       </td><td>1       </td><td>18.33333</td></tr>\n",
       "\t<tr><td>18.7    </td><td>8       </td><td>360     </td><td>175     </td><td>3.15    </td><td>3.440   </td><td>17.02   </td><td>0       </td><td>0       </td><td>3       </td><td>2       </td><td>21.87500</td></tr>\n",
       "\t<tr><td>18.1    </td><td>6       </td><td>225     </td><td>105     </td><td>2.76    </td><td>3.460   </td><td>20.22   </td><td>1       </td><td>0       </td><td>3       </td><td>1       </td><td>17.50000</td></tr>\n",
       "</tbody>\n",
       "</table>\n"
      ],
      "text/latex": [
       "\\begin{tabular}{r|llllllllllll}\n",
       " mpg & cyl & disp & hp & drat & wt & qsec & vs & am & gear & carb & hp\\_cyl\\\\\n",
       "\\hline\n",
       "\t 21.0     & 6        & 160      & 110      & 3.90     & 2.620    & 16.46    & 0        & 1        & 4        & 4        & 18.33333\\\\\n",
       "\t 21.0     & 6        & 160      & 110      & 3.90     & 2.875    & 17.02    & 0        & 1        & 4        & 4        & 18.33333\\\\\n",
       "\t 22.8     & 4        & 108      &  93      & 3.85     & 2.320    & 18.61    & 1        & 1        & 4        & 1        & 23.25000\\\\\n",
       "\t 21.4     & 6        & 258      & 110      & 3.08     & 3.215    & 19.44    & 1        & 0        & 3        & 1        & 18.33333\\\\\n",
       "\t 18.7     & 8        & 360      & 175      & 3.15     & 3.440    & 17.02    & 0        & 0        & 3        & 2        & 21.87500\\\\\n",
       "\t 18.1     & 6        & 225      & 105      & 2.76     & 3.460    & 20.22    & 1        & 0        & 3        & 1        & 17.50000\\\\\n",
       "\\end{tabular}\n"
      ],
      "text/markdown": [
       "\n",
       "mpg | cyl | disp | hp | drat | wt | qsec | vs | am | gear | carb | hp_cyl | \n",
       "|---|---|---|---|---|---|\n",
       "| 21.0     | 6        | 160      | 110      | 3.90     | 2.620    | 16.46    | 0        | 1        | 4        | 4        | 18.33333 | \n",
       "| 21.0     | 6        | 160      | 110      | 3.90     | 2.875    | 17.02    | 0        | 1        | 4        | 4        | 18.33333 | \n",
       "| 22.8     | 4        | 108      |  93      | 3.85     | 2.320    | 18.61    | 1        | 1        | 4        | 1        | 23.25000 | \n",
       "| 21.4     | 6        | 258      | 110      | 3.08     | 3.215    | 19.44    | 1        | 0        | 3        | 1        | 18.33333 | \n",
       "| 18.7     | 8        | 360      | 175      | 3.15     | 3.440    | 17.02    | 0        | 0        | 3        | 2        | 21.87500 | \n",
       "| 18.1     | 6        | 225      | 105      | 2.76     | 3.460    | 20.22    | 1        | 0        | 3        | 1        | 17.50000 | \n",
       "\n",
       "\n"
      ],
      "text/plain": [
       "  mpg  cyl disp hp  drat wt    qsec  vs am gear carb hp_cyl  \n",
       "1 21.0 6   160  110 3.90 2.620 16.46 0  1  4    4    18.33333\n",
       "2 21.0 6   160  110 3.90 2.875 17.02 0  1  4    4    18.33333\n",
       "3 22.8 4   108   93 3.85 2.320 18.61 1  1  4    1    23.25000\n",
       "4 21.4 6   258  110 3.08 3.215 19.44 1  0  3    1    18.33333\n",
       "5 18.7 8   360  175 3.15 3.440 17.02 0  0  3    2    21.87500\n",
       "6 18.1 6   225  105 2.76 3.460 20.22 1  0  3    1    17.50000"
      ]
     },
     "metadata": {},
     "output_type": "display_data"
    }
   ],
   "source": [
    "# Criando uma nova coluna (hp por cilindro):\n",
    "head(mutate(df, hp_cyl = hp / cyl))"
   ]
  },
  {
   "cell_type": "code",
   "execution_count": 16,
   "metadata": {},
   "outputs": [
    {
     "data": {
      "text/html": [
       "<table>\n",
       "<thead><tr><th scope=col>Media_HP</th></tr></thead>\n",
       "<tbody>\n",
       "\t<tr><td>146.6875</td></tr>\n",
       "</tbody>\n",
       "</table>\n"
      ],
      "text/latex": [
       "\\begin{tabular}{r|l}\n",
       " Media\\_HP\\\\\n",
       "\\hline\n",
       "\t 146.6875\\\\\n",
       "\\end{tabular}\n"
      ],
      "text/markdown": [
       "\n",
       "Media_HP | \n",
       "|---|\n",
       "| 146.6875 | \n",
       "\n",
       "\n"
      ],
      "text/plain": [
       "  Media_HP\n",
       "1 146.6875"
      ]
     },
     "metadata": {},
     "output_type": "display_data"
    }
   ],
   "source": [
    "# Resumindo um DataFrame por agregação. Média de hp dos carros:\n",
    "summarise(df,Media_HP=mean(hp,na.rm=TRUE)) # na.rm=TRUE remove as linhas sem valores em HP"
   ]
  },
  {
   "cell_type": "markdown",
   "metadata": {},
   "source": [
    "## Operador PIPE \"%>%\""
   ]
  },
  {
   "cell_type": "code",
   "execution_count": 19,
   "metadata": {},
   "outputs": [
    {
     "data": {
      "text/html": [
       "<table>\n",
       "<thead><tr><th scope=col>mpg</th><th scope=col>hp</th><th scope=col>cyl</th></tr></thead>\n",
       "<tbody>\n",
       "\t<tr><td>33.9</td><td> 65 </td><td>4   </td></tr>\n",
       "\t<tr><td>32.4</td><td> 66 </td><td>4   </td></tr>\n",
       "\t<tr><td>30.4</td><td> 52 </td><td>4   </td></tr>\n",
       "\t<tr><td>30.4</td><td>113 </td><td>4   </td></tr>\n",
       "\t<tr><td>27.3</td><td> 66 </td><td>4   </td></tr>\n",
       "\t<tr><td>26.0</td><td> 91 </td><td>4   </td></tr>\n",
       "</tbody>\n",
       "</table>\n"
      ],
      "text/latex": [
       "\\begin{tabular}{r|lll}\n",
       " mpg & hp & cyl\\\\\n",
       "\\hline\n",
       "\t 33.9 &  65  & 4   \\\\\n",
       "\t 32.4 &  66  & 4   \\\\\n",
       "\t 30.4 &  52  & 4   \\\\\n",
       "\t 30.4 & 113  & 4   \\\\\n",
       "\t 27.3 &  66  & 4   \\\\\n",
       "\t 26.0 &  91  & 4   \\\\\n",
       "\\end{tabular}\n"
      ],
      "text/markdown": [
       "\n",
       "mpg | hp | cyl | \n",
       "|---|---|---|---|---|---|\n",
       "| 33.9 |  65  | 4    | \n",
       "| 32.4 |  66  | 4    | \n",
       "| 30.4 |  52  | 4    | \n",
       "| 30.4 | 113  | 4    | \n",
       "| 27.3 |  66  | 4    | \n",
       "| 26.0 |  91  | 4    | \n",
       "\n",
       "\n"
      ],
      "text/plain": [
       "  mpg  hp  cyl\n",
       "1 33.9  65 4  \n",
       "2 32.4  66 4  \n",
       "3 30.4  52 4  \n",
       "4 30.4 113 4  \n",
       "5 27.3  66 4  \n",
       "6 26.0  91 4  "
      ]
     },
     "metadata": {},
     "output_type": "display_data"
    }
   ],
   "source": [
    "# Permite concatenar operações sobre um mesmo DataFrame\n",
    "df <- mtcars %>% select(mpg,hp,cyl) %>% arrange(desc(mpg),cyl)\n",
    "head(df)"
   ]
  },
  {
   "cell_type": "markdown",
   "metadata": {},
   "source": [
    "# Usando o **tidyr**"
   ]
  },
  {
   "cell_type": "markdown",
   "metadata": {},
   "source": [
    "**gather** cria novas linhas, fazendo um \"pivô\", uma transposição de colunas em linhas. Vamos criar um DataFrame assim"
   ]
  },
  {
   "cell_type": "code",
   "execution_count": 24,
   "metadata": {
    "collapsed": true
   },
   "outputs": [],
   "source": [
    "library(tidyr)"
   ]
  },
  {
   "cell_type": "code",
   "execution_count": 25,
   "metadata": {
    "collapsed": true
   },
   "outputs": [],
   "source": [
    "filial <- c(100,200)\n",
    "ano <- c(2016,2016,2017,2017)\n",
    "semestre1 <- c(153450.00,102300.00)\n",
    "semestre2 <- c(195370.00,122300.00)\n",
    "df_vendas <- data.frame(filial=filial,ano=ano,semestre1 = semestre1,semestre2 = semestre2)"
   ]
  },
  {
   "cell_type": "code",
   "execution_count": 26,
   "metadata": {},
   "outputs": [
    {
     "data": {
      "text/html": [
       "<table>\n",
       "<thead><tr><th scope=col>filial</th><th scope=col>ano</th><th scope=col>semestre1</th><th scope=col>semestre2</th></tr></thead>\n",
       "<tbody>\n",
       "\t<tr><td>100   </td><td>2016  </td><td>153450</td><td>195370</td></tr>\n",
       "\t<tr><td>200   </td><td>2016  </td><td>102300</td><td>122300</td></tr>\n",
       "\t<tr><td>100   </td><td>2017  </td><td>153450</td><td>195370</td></tr>\n",
       "\t<tr><td>200   </td><td>2017  </td><td>102300</td><td>122300</td></tr>\n",
       "</tbody>\n",
       "</table>\n"
      ],
      "text/latex": [
       "\\begin{tabular}{r|llll}\n",
       " filial & ano & semestre1 & semestre2\\\\\n",
       "\\hline\n",
       "\t 100    & 2016   & 153450 & 195370\\\\\n",
       "\t 200    & 2016   & 102300 & 122300\\\\\n",
       "\t 100    & 2017   & 153450 & 195370\\\\\n",
       "\t 200    & 2017   & 102300 & 122300\\\\\n",
       "\\end{tabular}\n"
      ],
      "text/markdown": [
       "\n",
       "filial | ano | semestre1 | semestre2 | \n",
       "|---|---|---|---|\n",
       "| 100    | 2016   | 153450 | 195370 | \n",
       "| 200    | 2016   | 102300 | 122300 | \n",
       "| 100    | 2017   | 153450 | 195370 | \n",
       "| 200    | 2017   | 102300 | 122300 | \n",
       "\n",
       "\n"
      ],
      "text/plain": [
       "  filial ano  semestre1 semestre2\n",
       "1 100    2016 153450    195370   \n",
       "2 200    2016 102300    122300   \n",
       "3 100    2017 153450    195370   \n",
       "4 200    2017 102300    122300   "
      ]
     },
     "metadata": {},
     "output_type": "display_data"
    }
   ],
   "source": [
    "df_vendas"
   ]
  },
  {
   "cell_type": "markdown",
   "metadata": {},
   "source": [
    "Vamos separar semestre 1 e semestre 2 em linhas, em vez de colunas:"
   ]
  },
  {
   "cell_type": "code",
   "execution_count": 27,
   "metadata": {},
   "outputs": [
    {
     "data": {
      "text/html": [
       "<table>\n",
       "<thead><tr><th scope=col>filial</th><th scope=col>ano</th><th scope=col>semestre</th><th scope=col>venda</th></tr></thead>\n",
       "<tbody>\n",
       "\t<tr><td>100      </td><td>2016     </td><td>semestre1</td><td>153450   </td></tr>\n",
       "\t<tr><td>200      </td><td>2016     </td><td>semestre1</td><td>102300   </td></tr>\n",
       "\t<tr><td>100      </td><td>2017     </td><td>semestre1</td><td>153450   </td></tr>\n",
       "\t<tr><td>200      </td><td>2017     </td><td>semestre1</td><td>102300   </td></tr>\n",
       "\t<tr><td>100      </td><td>2016     </td><td>semestre2</td><td>195370   </td></tr>\n",
       "\t<tr><td>200      </td><td>2016     </td><td>semestre2</td><td>122300   </td></tr>\n",
       "\t<tr><td>100      </td><td>2017     </td><td>semestre2</td><td>195370   </td></tr>\n",
       "\t<tr><td>200      </td><td>2017     </td><td>semestre2</td><td>122300   </td></tr>\n",
       "</tbody>\n",
       "</table>\n"
      ],
      "text/latex": [
       "\\begin{tabular}{r|llll}\n",
       " filial & ano & semestre & venda\\\\\n",
       "\\hline\n",
       "\t 100       & 2016      & semestre1 & 153450   \\\\\n",
       "\t 200       & 2016      & semestre1 & 102300   \\\\\n",
       "\t 100       & 2017      & semestre1 & 153450   \\\\\n",
       "\t 200       & 2017      & semestre1 & 102300   \\\\\n",
       "\t 100       & 2016      & semestre2 & 195370   \\\\\n",
       "\t 200       & 2016      & semestre2 & 122300   \\\\\n",
       "\t 100       & 2017      & semestre2 & 195370   \\\\\n",
       "\t 200       & 2017      & semestre2 & 122300   \\\\\n",
       "\\end{tabular}\n"
      ],
      "text/markdown": [
       "\n",
       "filial | ano | semestre | venda | \n",
       "|---|---|---|---|---|---|---|---|\n",
       "| 100       | 2016      | semestre1 | 153450    | \n",
       "| 200       | 2016      | semestre1 | 102300    | \n",
       "| 100       | 2017      | semestre1 | 153450    | \n",
       "| 200       | 2017      | semestre1 | 102300    | \n",
       "| 100       | 2016      | semestre2 | 195370    | \n",
       "| 200       | 2016      | semestre2 | 122300    | \n",
       "| 100       | 2017      | semestre2 | 195370    | \n",
       "| 200       | 2017      | semestre2 | 122300    | \n",
       "\n",
       "\n"
      ],
      "text/plain": [
       "  filial ano  semestre  venda \n",
       "1 100    2016 semestre1 153450\n",
       "2 200    2016 semestre1 102300\n",
       "3 100    2017 semestre1 153450\n",
       "4 200    2017 semestre1 102300\n",
       "5 100    2016 semestre2 195370\n",
       "6 200    2016 semestre2 122300\n",
       "7 100    2017 semestre2 195370\n",
       "8 200    2017 semestre2 122300"
      ]
     },
     "metadata": {},
     "output_type": "display_data"
    }
   ],
   "source": [
    "df_vendas2 <- gather(df_vendas,semestre,venda,semestre1:semestre2)\n",
    "df_vendas2"
   ]
  },
  {
   "cell_type": "markdown",
   "metadata": {},
   "source": [
    "A função **spread** faz o contrário da função **gather** transpondo linhas em colunas:"
   ]
  },
  {
   "cell_type": "code",
   "execution_count": 28,
   "metadata": {},
   "outputs": [
    {
     "data": {
      "text/html": [
       "<table>\n",
       "<thead><tr><th scope=col>filial</th><th scope=col>ano</th><th scope=col>semestre1</th><th scope=col>semestre2</th></tr></thead>\n",
       "<tbody>\n",
       "\t<tr><td>100   </td><td>2016  </td><td>153450</td><td>195370</td></tr>\n",
       "\t<tr><td>100   </td><td>2017  </td><td>153450</td><td>195370</td></tr>\n",
       "\t<tr><td>200   </td><td>2016  </td><td>102300</td><td>122300</td></tr>\n",
       "\t<tr><td>200   </td><td>2017  </td><td>102300</td><td>122300</td></tr>\n",
       "</tbody>\n",
       "</table>\n"
      ],
      "text/latex": [
       "\\begin{tabular}{r|llll}\n",
       " filial & ano & semestre1 & semestre2\\\\\n",
       "\\hline\n",
       "\t 100    & 2016   & 153450 & 195370\\\\\n",
       "\t 100    & 2017   & 153450 & 195370\\\\\n",
       "\t 200    & 2016   & 102300 & 122300\\\\\n",
       "\t 200    & 2017   & 102300 & 122300\\\\\n",
       "\\end{tabular}\n"
      ],
      "text/markdown": [
       "\n",
       "filial | ano | semestre1 | semestre2 | \n",
       "|---|---|---|---|\n",
       "| 100    | 2016   | 153450 | 195370 | \n",
       "| 100    | 2017   | 153450 | 195370 | \n",
       "| 200    | 2016   | 102300 | 122300 | \n",
       "| 200    | 2017   | 102300 | 122300 | \n",
       "\n",
       "\n"
      ],
      "text/plain": [
       "  filial ano  semestre1 semestre2\n",
       "1 100    2016 153450    195370   \n",
       "2 100    2017 153450    195370   \n",
       "3 200    2016 102300    122300   \n",
       "4 200    2017 102300    122300   "
      ]
     },
     "metadata": {},
     "output_type": "display_data"
    }
   ],
   "source": [
    "df_vendas3 <- spread(df_vendas2,semestre,venda)\n",
    "df_vendas3"
   ]
  },
  {
   "cell_type": "markdown",
   "metadata": {},
   "source": [
    "A função **separate** separa campos em linhas, de acordo com uma expressão regular. Suponha o dataset \"desemprego.csv\", o campo \"periodo\" é formado por ano + \".\" + mês. A coluna a ser separada tem que ser do tipo \"caractere\" e não numérica! Vamos separar ano e mês:"
   ]
  },
  {
   "cell_type": "code",
   "execution_count": 42,
   "metadata": {},
   "outputs": [
    {
     "name": "stdout",
     "output_type": "stream",
     "text": [
      "'data.frame':\t121 obs. of  2 variables:\n",
      " $ Periodo   : chr  \"2007.08\" \"2007.09\" \"2007.10\" \"2007.11\" ...\n",
      " $ Desemprego: num  10.4 10.5 10 10 9.3 9.3 9.1 9.6 9.8 9.8 ...\n"
     ]
    }
   ],
   "source": [
    "df_desemprego <- read.csv('desemprego.csv',colClasses= c('character','numeric'))\n",
    "str(df_desemprego)"
   ]
  },
  {
   "cell_type": "code",
   "execution_count": 43,
   "metadata": {},
   "outputs": [
    {
     "data": {
      "text/html": [
       "<table>\n",
       "<thead><tr><th scope=col>Periodo</th><th scope=col>Desemprego</th></tr></thead>\n",
       "<tbody>\n",
       "\t<tr><td>2007.08</td><td>10.4   </td></tr>\n",
       "\t<tr><td>2007.09</td><td>10.5   </td></tr>\n",
       "\t<tr><td>2007.10</td><td>10.0   </td></tr>\n",
       "\t<tr><td>2007.11</td><td>10.0   </td></tr>\n",
       "\t<tr><td>2007.12</td><td> 9.3   </td></tr>\n",
       "\t<tr><td>2008.01</td><td> 9.3   </td></tr>\n",
       "</tbody>\n",
       "</table>\n"
      ],
      "text/latex": [
       "\\begin{tabular}{r|ll}\n",
       " Periodo & Desemprego\\\\\n",
       "\\hline\n",
       "\t 2007.08 & 10.4   \\\\\n",
       "\t 2007.09 & 10.5   \\\\\n",
       "\t 2007.10 & 10.0   \\\\\n",
       "\t 2007.11 & 10.0   \\\\\n",
       "\t 2007.12 &  9.3   \\\\\n",
       "\t 2008.01 &  9.3   \\\\\n",
       "\\end{tabular}\n"
      ],
      "text/markdown": [
       "\n",
       "Periodo | Desemprego | \n",
       "|---|---|---|---|---|---|\n",
       "| 2007.08 | 10.4    | \n",
       "| 2007.09 | 10.5    | \n",
       "| 2007.10 | 10.0    | \n",
       "| 2007.11 | 10.0    | \n",
       "| 2007.12 |  9.3    | \n",
       "| 2008.01 |  9.3    | \n",
       "\n",
       "\n"
      ],
      "text/plain": [
       "  Periodo Desemprego\n",
       "1 2007.08 10.4      \n",
       "2 2007.09 10.5      \n",
       "3 2007.10 10.0      \n",
       "4 2007.11 10.0      \n",
       "5 2007.12  9.3      \n",
       "6 2008.01  9.3      "
      ]
     },
     "metadata": {},
     "output_type": "display_data"
    }
   ],
   "source": [
    "head(df_desemprego)"
   ]
  },
  {
   "cell_type": "code",
   "execution_count": 49,
   "metadata": {},
   "outputs": [
    {
     "data": {
      "text/html": [
       "<table>\n",
       "<thead><tr><th scope=col>ano</th><th scope=col>mes</th><th scope=col>Desemprego</th></tr></thead>\n",
       "<tbody>\n",
       "\t<tr><td>2007</td><td>08  </td><td>10.4</td></tr>\n",
       "\t<tr><td>2007</td><td>09  </td><td>10.5</td></tr>\n",
       "\t<tr><td>2007</td><td>10  </td><td>10.0</td></tr>\n",
       "\t<tr><td>2007</td><td>11  </td><td>10.0</td></tr>\n",
       "\t<tr><td>2007</td><td>12  </td><td> 9.3</td></tr>\n",
       "\t<tr><td>2008</td><td>01  </td><td> 9.3</td></tr>\n",
       "</tbody>\n",
       "</table>\n"
      ],
      "text/latex": [
       "\\begin{tabular}{r|lll}\n",
       " ano & mes & Desemprego\\\\\n",
       "\\hline\n",
       "\t 2007 & 08   & 10.4\\\\\n",
       "\t 2007 & 09   & 10.5\\\\\n",
       "\t 2007 & 10   & 10.0\\\\\n",
       "\t 2007 & 11   & 10.0\\\\\n",
       "\t 2007 & 12   &  9.3\\\\\n",
       "\t 2008 & 01   &  9.3\\\\\n",
       "\\end{tabular}\n"
      ],
      "text/markdown": [
       "\n",
       "ano | mes | Desemprego | \n",
       "|---|---|---|---|---|---|\n",
       "| 2007 | 08   | 10.4 | \n",
       "| 2007 | 09   | 10.5 | \n",
       "| 2007 | 10   | 10.0 | \n",
       "| 2007 | 11   | 10.0 | \n",
       "| 2007 | 12   |  9.3 | \n",
       "| 2008 | 01   |  9.3 | \n",
       "\n",
       "\n"
      ],
      "text/plain": [
       "  ano  mes Desemprego\n",
       "1 2007 08  10.4      \n",
       "2 2007 09  10.5      \n",
       "3 2007 10  10.0      \n",
       "4 2007 11  10.0      \n",
       "5 2007 12   9.3      \n",
       "6 2008 01   9.3      "
      ]
     },
     "metadata": {},
     "output_type": "display_data"
    }
   ],
   "source": [
    "df_sep <- separate(df_desemprego,'Periodo',c('ano','mes'),sep='[.]')\n",
    "head(df_sep)"
   ]
  },
  {
   "cell_type": "markdown",
   "metadata": {},
   "source": [
    "A função **unite** faz o contrário:"
   ]
  },
  {
   "cell_type": "code",
   "execution_count": 47,
   "metadata": {},
   "outputs": [
    {
     "data": {
      "text/html": [
       "<table>\n",
       "<thead><tr><th scope=col>Periodo</th><th scope=col>Desemprego</th></tr></thead>\n",
       "<tbody>\n",
       "\t<tr><td>2007.08</td><td>10.4   </td></tr>\n",
       "\t<tr><td>2007.09</td><td>10.5   </td></tr>\n",
       "\t<tr><td>2007.10</td><td>10.0   </td></tr>\n",
       "\t<tr><td>2007.11</td><td>10.0   </td></tr>\n",
       "\t<tr><td>2007.12</td><td> 9.3   </td></tr>\n",
       "\t<tr><td>2008.01</td><td> 9.3   </td></tr>\n",
       "</tbody>\n",
       "</table>\n"
      ],
      "text/latex": [
       "\\begin{tabular}{r|ll}\n",
       " Periodo & Desemprego\\\\\n",
       "\\hline\n",
       "\t 2007.08 & 10.4   \\\\\n",
       "\t 2007.09 & 10.5   \\\\\n",
       "\t 2007.10 & 10.0   \\\\\n",
       "\t 2007.11 & 10.0   \\\\\n",
       "\t 2007.12 &  9.3   \\\\\n",
       "\t 2008.01 &  9.3   \\\\\n",
       "\\end{tabular}\n"
      ],
      "text/markdown": [
       "\n",
       "Periodo | Desemprego | \n",
       "|---|---|---|---|---|---|\n",
       "| 2007.08 | 10.4    | \n",
       "| 2007.09 | 10.5    | \n",
       "| 2007.10 | 10.0    | \n",
       "| 2007.11 | 10.0    | \n",
       "| 2007.12 |  9.3    | \n",
       "| 2008.01 |  9.3    | \n",
       "\n",
       "\n"
      ],
      "text/plain": [
       "  Periodo Desemprego\n",
       "1 2007.08 10.4      \n",
       "2 2007.09 10.5      \n",
       "3 2007.10 10.0      \n",
       "4 2007.11 10.0      \n",
       "5 2007.12  9.3      \n",
       "6 2008.01  9.3      "
      ]
     },
     "metadata": {},
     "output_type": "display_data"
    }
   ],
   "source": [
    "df_original <- unite(df_sep,'Periodo',c('ano','mes'),sep='.')\n",
    "head(df_original)"
   ]
  },
  {
   "cell_type": "code",
   "execution_count": null,
   "metadata": {
    "collapsed": true
   },
   "outputs": [],
   "source": []
  }
 ],
 "metadata": {
  "kernelspec": {
   "display_name": "R",
   "language": "R",
   "name": "ir"
  },
  "language_info": {
   "codemirror_mode": "r",
   "file_extension": ".r",
   "mimetype": "text/x-r-source",
   "name": "R",
   "pygments_lexer": "r",
   "version": "3.4.1"
  }
 },
 "nbformat": 4,
 "nbformat_minor": 2
}
