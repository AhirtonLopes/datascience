{
 "cells": [
  {
   "cell_type": "markdown",
   "metadata": {},
   "source": [
    "# Datasets"
   ]
  },
  {
   "cell_type": "code",
   "execution_count": 1,
   "metadata": {
    "collapsed": true
   },
   "outputs": [],
   "source": [
    "df <- read.csv('desemprego.csv')"
   ]
  },
  {
   "cell_type": "code",
   "execution_count": 2,
   "metadata": {},
   "outputs": [
    {
     "name": "stdout",
     "output_type": "stream",
     "text": [
      "'data.frame':\t121 obs. of  2 variables:\n",
      " $ Periodo   : num  2007 2007 2007 2007 2007 ...\n",
      " $ Desemprego: num  10.4 10.5 10 10 9.3 9.3 9.1 9.6 9.8 9.8 ...\n"
     ]
    }
   ],
   "source": [
    "str(df)"
   ]
  },
  {
   "cell_type": "code",
   "execution_count": 3,
   "metadata": {},
   "outputs": [
    {
     "data": {
      "text/plain": [
       "    Periodo       Desemprego   \n",
       " Min.   :2007   Min.   : 6.90  \n",
       " 1st Qu.:2010   1st Qu.: 8.50  \n",
       " Median :2012   Median : 9.40  \n",
       " Mean   :2012   Mean   :10.01  \n",
       " 3rd Qu.:2015   3rd Qu.:10.70  \n",
       " Max.   :2017   Max.   :15.90  "
      ]
     },
     "metadata": {},
     "output_type": "display_data"
    }
   ],
   "source": [
    "summary(df)"
   ]
  },
  {
   "cell_type": "code",
   "execution_count": 4,
   "metadata": {},
   "outputs": [
    {
     "data": {
      "text/html": [
       "<table>\n",
       "<thead><tr><th scope=col>Periodo</th><th scope=col>Desemprego</th></tr></thead>\n",
       "<tbody>\n",
       "\t<tr><td>2007.08</td><td>10.4   </td></tr>\n",
       "\t<tr><td>2007.09</td><td>10.5   </td></tr>\n",
       "\t<tr><td>2007.10</td><td>10.0   </td></tr>\n",
       "\t<tr><td>2007.11</td><td>10.0   </td></tr>\n",
       "\t<tr><td>2007.12</td><td> 9.3   </td></tr>\n",
       "\t<tr><td>2008.01</td><td> 9.3   </td></tr>\n",
       "</tbody>\n",
       "</table>\n"
      ],
      "text/latex": [
       "\\begin{tabular}{r|ll}\n",
       " Periodo & Desemprego\\\\\n",
       "\\hline\n",
       "\t 2007.08 & 10.4   \\\\\n",
       "\t 2007.09 & 10.5   \\\\\n",
       "\t 2007.10 & 10.0   \\\\\n",
       "\t 2007.11 & 10.0   \\\\\n",
       "\t 2007.12 &  9.3   \\\\\n",
       "\t 2008.01 &  9.3   \\\\\n",
       "\\end{tabular}\n"
      ],
      "text/markdown": [
       "\n",
       "Periodo | Desemprego | \n",
       "|---|---|---|---|---|---|\n",
       "| 2007.08 | 10.4    | \n",
       "| 2007.09 | 10.5    | \n",
       "| 2007.10 | 10.0    | \n",
       "| 2007.11 | 10.0    | \n",
       "| 2007.12 |  9.3    | \n",
       "| 2008.01 |  9.3    | \n",
       "\n",
       "\n"
      ],
      "text/plain": [
       "  Periodo Desemprego\n",
       "1 2007.08 10.4      \n",
       "2 2007.09 10.5      \n",
       "3 2007.10 10.0      \n",
       "4 2007.11 10.0      \n",
       "5 2007.12  9.3      \n",
       "6 2008.01  9.3      "
      ]
     },
     "metadata": {},
     "output_type": "display_data"
    }
   ],
   "source": [
    "head(df)"
   ]
  },
  {
   "cell_type": "code",
   "execution_count": 5,
   "metadata": {},
   "outputs": [
    {
     "data": {
      "text/html": [
       "<table>\n",
       "<thead><tr><th></th><th scope=col>Periodo</th><th scope=col>Desemprego</th></tr></thead>\n",
       "<tbody>\n",
       "\t<tr><th scope=row>116</th><td>2017.03</td><td>15.2   </td></tr>\n",
       "\t<tr><th scope=row>117</th><td>2017.04</td><td>15.5   </td></tr>\n",
       "\t<tr><th scope=row>118</th><td>2017.05</td><td>15.9   </td></tr>\n",
       "\t<tr><th scope=row>119</th><td>2017.06</td><td>15.6   </td></tr>\n",
       "\t<tr><th scope=row>120</th><td>2017.07</td><td>15.1   </td></tr>\n",
       "\t<tr><th scope=row>121</th><td>2017.08</td><td>14.5   </td></tr>\n",
       "</tbody>\n",
       "</table>\n"
      ],
      "text/latex": [
       "\\begin{tabular}{r|ll}\n",
       "  & Periodo & Desemprego\\\\\n",
       "\\hline\n",
       "\t116 & 2017.03 & 15.2   \\\\\n",
       "\t117 & 2017.04 & 15.5   \\\\\n",
       "\t118 & 2017.05 & 15.9   \\\\\n",
       "\t119 & 2017.06 & 15.6   \\\\\n",
       "\t120 & 2017.07 & 15.1   \\\\\n",
       "\t121 & 2017.08 & 14.5   \\\\\n",
       "\\end{tabular}\n"
      ],
      "text/markdown": [
       "\n",
       "| <!--/--> | Periodo | Desemprego | \n",
       "|---|---|---|---|---|---|\n",
       "| 116 | 2017.03 | 15.2    | \n",
       "| 117 | 2017.04 | 15.5    | \n",
       "| 118 | 2017.05 | 15.9    | \n",
       "| 119 | 2017.06 | 15.6    | \n",
       "| 120 | 2017.07 | 15.1    | \n",
       "| 121 | 2017.08 | 14.5    | \n",
       "\n",
       "\n"
      ],
      "text/plain": [
       "    Periodo Desemprego\n",
       "116 2017.03 15.2      \n",
       "117 2017.04 15.5      \n",
       "118 2017.05 15.9      \n",
       "119 2017.06 15.6      \n",
       "120 2017.07 15.1      \n",
       "121 2017.08 14.5      "
      ]
     },
     "metadata": {},
     "output_type": "display_data"
    }
   ],
   "source": [
    "tail(df)"
   ]
  },
  {
   "cell_type": "markdown",
   "metadata": {},
   "source": [
    "## Datasets não convencionais"
   ]
  },
  {
   "cell_type": "code",
   "execution_count": 7,
   "metadata": {},
   "outputs": [],
   "source": [
    "df2 <- read.csv('dataset-nao-convencional.csv',dec = ',', sep = \";\")"
   ]
  },
  {
   "cell_type": "code",
   "execution_count": 11,
   "metadata": {},
   "outputs": [
    {
     "name": "stdout",
     "output_type": "stream",
     "text": [
      "'data.frame':\t29 obs. of  3 variables:\n",
      " $ Nome   : Factor w/ 29 levels \"Antônia\",\"Antônio\",..: 12 4 8 14 23 22 18 13 21 9 ...\n",
      " $ Pesos  : int  74 61 61 68 70 73 67 67 65 57 ...\n",
      " $ Alturas: num  1.73 1.61 1.61 1.67 1.69 1.75 1.67 1.67 1.63 1.57 ...\n"
     ]
    }
   ],
   "source": [
    "str(df2)"
   ]
  },
  {
   "cell_type": "code",
   "execution_count": 8,
   "metadata": {},
   "outputs": [
    {
     "data": {
      "text/html": [
       "<table>\n",
       "<thead><tr><th scope=col>Nome</th><th scope=col>Pesos</th><th scope=col>Alturas</th></tr></thead>\n",
       "<tbody>\n",
       "\t<tr><td>Fulano  </td><td>74      </td><td>1.73    </td></tr>\n",
       "\t<tr><td>Beltrano</td><td>61      </td><td>1.61    </td></tr>\n",
       "\t<tr><td>Cicrano </td><td>61      </td><td>1.61    </td></tr>\n",
       "\t<tr><td>João    </td><td>68      </td><td>1.67    </td></tr>\n",
       "\t<tr><td>Pedro   </td><td>70      </td><td>1.69    </td></tr>\n",
       "\t<tr><td>Paulo   </td><td>73      </td><td>1.75    </td></tr>\n",
       "</tbody>\n",
       "</table>\n"
      ],
      "text/latex": [
       "\\begin{tabular}{r|lll}\n",
       " Nome & Pesos & Alturas\\\\\n",
       "\\hline\n",
       "\t Fulano   & 74       & 1.73    \\\\\n",
       "\t Beltrano & 61       & 1.61    \\\\\n",
       "\t Cicrano  & 61       & 1.61    \\\\\n",
       "\t João     & 68       & 1.67    \\\\\n",
       "\t Pedro    & 70       & 1.69    \\\\\n",
       "\t Paulo    & 73       & 1.75    \\\\\n",
       "\\end{tabular}\n"
      ],
      "text/markdown": [
       "\n",
       "Nome | Pesos | Alturas | \n",
       "|---|---|---|---|---|---|\n",
       "| Fulano   | 74       | 1.73     | \n",
       "| Beltrano | 61       | 1.61     | \n",
       "| Cicrano  | 61       | 1.61     | \n",
       "| João     | 68       | 1.67     | \n",
       "| Pedro    | 70       | 1.69     | \n",
       "| Paulo    | 73       | 1.75     | \n",
       "\n",
       "\n"
      ],
      "text/plain": [
       "  Nome     Pesos Alturas\n",
       "1 Fulano   74    1.73   \n",
       "2 Beltrano 61    1.61   \n",
       "3 Cicrano  61    1.61   \n",
       "4 João     68    1.67   \n",
       "5 Pedro    70    1.69   \n",
       "6 Paulo    73    1.75   "
      ]
     },
     "metadata": {},
     "output_type": "display_data"
    }
   ],
   "source": [
    "head(df2)"
   ]
  },
  {
   "cell_type": "code",
   "execution_count": 9,
   "metadata": {
    "collapsed": true
   },
   "outputs": [],
   "source": [
    "df3 <- read.csv('dataset-nao-convencional.csv',dec = ',', sep = \";\", \n",
    "      colClasses= c('character','integer','numeric'))"
   ]
  },
  {
   "cell_type": "code",
   "execution_count": 10,
   "metadata": {},
   "outputs": [
    {
     "name": "stdout",
     "output_type": "stream",
     "text": [
      "'data.frame':\t29 obs. of  3 variables:\n",
      " $ Nome   : chr  \"Fulano\" \"Beltrano\" \"Cicrano\" \"João\" ...\n",
      " $ Pesos  : int  74 61 61 68 70 73 67 67 65 57 ...\n",
      " $ Alturas: num  1.73 1.61 1.61 1.67 1.69 1.75 1.67 1.67 1.63 1.57 ...\n"
     ]
    }
   ],
   "source": [
    "str(df3)"
   ]
  },
  {
   "cell_type": "code",
   "execution_count": 12,
   "metadata": {
    "collapsed": true
   },
   "outputs": [],
   "source": [
    "df4 <- read.csv('datas.csv',colClasses=c('Date','integer', 'numeric'))"
   ]
  },
  {
   "cell_type": "code",
   "execution_count": 13,
   "metadata": {},
   "outputs": [
    {
     "name": "stdout",
     "output_type": "stream",
     "text": [
      "[1] 3 1 5 1 2\n"
     ]
    }
   ],
   "source": [
    "print(as.numeric(format(df4$Nascimento, \"%m\")))"
   ]
  },
  {
   "cell_type": "code",
   "execution_count": 14,
   "metadata": {},
   "outputs": [
    {
     "name": "stdout",
     "output_type": "stream",
     "text": [
      "'data.frame':\t3 obs. of  3 variables:\n",
      " $ Nascimento: chr  \"5-3-2005 17:35:00\" \"1-5-2005 12:10:05\" \"10-6-2005 23:01:12\"\n",
      " $ Pesos     : num  5 3.5 4.1\n",
      " $ Alturas   : num  0.5 0.48 0.51\n"
     ]
    }
   ],
   "source": [
    "df6 <- read.csv('datas-horas.csv', colClasses = c('character', 'numeric', 'numeric'))\n",
    "str(df6)"
   ]
  },
  {
   "cell_type": "code",
   "execution_count": 15,
   "metadata": {},
   "outputs": [
    {
     "name": "stdout",
     "output_type": "stream",
     "text": [
      "'data.frame':\t3 obs. of  3 variables:\n",
      " $ Nascimento: POSIXlt, format: \"2005-03-05 17:35:00\" \"2005-05-01 12:10:05\" ...\n",
      " $ Pesos     : num  5 3.5 4.1\n",
      " $ Alturas   : num  0.5 0.48 0.51\n"
     ]
    }
   ],
   "source": [
    "df6$Nascimento <- strptime(df6$Nascimento,format='%d-%m-%Y %H:%M:%S')\n",
    "str(df6)"
   ]
  },
  {
   "cell_type": "code",
   "execution_count": 16,
   "metadata": {},
   "outputs": [
    {
     "ename": "ERROR",
     "evalue": "Error in c(1, 5.2, , 6.7, 3.2, 4.1): argumento 3 está vazio\n",
     "output_type": "error",
     "traceback": [
      "Error in c(1, 5.2, , 6.7, 3.2, 4.1): argumento 3 está vazio\nTraceback:\n"
     ]
    }
   ],
   "source": [
    "valores <- c(1.0,5.2,,6.7,3.2,4.1)"
   ]
  },
  {
   "cell_type": "code",
   "execution_count": 18,
   "metadata": {},
   "outputs": [
    {
     "data": {
      "text/html": [
       "<ol class=list-inline>\n",
       "\t<li>1</li>\n",
       "\t<li>5.2</li>\n",
       "\t<li>NA</li>\n",
       "\t<li>6.7</li>\n",
       "\t<li>3.2</li>\n",
       "\t<li>4.1</li>\n",
       "</ol>\n"
      ],
      "text/latex": [
       "\\begin{enumerate*}\n",
       "\\item 1\n",
       "\\item 5.2\n",
       "\\item NA\n",
       "\\item 6.7\n",
       "\\item 3.2\n",
       "\\item 4.1\n",
       "\\end{enumerate*}\n"
      ],
      "text/markdown": [
       "1. 1\n",
       "2. 5.2\n",
       "3. NA\n",
       "4. 6.7\n",
       "5. 3.2\n",
       "6. 4.1\n",
       "\n",
       "\n"
      ],
      "text/plain": [
       "[1] 1.0 5.2  NA 6.7 3.2 4.1"
      ]
     },
     "metadata": {},
     "output_type": "display_data"
    }
   ],
   "source": [
    "valores <- c(1.0,5.2,NA,6.7,3.2,4.1)\n",
    "valores"
   ]
  },
  {
   "cell_type": "code",
   "execution_count": 20,
   "metadata": {},
   "outputs": [
    {
     "data": {
      "text/html": [
       "<ol class=list-inline>\n",
       "\t<li>1</li>\n",
       "\t<li>5.2</li>\n",
       "\t<li>NaN</li>\n",
       "\t<li>6.7</li>\n",
       "\t<li>3.2</li>\n",
       "\t<li>4.1</li>\n",
       "</ol>\n"
      ],
      "text/latex": [
       "\\begin{enumerate*}\n",
       "\\item 1\n",
       "\\item 5.2\n",
       "\\item NaN\n",
       "\\item 6.7\n",
       "\\item 3.2\n",
       "\\item 4.1\n",
       "\\end{enumerate*}\n"
      ],
      "text/markdown": [
       "1. 1\n",
       "2. 5.2\n",
       "3. NaN\n",
       "4. 6.7\n",
       "5. 3.2\n",
       "6. 4.1\n",
       "\n",
       "\n"
      ],
      "text/plain": [
       "[1] 1.0 5.2 NaN 6.7 3.2 4.1"
      ]
     },
     "metadata": {},
     "output_type": "display_data"
    },
    {
     "data": {
      "text/html": [
       "NaN"
      ],
      "text/latex": [
       "NaN"
      ],
      "text/markdown": [
       "NaN"
      ],
      "text/plain": [
       "[1] NaN"
      ]
     },
     "metadata": {},
     "output_type": "display_data"
    }
   ],
   "source": [
    "valores <- c(1.0,5.2,NaN,6.7,3.2,4.1)\n",
    "valores\n",
    "mean(valores)"
   ]
  },
  {
   "cell_type": "code",
   "execution_count": 21,
   "metadata": {},
   "outputs": [
    {
     "data": {
      "text/html": [
       "<ol class=list-inline>\n",
       "\t<li>1</li>\n",
       "\t<li>5.2</li>\n",
       "\t<li>6.7</li>\n",
       "\t<li>3.2</li>\n",
       "\t<li>4.1</li>\n",
       "</ol>\n"
      ],
      "text/latex": [
       "\\begin{enumerate*}\n",
       "\\item 1\n",
       "\\item 5.2\n",
       "\\item 6.7\n",
       "\\item 3.2\n",
       "\\item 4.1\n",
       "\\end{enumerate*}\n"
      ],
      "text/markdown": [
       "1. 1\n",
       "2. 5.2\n",
       "3. 6.7\n",
       "4. 3.2\n",
       "5. 4.1\n",
       "\n",
       "\n"
      ],
      "text/plain": [
       "[1] 1.0 5.2 6.7 3.2 4.1"
      ]
     },
     "metadata": {},
     "output_type": "display_data"
    },
    {
     "data": {
      "text/html": [
       "4.04"
      ],
      "text/latex": [
       "4.04"
      ],
      "text/markdown": [
       "4.04"
      ],
      "text/plain": [
       "[1] 4.04"
      ]
     },
     "metadata": {},
     "output_type": "display_data"
    },
    {
     "data": {
      "text/html": [
       "5"
      ],
      "text/latex": [
       "5"
      ],
      "text/markdown": [
       "5"
      ],
      "text/plain": [
       "[1] 5"
      ]
     },
     "metadata": {},
     "output_type": "display_data"
    }
   ],
   "source": [
    "valores <- c(1.0,5.2,NULL,6.7,3.2,4.1)\n",
    "valores\n",
    "mean(valores)\n",
    "length(valores)"
   ]
  },
  {
   "cell_type": "code",
   "execution_count": 23,
   "metadata": {},
   "outputs": [
    {
     "data": {
      "text/html": [
       "<ol class=list-inline>\n",
       "\t<li>FALSE</li>\n",
       "\t<li>FALSE</li>\n",
       "\t<li>TRUE</li>\n",
       "\t<li>FALSE</li>\n",
       "\t<li>FALSE</li>\n",
       "\t<li>FALSE</li>\n",
       "</ol>\n"
      ],
      "text/latex": [
       "\\begin{enumerate*}\n",
       "\\item FALSE\n",
       "\\item FALSE\n",
       "\\item TRUE\n",
       "\\item FALSE\n",
       "\\item FALSE\n",
       "\\item FALSE\n",
       "\\end{enumerate*}\n"
      ],
      "text/markdown": [
       "1. FALSE\n",
       "2. FALSE\n",
       "3. TRUE\n",
       "4. FALSE\n",
       "5. FALSE\n",
       "6. FALSE\n",
       "\n",
       "\n"
      ],
      "text/plain": [
       "[1] FALSE FALSE  TRUE FALSE FALSE FALSE"
      ]
     },
     "metadata": {},
     "output_type": "display_data"
    },
    {
     "data": {
      "text/html": [
       "TRUE"
      ],
      "text/latex": [
       "TRUE"
      ],
      "text/markdown": [
       "TRUE"
      ],
      "text/plain": [
       "[1] TRUE"
      ]
     },
     "metadata": {},
     "output_type": "display_data"
    }
   ],
   "source": [
    "valores <- c(1.0,5.2,NA,6.7,3.2,4.1)\n",
    "is.na(valores)\n",
    "is.na(valores[3])"
   ]
  },
  {
   "cell_type": "code",
   "execution_count": 24,
   "metadata": {},
   "outputs": [
    {
     "data": {
      "text/html": [
       "<ol class=list-inline>\n",
       "\t<li>FALSE</li>\n",
       "\t<li>FALSE</li>\n",
       "\t<li>TRUE</li>\n",
       "\t<li>FALSE</li>\n",
       "\t<li>FALSE</li>\n",
       "\t<li>FALSE</li>\n",
       "</ol>\n"
      ],
      "text/latex": [
       "\\begin{enumerate*}\n",
       "\\item FALSE\n",
       "\\item FALSE\n",
       "\\item TRUE\n",
       "\\item FALSE\n",
       "\\item FALSE\n",
       "\\item FALSE\n",
       "\\end{enumerate*}\n"
      ],
      "text/markdown": [
       "1. FALSE\n",
       "2. FALSE\n",
       "3. TRUE\n",
       "4. FALSE\n",
       "5. FALSE\n",
       "6. FALSE\n",
       "\n",
       "\n"
      ],
      "text/plain": [
       "[1] FALSE FALSE  TRUE FALSE FALSE FALSE"
      ]
     },
     "metadata": {},
     "output_type": "display_data"
    }
   ],
   "source": [
    "valores <- c(1.0,5.2,NaN,6.7,3.2,4.1)\n",
    "is.na(valores)"
   ]
  },
  {
   "cell_type": "code",
   "execution_count": 26,
   "metadata": {},
   "outputs": [
    {
     "data": {
      "text/html": [
       "<ol class=list-inline>\n",
       "\t<li>FALSE</li>\n",
       "\t<li>FALSE</li>\n",
       "\t<li>FALSE</li>\n",
       "\t<li>FALSE</li>\n",
       "\t<li>FALSE</li>\n",
       "\t<li>FALSE</li>\n",
       "</ol>\n"
      ],
      "text/latex": [
       "\\begin{enumerate*}\n",
       "\\item FALSE\n",
       "\\item FALSE\n",
       "\\item FALSE\n",
       "\\item FALSE\n",
       "\\item FALSE\n",
       "\\item FALSE\n",
       "\\end{enumerate*}\n"
      ],
      "text/markdown": [
       "1. FALSE\n",
       "2. FALSE\n",
       "3. FALSE\n",
       "4. FALSE\n",
       "5. FALSE\n",
       "6. FALSE\n",
       "\n",
       "\n"
      ],
      "text/plain": [
       "[1] FALSE FALSE FALSE FALSE FALSE FALSE"
      ]
     },
     "metadata": {},
     "output_type": "display_data"
    },
    {
     "data": {
      "text/html": [
       "<ol class=list-inline>\n",
       "\t<li>FALSE</li>\n",
       "\t<li>FALSE</li>\n",
       "\t<li>TRUE</li>\n",
       "\t<li>FALSE</li>\n",
       "\t<li>FALSE</li>\n",
       "\t<li>FALSE</li>\n",
       "</ol>\n"
      ],
      "text/latex": [
       "\\begin{enumerate*}\n",
       "\\item FALSE\n",
       "\\item FALSE\n",
       "\\item TRUE\n",
       "\\item FALSE\n",
       "\\item FALSE\n",
       "\\item FALSE\n",
       "\\end{enumerate*}\n"
      ],
      "text/markdown": [
       "1. FALSE\n",
       "2. FALSE\n",
       "3. TRUE\n",
       "4. FALSE\n",
       "5. FALSE\n",
       "6. FALSE\n",
       "\n",
       "\n"
      ],
      "text/plain": [
       "[1] FALSE FALSE  TRUE FALSE FALSE FALSE"
      ]
     },
     "metadata": {},
     "output_type": "display_data"
    }
   ],
   "source": [
    "# Inf é numérico! \n",
    "\n",
    "valores <- c(1.0,5.2,Inf,6.7,3.2,4.1)\n",
    "is.na(valores)\n",
    "is.infinite(valores)"
   ]
  },
  {
   "cell_type": "code",
   "execution_count": 27,
   "metadata": {},
   "outputs": [
    {
     "data": {
      "text/html": [
       "<ol class=list-inline>\n",
       "\t<li>FALSE</li>\n",
       "\t<li>FALSE</li>\n",
       "\t<li>FALSE</li>\n",
       "\t<li>FALSE</li>\n",
       "\t<li>FALSE</li>\n",
       "</ol>\n"
      ],
      "text/latex": [
       "\\begin{enumerate*}\n",
       "\\item FALSE\n",
       "\\item FALSE\n",
       "\\item FALSE\n",
       "\\item FALSE\n",
       "\\item FALSE\n",
       "\\end{enumerate*}\n"
      ],
      "text/markdown": [
       "1. FALSE\n",
       "2. FALSE\n",
       "3. FALSE\n",
       "4. FALSE\n",
       "5. FALSE\n",
       "\n",
       "\n"
      ],
      "text/plain": [
       "[1] FALSE FALSE FALSE FALSE FALSE"
      ]
     },
     "metadata": {},
     "output_type": "display_data"
    }
   ],
   "source": [
    "valores <- c(1.0,5.2,NULL,6.7,3.2,4.1)\n",
    "is.na(valores)"
   ]
  },
  {
   "cell_type": "code",
   "execution_count": 28,
   "metadata": {
    "collapsed": true
   },
   "outputs": [],
   "source": [
    "library(tidyr)"
   ]
  },
  {
   "cell_type": "code",
   "execution_count": 29,
   "metadata": {},
   "outputs": [
    {
     "name": "stderr",
     "output_type": "stream",
     "text": [
      "\n",
      "Attaching package: ‘dplyr’\n",
      "\n",
      "The following objects are masked from ‘package:stats’:\n",
      "\n",
      "    filter, lag\n",
      "\n",
      "The following objects are masked from ‘package:base’:\n",
      "\n",
      "    intersect, setdiff, setequal, union\n",
      "\n"
     ]
    }
   ],
   "source": [
    "library(dplyr)"
   ]
  },
  {
   "cell_type": "code",
   "execution_count": null,
   "metadata": {
    "collapsed": true
   },
   "outputs": [],
   "source": []
  }
 ],
 "metadata": {
  "kernelspec": {
   "display_name": "R",
   "language": "R",
   "name": "ir"
  },
  "language_info": {
   "codemirror_mode": "r",
   "file_extension": ".r",
   "mimetype": "text/x-r-source",
   "name": "R",
   "pygments_lexer": "r",
   "version": "3.4.1"
  }
 },
 "nbformat": 4,
 "nbformat_minor": 2
}
