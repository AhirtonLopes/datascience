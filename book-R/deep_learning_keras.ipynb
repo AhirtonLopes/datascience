{
 "cells": [
  {
   "cell_type": "markdown",
   "metadata": {},
   "source": [
    "# Deep Learning\n",
    "## Keras"
   ]
  },
  {
   "cell_type": "code",
   "execution_count": 1,
   "metadata": {
    "collapsed": true
   },
   "outputs": [],
   "source": [
    "library(keras)"
   ]
  },
  {
   "cell_type": "code",
   "execution_count": 2,
   "metadata": {
    "collapsed": true
   },
   "outputs": [],
   "source": [
    "df <- read.csv('evasao.csv')"
   ]
  },
  {
   "cell_type": "markdown",
   "metadata": {},
   "source": [
    "Separando dados de treino e teste:"
   ]
  },
  {
   "cell_type": "code",
   "execution_count": 3,
   "metadata": {
    "collapsed": true
   },
   "outputs": [],
   "source": [
    "n <- nrow(df)\n",
    "set.seed(42) # Se não fizer isso, verá valores diferentes dos meus\n",
    "limite <- sample(1:n, size = round(0.75*n), replace = FALSE)\n",
    "train_df <- df[limite,]\n",
    "test_df <- df[-limite,]"
   ]
  },
  {
   "cell_type": "code",
   "execution_count": 4,
   "metadata": {},
   "outputs": [
    {
     "data": {
      "text/html": [
       "<table>\n",
       "<thead><tr><th></th><th scope=col>periodo</th><th scope=col>bolsa</th><th scope=col>repetiu</th><th scope=col>ematraso</th><th scope=col>disciplinas</th><th scope=col>faltas</th><th scope=col>desempenho</th><th scope=col>abandonou</th></tr></thead>\n",
       "<tbody>\n",
       "\t<tr><th scope=row>3</th><td> 4      </td><td>0.10    </td><td>0       </td><td>1       </td><td>1       </td><td> 0      </td><td>8.000000</td><td>0       </td></tr>\n",
       "\t<tr><th scope=row>4</th><td> 4      </td><td>0.20    </td><td>8       </td><td>1       </td><td>1       </td><td> 0      </td><td>4.000000</td><td>1       </td></tr>\n",
       "\t<tr><th scope=row>7</th><td> 9      </td><td>0.10    </td><td>6       </td><td>1       </td><td>1       </td><td> 1      </td><td>2.000000</td><td>0       </td></tr>\n",
       "\t<tr><th scope=row>9</th><td> 9      </td><td>0.15    </td><td>7       </td><td>1       </td><td>5       </td><td>10      </td><td>2.800000</td><td>0       </td></tr>\n",
       "\t<tr><th scope=row>11</th><td> 6      </td><td>0.25    </td><td>5       </td><td>1       </td><td>3       </td><td> 6      </td><td>2.666667</td><td>0       </td></tr>\n",
       "\t<tr><th scope=row>17</th><td>10      </td><td>0.05    </td><td>0       </td><td>0       </td><td>2       </td><td> 0      </td><td>9.000000</td><td>0       </td></tr>\n",
       "</tbody>\n",
       "</table>\n"
      ],
      "text/latex": [
       "\\begin{tabular}{r|llllllll}\n",
       "  & periodo & bolsa & repetiu & ematraso & disciplinas & faltas & desempenho & abandonou\\\\\n",
       "\\hline\n",
       "\t3 &  4       & 0.10     & 0        & 1        & 1        &  0       & 8.000000 & 0       \\\\\n",
       "\t4 &  4       & 0.20     & 8        & 1        & 1        &  0       & 4.000000 & 1       \\\\\n",
       "\t7 &  9       & 0.10     & 6        & 1        & 1        &  1       & 2.000000 & 0       \\\\\n",
       "\t9 &  9       & 0.15     & 7        & 1        & 5        & 10       & 2.800000 & 0       \\\\\n",
       "\t11 &  6       & 0.25     & 5        & 1        & 3        &  6       & 2.666667 & 0       \\\\\n",
       "\t17 & 10       & 0.05     & 0        & 0        & 2        &  0       & 9.000000 & 0       \\\\\n",
       "\\end{tabular}\n"
      ],
      "text/markdown": [
       "\n",
       "| <!--/--> | periodo | bolsa | repetiu | ematraso | disciplinas | faltas | desempenho | abandonou | \n",
       "|---|---|---|---|---|---|\n",
       "| 3 |  4       | 0.10     | 0        | 1        | 1        |  0       | 8.000000 | 0        | \n",
       "| 4 |  4       | 0.20     | 8        | 1        | 1        |  0       | 4.000000 | 1        | \n",
       "| 7 |  9       | 0.10     | 6        | 1        | 1        |  1       | 2.000000 | 0        | \n",
       "| 9 |  9       | 0.15     | 7        | 1        | 5        | 10       | 2.800000 | 0        | \n",
       "| 11 |  6       | 0.25     | 5        | 1        | 3        |  6       | 2.666667 | 0        | \n",
       "| 17 | 10       | 0.05     | 0        | 0        | 2        |  0       | 9.000000 | 0        | \n",
       "\n",
       "\n"
      ],
      "text/plain": [
       "   periodo bolsa repetiu ematraso disciplinas faltas desempenho abandonou\n",
       "3   4      0.10  0       1        1            0     8.000000   0        \n",
       "4   4      0.20  8       1        1            0     4.000000   1        \n",
       "7   9      0.10  6       1        1            1     2.000000   0        \n",
       "9   9      0.15  7       1        5           10     2.800000   0        \n",
       "11  6      0.25  5       1        3            6     2.666667   0        \n",
       "17 10      0.05  0       0        2            0     9.000000   0        "
      ]
     },
     "metadata": {},
     "output_type": "display_data"
    }
   ],
   "source": [
    "head(test_df)"
   ]
  },
  {
   "cell_type": "markdown",
   "metadata": {},
   "source": [
    "Vamos criar o modelo Sequencial:"
   ]
  },
  {
   "cell_type": "code",
   "execution_count": 5,
   "metadata": {},
   "outputs": [],
   "source": [
    "\n",
    "modelo <- keras_model_sequential() \n",
    "modelo %>% \n",
    "  layer_dense(units = 128, activation = 'relu', input_shape=c(7), kernel_initializer = \"normal\") %>% \n",
    "  layer_dropout(rate = 0.4) %>% \n",
    "  layer_dense(units = 512, activation='relu') %>%\n",
    "  layer_dropout(rate = 0.3) %>%\n",
    "  layer_dense(units=2,activation='sigmoid')\n"
   ]
  },
  {
   "cell_type": "code",
   "execution_count": 6,
   "metadata": {},
   "outputs": [
    {
     "name": "stdout",
     "output_type": "stream",
     "text": [
      "________________________________________________________________________________\n",
      "Layer (type)                        Output Shape                    Param #     \n",
      "================================================================================\n",
      "dense_1 (Dense)                     (None, 128)                     1024        \n",
      "________________________________________________________________________________\n",
      "dropout_1 (Dropout)                 (None, 128)                     0           \n",
      "________________________________________________________________________________\n",
      "dense_2 (Dense)                     (None, 512)                     66048       \n",
      "________________________________________________________________________________\n",
      "dropout_2 (Dropout)                 (None, 512)                     0           \n",
      "________________________________________________________________________________\n",
      "dense_3 (Dense)                     (None, 2)                       1026        \n",
      "================================================================================\n",
      "Total params: 68,098\n",
      "Trainable params: 68,098\n",
      "Non-trainable params: 0\n",
      "________________________________________________________________________________\n"
     ]
    }
   ],
   "source": [
    "summary(modelo)"
   ]
  },
  {
   "cell_type": "markdown",
   "metadata": {},
   "source": [
    "Compilando e treinando o modelo:"
   ]
  },
  {
   "cell_type": "code",
   "execution_count": 7,
   "metadata": {
    "collapsed": true
   },
   "outputs": [],
   "source": [
    "modelo %>% compile(\n",
    "  loss = 'categorical_crossentropy',\n",
    "  optimizer = optimizer_rmsprop(),\n",
    "  metrics = 'accuracy'\n",
    ")"
   ]
  },
  {
   "cell_type": "code",
   "execution_count": 8,
   "metadata": {},
   "outputs": [
    {
     "name": "stderr",
     "output_type": "stream",
     "text": [
      "\n",
      "Attaching package: ‘dplyr’\n",
      "\n",
      "The following objects are masked from ‘package:stats’:\n",
      "\n",
      "    filter, lag\n",
      "\n",
      "The following objects are masked from ‘package:base’:\n",
      "\n",
      "    intersect, setdiff, setequal, union\n",
      "\n"
     ]
    }
   ],
   "source": [
    "library(dplyr)\n",
    "preditores_treino <- data.matrix(select(train_df, c('periodo','bolsa','repetiu','ematraso','disciplinas','faltas','desempenho')))"
   ]
  },
  {
   "cell_type": "code",
   "execution_count": 9,
   "metadata": {},
   "outputs": [
    {
     "data": {
      "text/html": [
       "<table>\n",
       "<thead><tr><th></th><th scope=col>periodo</th><th scope=col>bolsa</th><th scope=col>repetiu</th><th scope=col>ematraso</th><th scope=col>disciplinas</th><th scope=col>faltas</th><th scope=col>desempenho</th></tr></thead>\n",
       "<tbody>\n",
       "\t<tr><th scope=row>275</th><td> 2  </td><td>0.15</td><td>0   </td><td>1   </td><td>1   </td><td>0   </td><td>10.0</td></tr>\n",
       "\t<tr><th scope=row>281</th><td> 9  </td><td>0.00</td><td>2   </td><td>1   </td><td>5   </td><td>0   </td><td> 0.8</td></tr>\n",
       "\t<tr><th scope=row>86</th><td> 9  </td><td>0.10</td><td>3   </td><td>0   </td><td>1   </td><td>2   </td><td> 6.0</td></tr>\n",
       "\t<tr><th scope=row>247</th><td> 8  </td><td>0.15</td><td>8   </td><td>0   </td><td>0   </td><td>0   </td><td> 0.0</td></tr>\n",
       "\t<tr><th scope=row>190</th><td> 9  </td><td>0.25</td><td>6   </td><td>0   </td><td>3   </td><td>0   </td><td> 1.0</td></tr>\n",
       "\t<tr><th scope=row>154</th><td>10  </td><td>0.20</td><td>3   </td><td>1   </td><td>2   </td><td>2   </td><td> 5.0</td></tr>\n",
       "</tbody>\n",
       "</table>\n"
      ],
      "text/latex": [
       "\\begin{tabular}{r|lllllll}\n",
       "  & periodo & bolsa & repetiu & ematraso & disciplinas & faltas & desempenho\\\\\n",
       "\\hline\n",
       "\t275 &  2   & 0.15 & 0    & 1    & 1    & 0    & 10.0\\\\\n",
       "\t281 &  9   & 0.00 & 2    & 1    & 5    & 0    &  0.8\\\\\n",
       "\t86 &  9   & 0.10 & 3    & 0    & 1    & 2    &  6.0\\\\\n",
       "\t247 &  8   & 0.15 & 8    & 0    & 0    & 0    &  0.0\\\\\n",
       "\t190 &  9   & 0.25 & 6    & 0    & 3    & 0    &  1.0\\\\\n",
       "\t154 & 10   & 0.20 & 3    & 1    & 2    & 2    &  5.0\\\\\n",
       "\\end{tabular}\n"
      ],
      "text/markdown": [
       "\n",
       "| <!--/--> | periodo | bolsa | repetiu | ematraso | disciplinas | faltas | desempenho | \n",
       "|---|---|---|---|---|---|\n",
       "| 275 |  2   | 0.15 | 0    | 1    | 1    | 0    | 10.0 | \n",
       "| 281 |  9   | 0.00 | 2    | 1    | 5    | 0    |  0.8 | \n",
       "| 86 |  9   | 0.10 | 3    | 0    | 1    | 2    |  6.0 | \n",
       "| 247 |  8   | 0.15 | 8    | 0    | 0    | 0    |  0.0 | \n",
       "| 190 |  9   | 0.25 | 6    | 0    | 3    | 0    |  1.0 | \n",
       "| 154 | 10   | 0.20 | 3    | 1    | 2    | 2    |  5.0 | \n",
       "\n",
       "\n"
      ],
      "text/plain": [
       "    periodo bolsa repetiu ematraso disciplinas faltas desempenho\n",
       "275  2      0.15  0       1        1           0      10.0      \n",
       "281  9      0.00  2       1        5           0       0.8      \n",
       "86   9      0.10  3       0        1           2       6.0      \n",
       "247  8      0.15  8       0        0           0       0.0      \n",
       "190  9      0.25  6       0        3           0       1.0      \n",
       "154 10      0.20  3       1        2           2       5.0      "
      ]
     },
     "metadata": {},
     "output_type": "display_data"
    }
   ],
   "source": [
    "head(preditores_treino)"
   ]
  },
  {
   "cell_type": "code",
   "execution_count": 10,
   "metadata": {},
   "outputs": [
    {
     "data": {
      "text/html": [
       "<table>\n",
       "<tbody>\n",
       "\t<tr><td>1</td><td>0</td></tr>\n",
       "\t<tr><td>1</td><td>0</td></tr>\n",
       "\t<tr><td>1</td><td>0</td></tr>\n",
       "\t<tr><td>1</td><td>0</td></tr>\n",
       "\t<tr><td>0</td><td>1</td></tr>\n",
       "\t<tr><td>1</td><td>0</td></tr>\n",
       "</tbody>\n",
       "</table>\n"
      ],
      "text/latex": [
       "\\begin{tabular}{ll}\n",
       "\t 1 & 0\\\\\n",
       "\t 1 & 0\\\\\n",
       "\t 1 & 0\\\\\n",
       "\t 1 & 0\\\\\n",
       "\t 0 & 1\\\\\n",
       "\t 1 & 0\\\\\n",
       "\\end{tabular}\n"
      ],
      "text/markdown": [
       "\n",
       "| 1 | 0 | \n",
       "| 1 | 0 | \n",
       "| 1 | 0 | \n",
       "| 1 | 0 | \n",
       "| 0 | 1 | \n",
       "| 1 | 0 | \n",
       "\n",
       "\n"
      ],
      "text/plain": [
       "     [,1] [,2]\n",
       "[1,] 1    0   \n",
       "[2,] 1    0   \n",
       "[3,] 1    0   \n",
       "[4,] 1    0   \n",
       "[5,] 0    1   \n",
       "[6,] 1    0   "
      ]
     },
     "metadata": {},
     "output_type": "display_data"
    }
   ],
   "source": [
    "rotulos_treino <- to_categorical(data.matrix(select(train_df,c('abandonou'))))\n",
    "head(rotulos_treino)"
   ]
  },
  {
   "cell_type": "code",
   "execution_count": 11,
   "metadata": {},
   "outputs": [],
   "source": [
    "historico <- modelo %>% fit(\n",
    "  preditores_treino, rotulos_treino, \n",
    "  epochs = 30, batch_size = 128, \n",
    "  validation_split = 0.2\n",
    ")"
   ]
  },
  {
   "cell_type": "code",
   "execution_count": 12,
   "metadata": {},
   "outputs": [
    {
     "data": {},
     "metadata": {},
     "output_type": "display_data"
    },
    {
     "data": {
      "image/png": "[encoded data removed]",
      "text/plain": [
       "plot without title"
      ]
     },
     "metadata": {},
     "output_type": "display_data"
    }
   ],
   "source": [
    "plot(historico)"
   ]
  },
  {
   "cell_type": "markdown",
   "metadata": {},
   "source": [
    "Avaliando o modelo:"
   ]
  },
  {
   "cell_type": "code",
   "execution_count": 14,
   "metadata": {},
   "outputs": [
    {
     "data": {
      "text/html": [
       "<table>\n",
       "<tbody>\n",
       "\t<tr><td>1</td><td>0</td></tr>\n",
       "\t<tr><td>0</td><td>1</td></tr>\n",
       "\t<tr><td>1</td><td>0</td></tr>\n",
       "\t<tr><td>1</td><td>0</td></tr>\n",
       "\t<tr><td>1</td><td>0</td></tr>\n",
       "\t<tr><td>1</td><td>0</td></tr>\n",
       "</tbody>\n",
       "</table>\n"
      ],
      "text/latex": [
       "\\begin{tabular}{ll}\n",
       "\t 1 & 0\\\\\n",
       "\t 0 & 1\\\\\n",
       "\t 1 & 0\\\\\n",
       "\t 1 & 0\\\\\n",
       "\t 1 & 0\\\\\n",
       "\t 1 & 0\\\\\n",
       "\\end{tabular}\n"
      ],
      "text/markdown": [
       "\n",
       "| 1 | 0 | \n",
       "| 0 | 1 | \n",
       "| 1 | 0 | \n",
       "| 1 | 0 | \n",
       "| 1 | 0 | \n",
       "| 1 | 0 | \n",
       "\n",
       "\n"
      ],
      "text/plain": [
       "     [,1] [,2]\n",
       "[1,] 1    0   \n",
       "[2,] 0    1   \n",
       "[3,] 1    0   \n",
       "[4,] 1    0   \n",
       "[5,] 1    0   \n",
       "[6,] 1    0   "
      ]
     },
     "metadata": {},
     "output_type": "display_data"
    },
    {
     "data": {
      "text/html": [
       "<dl>\n",
       "\t<dt>$loss</dt>\n",
       "\t\t<dd>0.714963535467784</dd>\n",
       "\t<dt>$acc</dt>\n",
       "\t\t<dd>0.653333331743876</dd>\n",
       "</dl>\n"
      ],
      "text/latex": [
       "\\begin{description}\n",
       "\\item[\\$loss] 0.714963535467784\n",
       "\\item[\\$acc] 0.653333331743876\n",
       "\\end{description}\n"
      ],
      "text/markdown": [
       "$loss\n",
       ":   0.714963535467784\n",
       "$acc\n",
       ":   0.653333331743876\n",
       "\n",
       "\n"
      ],
      "text/plain": [
       "$loss\n",
       "[1] 0.7149635\n",
       "\n",
       "$acc\n",
       "[1] 0.6533333\n"
      ]
     },
     "metadata": {},
     "output_type": "display_data"
    }
   ],
   "source": [
    "rotulos_teste <- to_categorical(data.matrix(select(test_df,c('abandonou'))))\n",
    "head(rotulos_teste)\n",
    "preditores_teste <- data.matrix(select(test_df, c('periodo','bolsa','repetiu','ematraso','disciplinas','faltas','desempenho')))\n",
    "modelo %>% evaluate(preditores_teste, rotulos_teste)"
   ]
  },
  {
   "cell_type": "code",
   "execution_count": 15,
   "metadata": {},
   "outputs": [
    {
     "data": {
      "text/plain": [
       "Model\n",
       "________________________________________________________________________________\n",
       "Layer (type)                        Output Shape                    Param #     \n",
       "================================================================================\n",
       "dense_1 (Dense)                     (None, 128)                     1024        \n",
       "________________________________________________________________________________\n",
       "dropout_1 (Dropout)                 (None, 128)                     0           \n",
       "________________________________________________________________________________\n",
       "dense_2 (Dense)                     (None, 512)                     66048       \n",
       "________________________________________________________________________________\n",
       "dropout_2 (Dropout)                 (None, 512)                     0           \n",
       "________________________________________________________________________________\n",
       "dense_3 (Dense)                     (None, 2)                       1026        \n",
       "================================================================================\n",
       "Total params: 68,098\n",
       "Trainable params: 68,098\n",
       "Non-trainable params: 0\n",
       "________________________________________________________________________________\n",
       "\n"
      ]
     },
     "metadata": {},
     "output_type": "display_data"
    }
   ],
   "source": [
    "modelo"
   ]
  },
  {
   "cell_type": "code",
   "execution_count": 19,
   "metadata": {},
   "outputs": [],
   "source": [
    "resultado <- modelo %>% predict_classes(preditores_teste)"
   ]
  },
  {
   "cell_type": "code",
   "execution_count": 24,
   "metadata": {},
   "outputs": [
    {
     "name": "stdout",
     "output_type": "stream",
     "text": [
      " num [1:75(1d)] 0 1 1 1 1 0 1 1 1 1 ...\n"
     ]
    }
   ],
   "source": [
    "str(resultado)"
   ]
  },
  {
   "cell_type": "code",
   "execution_count": 25,
   "metadata": {},
   "outputs": [
    {
     "data": {
      "text/html": [
       "<ol class=list-inline>\n",
       "\t<li>0</li>\n",
       "\t<li>1</li>\n",
       "\t<li>0</li>\n",
       "\t<li>0</li>\n",
       "\t<li>0</li>\n",
       "\t<li>0</li>\n",
       "\t<li>0</li>\n",
       "\t<li>1</li>\n",
       "\t<li>1</li>\n",
       "\t<li>0</li>\n",
       "\t<li>1</li>\n",
       "\t<li>1</li>\n",
       "\t<li>1</li>\n",
       "\t<li>0</li>\n",
       "\t<li>1</li>\n",
       "\t<li>0</li>\n",
       "\t<li>0</li>\n",
       "\t<li>1</li>\n",
       "\t<li>0</li>\n",
       "\t<li>1</li>\n",
       "\t<li>0</li>\n",
       "\t<li>1</li>\n",
       "\t<li>0</li>\n",
       "\t<li>1</li>\n",
       "\t<li>0</li>\n",
       "\t<li>0</li>\n",
       "\t<li>1</li>\n",
       "\t<li>0</li>\n",
       "\t<li>1</li>\n",
       "\t<li>0</li>\n",
       "\t<li>1</li>\n",
       "\t<li>1</li>\n",
       "\t<li>1</li>\n",
       "\t<li>0</li>\n",
       "\t<li>1</li>\n",
       "\t<li>0</li>\n",
       "\t<li>1</li>\n",
       "\t<li>0</li>\n",
       "\t<li>0</li>\n",
       "\t<li>0</li>\n",
       "\t<li>0</li>\n",
       "\t<li>0</li>\n",
       "\t<li>0</li>\n",
       "\t<li>0</li>\n",
       "\t<li>1</li>\n",
       "\t<li>1</li>\n",
       "\t<li>0</li>\n",
       "\t<li>0</li>\n",
       "\t<li>0</li>\n",
       "\t<li>0</li>\n",
       "\t<li>1</li>\n",
       "\t<li>0</li>\n",
       "\t<li>0</li>\n",
       "\t<li>0</li>\n",
       "\t<li>0</li>\n",
       "\t<li>1</li>\n",
       "\t<li>1</li>\n",
       "\t<li>1</li>\n",
       "\t<li>0</li>\n",
       "\t<li>1</li>\n",
       "\t<li>1</li>\n",
       "\t<li>1</li>\n",
       "\t<li>0</li>\n",
       "\t<li>0</li>\n",
       "\t<li>0</li>\n",
       "\t<li>0</li>\n",
       "\t<li>0</li>\n",
       "\t<li>0</li>\n",
       "\t<li>0</li>\n",
       "\t<li>0</li>\n",
       "\t<li>1</li>\n",
       "\t<li>0</li>\n",
       "\t<li>0</li>\n",
       "\t<li>1</li>\n",
       "\t<li>1</li>\n",
       "</ol>\n"
      ],
      "text/latex": [
       "\\begin{enumerate*}\n",
       "\\item 0\n",
       "\\item 1\n",
       "\\item 0\n",
       "\\item 0\n",
       "\\item 0\n",
       "\\item 0\n",
       "\\item 0\n",
       "\\item 1\n",
       "\\item 1\n",
       "\\item 0\n",
       "\\item 1\n",
       "\\item 1\n",
       "\\item 1\n",
       "\\item 0\n",
       "\\item 1\n",
       "\\item 0\n",
       "\\item 0\n",
       "\\item 1\n",
       "\\item 0\n",
       "\\item 1\n",
       "\\item 0\n",
       "\\item 1\n",
       "\\item 0\n",
       "\\item 1\n",
       "\\item 0\n",
       "\\item 0\n",
       "\\item 1\n",
       "\\item 0\n",
       "\\item 1\n",
       "\\item 0\n",
       "\\item 1\n",
       "\\item 1\n",
       "\\item 1\n",
       "\\item 0\n",
       "\\item 1\n",
       "\\item 0\n",
       "\\item 1\n",
       "\\item 0\n",
       "\\item 0\n",
       "\\item 0\n",
       "\\item 0\n",
       "\\item 0\n",
       "\\item 0\n",
       "\\item 0\n",
       "\\item 1\n",
       "\\item 1\n",
       "\\item 0\n",
       "\\item 0\n",
       "\\item 0\n",
       "\\item 0\n",
       "\\item 1\n",
       "\\item 0\n",
       "\\item 0\n",
       "\\item 0\n",
       "\\item 0\n",
       "\\item 1\n",
       "\\item 1\n",
       "\\item 1\n",
       "\\item 0\n",
       "\\item 1\n",
       "\\item 1\n",
       "\\item 1\n",
       "\\item 0\n",
       "\\item 0\n",
       "\\item 0\n",
       "\\item 0\n",
       "\\item 0\n",
       "\\item 0\n",
       "\\item 0\n",
       "\\item 0\n",
       "\\item 1\n",
       "\\item 0\n",
       "\\item 0\n",
       "\\item 1\n",
       "\\item 1\n",
       "\\end{enumerate*}\n"
      ],
      "text/markdown": [
       "1. 0\n",
       "2. 1\n",
       "3. 0\n",
       "4. 0\n",
       "5. 0\n",
       "6. 0\n",
       "7. 0\n",
       "8. 1\n",
       "9. 1\n",
       "10. 0\n",
       "11. 1\n",
       "12. 1\n",
       "13. 1\n",
       "14. 0\n",
       "15. 1\n",
       "16. 0\n",
       "17. 0\n",
       "18. 1\n",
       "19. 0\n",
       "20. 1\n",
       "21. 0\n",
       "22. 1\n",
       "23. 0\n",
       "24. 1\n",
       "25. 0\n",
       "26. 0\n",
       "27. 1\n",
       "28. 0\n",
       "29. 1\n",
       "30. 0\n",
       "31. 1\n",
       "32. 1\n",
       "33. 1\n",
       "34. 0\n",
       "35. 1\n",
       "36. 0\n",
       "37. 1\n",
       "38. 0\n",
       "39. 0\n",
       "40. 0\n",
       "41. 0\n",
       "42. 0\n",
       "43. 0\n",
       "44. 0\n",
       "45. 1\n",
       "46. 1\n",
       "47. 0\n",
       "48. 0\n",
       "49. 0\n",
       "50. 0\n",
       "51. 1\n",
       "52. 0\n",
       "53. 0\n",
       "54. 0\n",
       "55. 0\n",
       "56. 1\n",
       "57. 1\n",
       "58. 1\n",
       "59. 0\n",
       "60. 1\n",
       "61. 1\n",
       "62. 1\n",
       "63. 0\n",
       "64. 0\n",
       "65. 0\n",
       "66. 0\n",
       "67. 0\n",
       "68. 0\n",
       "69. 0\n",
       "70. 0\n",
       "71. 1\n",
       "72. 0\n",
       "73. 0\n",
       "74. 1\n",
       "75. 1\n",
       "\n",
       "\n"
      ],
      "text/plain": [
       " [1] 0 1 0 0 0 0 0 1 1 0 1 1 1 0 1 0 0 1 0 1 0 1 0 1 0 0 1 0 1 0 1 1 1 0 1 0 1 0\n",
       "[39] 0 0 0 0 0 0 1 1 0 0 0 0 1 0 0 0 0 1 1 1 0 1 1 1 0 0 0 0 0 0 0 0 1 0 0 1 1"
      ]
     },
     "metadata": {},
     "output_type": "display_data"
    }
   ],
   "source": [
    "test_df$abandonou"
   ]
  },
  {
   "cell_type": "code",
   "execution_count": 26,
   "metadata": {},
   "outputs": [
    {
     "data": {
      "text/html": [
       "<ol class=list-inline>\n",
       "\t<li>0</li>\n",
       "\t<li>1</li>\n",
       "\t<li>1</li>\n",
       "\t<li>1</li>\n",
       "\t<li>1</li>\n",
       "\t<li>0</li>\n",
       "\t<li>1</li>\n",
       "\t<li>1</li>\n",
       "\t<li>1</li>\n",
       "\t<li>1</li>\n",
       "\t<li>0</li>\n",
       "\t<li>1</li>\n",
       "\t<li>1</li>\n",
       "\t<li>1</li>\n",
       "\t<li>1</li>\n",
       "\t<li>0</li>\n",
       "\t<li>0</li>\n",
       "\t<li>1</li>\n",
       "\t<li>1</li>\n",
       "\t<li>1</li>\n",
       "\t<li>0</li>\n",
       "\t<li>1</li>\n",
       "\t<li>1</li>\n",
       "\t<li>1</li>\n",
       "\t<li>0</li>\n",
       "\t<li>0</li>\n",
       "\t<li>1</li>\n",
       "\t<li>0</li>\n",
       "\t<li>0</li>\n",
       "\t<li>0</li>\n",
       "\t<li>1</li>\n",
       "\t<li>1</li>\n",
       "\t<li>1</li>\n",
       "\t<li>0</li>\n",
       "\t<li>0</li>\n",
       "\t<li>0</li>\n",
       "\t<li>0</li>\n",
       "\t<li>0</li>\n",
       "\t<li>1</li>\n",
       "\t<li>0</li>\n",
       "\t<li>1</li>\n",
       "\t<li>1</li>\n",
       "\t<li>1</li>\n",
       "\t<li>0</li>\n",
       "\t<li>1</li>\n",
       "\t<li>0</li>\n",
       "\t<li>1</li>\n",
       "\t<li>0</li>\n",
       "\t<li>0</li>\n",
       "\t<li>0</li>\n",
       "\t<li>1</li>\n",
       "\t<li>0</li>\n",
       "\t<li>1</li>\n",
       "\t<li>0</li>\n",
       "\t<li>1</li>\n",
       "\t<li>1</li>\n",
       "\t<li>1</li>\n",
       "\t<li>1</li>\n",
       "\t<li>1</li>\n",
       "\t<li>1</li>\n",
       "\t<li>1</li>\n",
       "\t<li>0</li>\n",
       "\t<li>0</li>\n",
       "\t<li>0</li>\n",
       "\t<li>1</li>\n",
       "\t<li>0</li>\n",
       "\t<li>1</li>\n",
       "\t<li>1</li>\n",
       "\t<li>0</li>\n",
       "\t<li>1</li>\n",
       "\t<li>1</li>\n",
       "\t<li>0</li>\n",
       "\t<li>0</li>\n",
       "\t<li>1</li>\n",
       "\t<li>1</li>\n",
       "</ol>\n"
      ],
      "text/latex": [
       "\\begin{enumerate*}\n",
       "\\item 0\n",
       "\\item 1\n",
       "\\item 1\n",
       "\\item 1\n",
       "\\item 1\n",
       "\\item 0\n",
       "\\item 1\n",
       "\\item 1\n",
       "\\item 1\n",
       "\\item 1\n",
       "\\item 0\n",
       "\\item 1\n",
       "\\item 1\n",
       "\\item 1\n",
       "\\item 1\n",
       "\\item 0\n",
       "\\item 0\n",
       "\\item 1\n",
       "\\item 1\n",
       "\\item 1\n",
       "\\item 0\n",
       "\\item 1\n",
       "\\item 1\n",
       "\\item 1\n",
       "\\item 0\n",
       "\\item 0\n",
       "\\item 1\n",
       "\\item 0\n",
       "\\item 0\n",
       "\\item 0\n",
       "\\item 1\n",
       "\\item 1\n",
       "\\item 1\n",
       "\\item 0\n",
       "\\item 0\n",
       "\\item 0\n",
       "\\item 0\n",
       "\\item 0\n",
       "\\item 1\n",
       "\\item 0\n",
       "\\item 1\n",
       "\\item 1\n",
       "\\item 1\n",
       "\\item 0\n",
       "\\item 1\n",
       "\\item 0\n",
       "\\item 1\n",
       "\\item 0\n",
       "\\item 0\n",
       "\\item 0\n",
       "\\item 1\n",
       "\\item 0\n",
       "\\item 1\n",
       "\\item 0\n",
       "\\item 1\n",
       "\\item 1\n",
       "\\item 1\n",
       "\\item 1\n",
       "\\item 1\n",
       "\\item 1\n",
       "\\item 1\n",
       "\\item 0\n",
       "\\item 0\n",
       "\\item 0\n",
       "\\item 1\n",
       "\\item 0\n",
       "\\item 1\n",
       "\\item 1\n",
       "\\item 0\n",
       "\\item 1\n",
       "\\item 1\n",
       "\\item 0\n",
       "\\item 0\n",
       "\\item 1\n",
       "\\item 1\n",
       "\\end{enumerate*}\n"
      ],
      "text/markdown": [
       "1. 0\n",
       "2. 1\n",
       "3. 1\n",
       "4. 1\n",
       "5. 1\n",
       "6. 0\n",
       "7. 1\n",
       "8. 1\n",
       "9. 1\n",
       "10. 1\n",
       "11. 0\n",
       "12. 1\n",
       "13. 1\n",
       "14. 1\n",
       "15. 1\n",
       "16. 0\n",
       "17. 0\n",
       "18. 1\n",
       "19. 1\n",
       "20. 1\n",
       "21. 0\n",
       "22. 1\n",
       "23. 1\n",
       "24. 1\n",
       "25. 0\n",
       "26. 0\n",
       "27. 1\n",
       "28. 0\n",
       "29. 0\n",
       "30. 0\n",
       "31. 1\n",
       "32. 1\n",
       "33. 1\n",
       "34. 0\n",
       "35. 0\n",
       "36. 0\n",
       "37. 0\n",
       "38. 0\n",
       "39. 1\n",
       "40. 0\n",
       "41. 1\n",
       "42. 1\n",
       "43. 1\n",
       "44. 0\n",
       "45. 1\n",
       "46. 0\n",
       "47. 1\n",
       "48. 0\n",
       "49. 0\n",
       "50. 0\n",
       "51. 1\n",
       "52. 0\n",
       "53. 1\n",
       "54. 0\n",
       "55. 1\n",
       "56. 1\n",
       "57. 1\n",
       "58. 1\n",
       "59. 1\n",
       "60. 1\n",
       "61. 1\n",
       "62. 0\n",
       "63. 0\n",
       "64. 0\n",
       "65. 1\n",
       "66. 0\n",
       "67. 1\n",
       "68. 1\n",
       "69. 0\n",
       "70. 1\n",
       "71. 1\n",
       "72. 0\n",
       "73. 0\n",
       "74. 1\n",
       "75. 1\n",
       "\n",
       "\n"
      ],
      "text/plain": [
       " [1] 0 1 1 1 1 0 1 1 1 1 0 1 1 1 1 0 0 1 1 1 0 1 1 1 0 0 1 0 0 0 1 1 1 0 0 0 0 0\n",
       "[39] 1 0 1 1 1 0 1 0 1 0 0 0 1 0 1 0 1 1 1 1 1 1 1 0 0 0 1 0 1 1 0 1 1 0 0 1 1"
      ]
     },
     "metadata": {},
     "output_type": "display_data"
    }
   ],
   "source": [
    "resultado"
   ]
  },
  {
   "cell_type": "code",
   "execution_count": null,
   "metadata": {
    "collapsed": true
   },
   "outputs": [],
   "source": []
  }
 ],
 "metadata": {
  "kernelspec": {
   "display_name": "R",
   "language": "R",
   "name": "ir"
  },
  "language_info": {
   "codemirror_mode": "r",
   "file_extension": ".r",
   "mimetype": "text/x-r-source",
   "name": "R",
   "pygments_lexer": "r",
   "version": "3.4.1"
  }
 },
 "nbformat": 4,
 "nbformat_minor": 2
}
