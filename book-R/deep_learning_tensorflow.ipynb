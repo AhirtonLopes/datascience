{
 "cells": [
  {
   "cell_type": "markdown",
   "metadata": {},
   "source": [
    "# Deep Learning\n",
    "## Tensorflow"
   ]
  },
  {
   "cell_type": "code",
   "execution_count": 1,
   "metadata": {},
   "outputs": [
    {
     "data": {
      "text/html": [
       "<table>\n",
       "<thead><tr><th scope=col>Pesos</th><th scope=col>Alturas</th></tr></thead>\n",
       "<tbody>\n",
       "\t<tr><td>74  </td><td>1.73</td></tr>\n",
       "\t<tr><td>61  </td><td>1.62</td></tr>\n",
       "\t<tr><td>61  </td><td>1.63</td></tr>\n",
       "\t<tr><td>68  </td><td>1.68</td></tr>\n",
       "\t<tr><td>70  </td><td>1.68</td></tr>\n",
       "\t<tr><td>73  </td><td>1.75</td></tr>\n",
       "</tbody>\n",
       "</table>\n"
      ],
      "text/latex": [
       "\\begin{tabular}{r|ll}\n",
       " Pesos & Alturas\\\\\n",
       "\\hline\n",
       "\t 74   & 1.73\\\\\n",
       "\t 61   & 1.62\\\\\n",
       "\t 61   & 1.63\\\\\n",
       "\t 68   & 1.68\\\\\n",
       "\t 70   & 1.68\\\\\n",
       "\t 73   & 1.75\\\\\n",
       "\\end{tabular}\n"
      ],
      "text/markdown": [
       "\n",
       "Pesos | Alturas | \n",
       "|---|---|---|---|---|---|\n",
       "| 74   | 1.73 | \n",
       "| 61   | 1.62 | \n",
       "| 61   | 1.63 | \n",
       "| 68   | 1.68 | \n",
       "| 70   | 1.68 | \n",
       "| 73   | 1.75 | \n",
       "\n",
       "\n"
      ],
      "text/plain": [
       "  Pesos Alturas\n",
       "1 74    1.73   \n",
       "2 61    1.62   \n",
       "3 61    1.63   \n",
       "4 68    1.68   \n",
       "5 70    1.68   \n",
       "6 73    1.75   "
      ]
     },
     "metadata": {},
     "output_type": "display_data"
    }
   ],
   "source": [
    "df <- read.csv('pesos-alturas.csv')\n",
    "head(df)"
   ]
  },
  {
   "cell_type": "code",
   "execution_count": 2,
   "metadata": {
    "collapsed": true
   },
   "outputs": [],
   "source": [
    "library(tensorflow)"
   ]
  },
  {
   "cell_type": "markdown",
   "metadata": {},
   "source": [
    "Separando dados de treino e teste: "
   ]
  },
  {
   "cell_type": "code",
   "execution_count": 7,
   "metadata": {},
   "outputs": [],
   "source": [
    "set.seed(42) \n",
    "indices <- sample.int(n = nrow(df), size = floor(.75*nrow(df)), replace = FALSE)\n",
    "df_treino <- df[indices,]\n",
    "df_teste  <- df[-indices,]"
   ]
  },
  {
   "cell_type": "code",
   "execution_count": 12,
   "metadata": {},
   "outputs": [
    {
     "data": {
      "text/html": [
       "224"
      ],
      "text/latex": [
       "224"
      ],
      "text/markdown": [
       "224"
      ],
      "text/plain": [
       "[1] 224"
      ]
     },
     "metadata": {},
     "output_type": "display_data"
    }
   ],
   "source": [
    "nrow(df_treino)"
   ]
  },
  {
   "cell_type": "code",
   "execution_count": 13,
   "metadata": {},
   "outputs": [
    {
     "data": {
      "text/html": [
       "75"
      ],
      "text/latex": [
       "75"
      ],
      "text/markdown": [
       "75"
      ],
      "text/plain": [
       "[1] 75"
      ]
     },
     "metadata": {},
     "output_type": "display_data"
    }
   ],
   "source": [
    "nrow(df_teste)"
   ]
  },
  {
   "cell_type": "markdown",
   "metadata": {},
   "source": [
    "Definindo os coeficientes (aquilo que queremos calcular):\n",
    "y = ax + b"
   ]
  },
  {
   "cell_type": "code",
   "execution_count": 17,
   "metadata": {},
   "outputs": [],
   "source": [
    "a <- tf$Variable(rnorm(1), name=\"ca\")\n",
    "b <- tf$Variable(rnorm(1), name=\"cl\")"
   ]
  },
  {
   "cell_type": "markdown",
   "metadata": {},
   "source": [
    "Definindo os placeholders (x e y): "
   ]
  },
  {
   "cell_type": "code",
   "execution_count": 20,
   "metadata": {
    "collapsed": true
   },
   "outputs": [],
   "source": [
    "x <- tf$placeholder(\"float\")\n",
    "y <- tf$placeholder(\"float\")"
   ]
  },
  {
   "cell_type": "markdown",
   "metadata": {},
   "source": [
    "A função que queremos usar:"
   ]
  },
  {
   "cell_type": "code",
   "execution_count": 21,
   "metadata": {
    "collapsed": true
   },
   "outputs": [],
   "source": [
    "y_hat <- tf$add(tf$multiply(x, a), b)"
   ]
  },
  {
   "cell_type": "markdown",
   "metadata": {},
   "source": [
    "A função que queremos minimizar:"
   ]
  },
  {
   "cell_type": "code",
   "execution_count": 23,
   "metadata": {
    "collapsed": true
   },
   "outputs": [],
   "source": [
    "perda <- tf$reduce_sum(tf$pow(y_hat - y, 2)/2)"
   ]
  },
  {
   "cell_type": "markdown",
   "metadata": {},
   "source": [
    "Learning rate:"
   ]
  },
  {
   "cell_type": "code",
   "execution_count": 24,
   "metadata": {
    "collapsed": true
   },
   "outputs": [],
   "source": [
    "l_rate <- 0.001"
   ]
  },
  {
   "cell_type": "code",
   "execution_count": 26,
   "metadata": {},
   "outputs": [],
   "source": [
    "generator <- tf$train$GradientDescentOptimizer(learning_rate = l_rate)\n",
    "optimizer <- generator$minimize(perda)"
   ]
  },
  {
   "cell_type": "code",
   "execution_count": 27,
   "metadata": {
    "collapsed": true
   },
   "outputs": [],
   "source": [
    "init <- tf$global_variables_initializer()"
   ]
  },
  {
   "cell_type": "code",
   "execution_count": 28,
   "metadata": {
    "collapsed": true
   },
   "outputs": [],
   "source": [
    "sess = tf$Session()\n",
    "sess$run(init)\n"
   ]
  },
  {
   "cell_type": "markdown",
   "metadata": {},
   "source": [
    "Roda até que o valor da perda estacione:"
   ]
  },
  {
   "cell_type": "code",
   "execution_count": 32,
   "metadata": {},
   "outputs": [],
   "source": [
    "feed_dict <- dict(x = df_treino$Alturas, y = df_treino$Pesos)\n",
    "epsilon <- .Machine$double.eps\n",
    "last_cost <- Inf\n",
    "while (TRUE) {\n",
    "  sess$run(optimizer, feed_dict = feed_dict)\n",
    "  current_cost <- sess$run(perda, feed_dict = feed_dict)\n",
    "  if (last_cost - current_cost < epsilon) break\n",
    "  last_cost <- current_cost\n",
    "}"
   ]
  },
  {
   "cell_type": "markdown",
   "metadata": {},
   "source": [
    "Mostra os coeficientes calculados: "
   ]
  },
  {
   "cell_type": "code",
   "execution_count": 38,
   "metadata": {},
   "outputs": [
    {
     "data": {
      "text/html": [
       "<ol class=list-inline>\n",
       "\t<li>-95.8333740234375</li>\n",
       "\t<li>97.4041595458984</li>\n",
       "</ol>\n"
      ],
      "text/latex": [
       "\\begin{enumerate*}\n",
       "\\item -95.8333740234375\n",
       "\\item 97.4041595458984\n",
       "\\end{enumerate*}\n"
      ],
      "text/markdown": [
       "1. -95.8333740234375\n",
       "2. 97.4041595458984\n",
       "\n",
       "\n"
      ],
      "text/plain": [
       "[1] -95.83337  97.40416"
      ]
     },
     "metadata": {},
     "output_type": "display_data"
    }
   ],
   "source": [
    "tf_coef <- c(sess$run(b), sess$run(a))\n",
    "tf_coef"
   ]
  },
  {
   "cell_type": "code",
   "execution_count": null,
   "metadata": {
    "collapsed": true
   },
   "outputs": [],
   "source": []
  }
 ],
 "metadata": {
  "kernelspec": {
   "display_name": "R",
   "language": "R",
   "name": "ir"
  },
  "language_info": {
   "codemirror_mode": "r",
   "file_extension": ".r",
   "mimetype": "text/x-r-source",
   "name": "R",
   "pygments_lexer": "r",
   "version": "3.4.1"
  }
 },
 "nbformat": 4,
 "nbformat_minor": 2
}
