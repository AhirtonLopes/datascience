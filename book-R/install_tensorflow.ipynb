{
 "cells": [
  {
   "cell_type": "markdown",
   "metadata": {},
   "source": [
    "# Instalação do TensorFlow "
   ]
  },
  {
   "cell_type": "markdown",
   "metadata": {},
   "source": [
    "**Atenção** Se você estiver executando isso no seu Jupyter local, usando o Anaconda, é preciso instalar o módulo **python** do TensorFlow. Saia do Jupyter Notebook e digite na console (dentro do ambiente Anaconda): \n",
    "*pip install tensorflow*\n",
    "\n",
    "Depois, rode o Jupyter Notebook novamente e execute este notebook. \n"
   ]
  },
  {
   "cell_type": "code",
   "execution_count": 2,
   "metadata": {},
   "outputs": [
    {
     "name": "stderr",
     "output_type": "stream",
     "text": [
      "Installing package into ‘/home/nbuser/R’\n",
      "(as ‘lib’ is unspecified)\n"
     ]
    }
   ],
   "source": [
    "install.packages('tensorflow', repos='http://cran.us.r-project.org')\n"
   ]
  },
  {
   "cell_type": "code",
   "execution_count": 3,
   "metadata": {},
   "outputs": [
    {
     "name": "stdout",
     "output_type": "stream",
     "text": [
      "Creating virtualenv for TensorFlow at  ~/.virtualenvs/r-tensorflow \n",
      "Upgrading pip ...\n",
      "Upgrading wheel ...\n",
      "Upgrading setuptools ...\n",
      "Installing TensorFlow ...\n",
      "\n",
      "Installation complete.\n",
      "\n"
     ]
    }
   ],
   "source": [
    "library(tensorflow)\n",
    "install_tensorflow()"
   ]
  },
  {
   "cell_type": "code",
   "execution_count": 1,
   "metadata": {},
   "outputs": [
    {
     "data": {
      "text/html": [
       "'Hello, TensorFlow!'"
      ],
      "text/latex": [
       "'Hello, TensorFlow!'"
      ],
      "text/markdown": [
       "'Hello, TensorFlow!'"
      ],
      "text/plain": [
       "[1] \"Hello, TensorFlow!\""
      ]
     },
     "metadata": {},
     "output_type": "display_data"
    }
   ],
   "source": [
    "library(tensorflow)\n",
    "sess = tf$Session()\n",
    "hello <- tf$constant('Hello, TensorFlow!')\n",
    "sess$run(hello)"
   ]
  },
  {
   "cell_type": "code",
   "execution_count": null,
   "metadata": {
    "collapsed": true
   },
   "outputs": [],
   "source": []
  }
 ],
 "metadata": {
  "kernelspec": {
   "display_name": "R",
   "language": "R",
   "name": "ir"
  },
  "language_info": {
   "codemirror_mode": "r",
   "file_extension": ".r",
   "mimetype": "text/x-r-source",
   "name": "R",
   "pygments_lexer": "r",
   "version": "3.4.1"
  }
 },
 "nbformat": 4,
 "nbformat_minor": 2
}
