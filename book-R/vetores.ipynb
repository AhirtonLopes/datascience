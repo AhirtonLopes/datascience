{
 "cells": [
  {
   "cell_type": "markdown",
   "metadata": {},
   "source": [
    "# Vetores\n",
    "\n",
    "Vetores em R são como vetores em geometria. Eles são conjuntos de posições, sendo que cada posição tem sua coordenada e pode conter um valor. São variáveis multivaloradas. \n",
    "Para criar vetores, usamos a função \"combine\" passando a lista de valores:"
   ]
  },
  {
   "cell_type": "code",
   "execution_count": 1,
   "metadata": {
    "collapsed": true
   },
   "outputs": [],
   "source": [
    "turma1 <- c(75.02786847,  56.51450656,  55.57517955,  62.00893933,\n",
    "  82.82022277,  91.78076684,  71.53028442,  82.22315417,\n",
    "  71.14621041,  76.27644453)"
   ]
  },
  {
   "cell_type": "code",
   "execution_count": 2,
   "metadata": {
    "collapsed": true
   },
   "outputs": [],
   "source": [
    "turma2 <- c(63.96213546,  51.00946728,  54.48449137,  53.62955058,\n",
    "  61.62138863,  59.99119596,  57.61297576,  62.52220793,\n",
    "  64.54041384,  63.95477107)"
   ]
  },
  {
   "cell_type": "markdown",
   "metadata": {},
   "source": [
    "Soma das diferenças entre os pesos e a média"
   ]
  },
  {
   "cell_type": "code",
   "execution_count": 3,
   "metadata": {},
   "outputs": [
    {
     "name": "stdout",
     "output_type": "stream",
     "text": [
      "[1] 6.394885e-14\n"
     ]
    }
   ],
   "source": [
    "print(sum((turma1 - mean(turma1))))"
   ]
  },
  {
   "cell_type": "code",
   "execution_count": 6,
   "metadata": {},
   "outputs": [
    {
     "name": "stdout",
     "output_type": "stream",
     "text": [
      "[1] 4.75\n"
     ]
    }
   ],
   "source": [
    "a <- c(3,4,5,7)\n",
    "print(mean(a))"
   ]
  },
  {
   "cell_type": "code",
   "execution_count": 8,
   "metadata": {},
   "outputs": [
    {
     "name": "stdout",
     "output_type": "stream",
     "text": [
      "[1] 0\n"
     ]
    }
   ],
   "source": [
    "print(sum(a - 4.75))"
   ]
  },
  {
   "cell_type": "code",
   "execution_count": null,
   "metadata": {
    "collapsed": true
   },
   "outputs": [],
   "source": []
  }
 ],
 "metadata": {
  "kernelspec": {
   "display_name": "R",
   "language": "R",
   "name": "ir"
  },
  "language_info": {
   "codemirror_mode": "r",
   "file_extension": ".r",
   "mimetype": "text/x-r-source",
   "name": "R",
   "pygments_lexer": "r",
   "version": "3.4.1"
  }
 },
 "nbformat": 4,
 "nbformat_minor": 2
}
