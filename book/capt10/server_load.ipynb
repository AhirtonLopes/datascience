{
 "cells": [
  {
   "cell_type": "markdown",
   "metadata": {},
   "source": [
    "# Regressão múltipla\n",
    "A regressão múltipla ocorre quando temos mais de uma variável independente. "
   ]
  },
  {
   "cell_type": "code",
   "execution_count": 21,
   "metadata": {},
   "outputs": [
    {
     "name": "stderr",
     "output_type": "stream",
     "text": [
      "/home/55018335734/.conda/envs/datascience/lib/python3.6/site-packages/statsmodels/compat/pandas.py:56: FutureWarning: The pandas.core.datetools module is deprecated and will be removed in a future version. Please use the pandas.tseries module instead.\n",
      "  from pandas.core import datetools\n"
     ]
    }
   ],
   "source": [
    "import numpy as np\n",
    "from sklearn.preprocessing import normalize\n",
    "from sklearn.preprocessing import StandardScaler\n",
    "import pandas as pd\n",
    "import matplotlib.pyplot as plt\n",
    "import scipy.stats as stats\n",
    "%matplotlib inline\n",
    "from sklearn import datasets, linear_model\n",
    "from sklearn.metrics import mean_squared_error, r2_score\n",
    "from sklearn.model_selection import train_test_split\n",
    "import statsmodels.formula.api as smf\n",
    "from statsmodels.compat import lzip\n",
    "from sklearn import feature_selection\n",
    "import statsmodels.regression.linear_model as sm\n",
    "from statsmodels.stats.outliers_influence import variance_inflation_factor\n",
    "from statsmodels.stats.diagnostic import het_breuschpagan"
   ]
  },
  {
   "cell_type": "markdown",
   "metadata": {},
   "source": [
    "## Dados de desempenho de um servidor web\n",
    "Os dados para este trabalho foram coletados de um servidor web que hospeda um site. As observações são as médias das variáveis por minuto: \n",
    "- Duracao_media_ms: Duração média do processamento de um Request HTTP (em milissegundos);\n",
    "- Perc_medio_CPU: Percentual médio de ocupação da CPU;\n",
    "- Load_avg_minute: Carga total dos processadores;\n",
    "- Requests_média: Quantidade média de requests processados. "
   ]
  },
  {
   "cell_type": "code",
   "execution_count": 11,
   "metadata": {},
   "outputs": [
    {
     "name": "stdout",
     "output_type": "stream",
     "text": [
      "<class 'pandas.core.frame.DataFrame'>\n",
      "RangeIndex: 29 entries, 0 to 28\n",
      "Data columns (total 4 columns):\n",
      "Duracao_media_ms    29 non-null int64\n",
      "Perc_medio_CPU      29 non-null float64\n",
      "Load_avg_minute     29 non-null float64\n",
      "Requests_média      29 non-null int64\n",
      "dtypes: float64(2), int64(2)\n",
      "memory usage: 1008.0 bytes\n"
     ]
    },
    {
     "data": {
      "text/html": [
       "<div>\n",
       "<style>\n",
       "    .dataframe thead tr:only-child th {\n",
       "        text-align: right;\n",
       "    }\n",
       "\n",
       "    .dataframe thead th {\n",
       "        text-align: left;\n",
       "    }\n",
       "\n",
       "    .dataframe tbody tr th {\n",
       "        vertical-align: top;\n",
       "    }\n",
       "</style>\n",
       "<table border=\"1\" class=\"dataframe\">\n",
       "  <thead>\n",
       "    <tr style=\"text-align: right;\">\n",
       "      <th></th>\n",
       "      <th>Duracao_media_ms</th>\n",
       "      <th>Perc_medio_CPU</th>\n",
       "      <th>Load_avg_minute</th>\n",
       "      <th>Requests_média</th>\n",
       "    </tr>\n",
       "  </thead>\n",
       "  <tbody>\n",
       "    <tr>\n",
       "      <th>count</th>\n",
       "      <td>29.000000</td>\n",
       "      <td>29.000000</td>\n",
       "      <td>29.000000</td>\n",
       "      <td>29.000000</td>\n",
       "    </tr>\n",
       "    <tr>\n",
       "      <th>mean</th>\n",
       "      <td>811.586207</td>\n",
       "      <td>47.975050</td>\n",
       "      <td>3.927406</td>\n",
       "      <td>631.793103</td>\n",
       "    </tr>\n",
       "    <tr>\n",
       "      <th>std</th>\n",
       "      <td>672.159129</td>\n",
       "      <td>43.282833</td>\n",
       "      <td>3.379525</td>\n",
       "      <td>391.095657</td>\n",
       "    </tr>\n",
       "    <tr>\n",
       "      <th>min</th>\n",
       "      <td>140.000000</td>\n",
       "      <td>6.866574</td>\n",
       "      <td>0.498327</td>\n",
       "      <td>56.000000</td>\n",
       "    </tr>\n",
       "    <tr>\n",
       "      <th>25%</th>\n",
       "      <td>150.000000</td>\n",
       "      <td>10.581583</td>\n",
       "      <td>0.650421</td>\n",
       "      <td>230.000000</td>\n",
       "    </tr>\n",
       "    <tr>\n",
       "      <th>50%</th>\n",
       "      <td>520.000000</td>\n",
       "      <td>20.151097</td>\n",
       "      <td>2.333277</td>\n",
       "      <td>720.000000</td>\n",
       "    </tr>\n",
       "    <tr>\n",
       "      <th>75%</th>\n",
       "      <td>1500.000000</td>\n",
       "      <td>98.170972</td>\n",
       "      <td>7.317686</td>\n",
       "      <td>890.000000</td>\n",
       "    </tr>\n",
       "    <tr>\n",
       "      <th>max</th>\n",
       "      <td>1950.000000</td>\n",
       "      <td>121.235760</td>\n",
       "      <td>9.580188</td>\n",
       "      <td>1535.000000</td>\n",
       "    </tr>\n",
       "  </tbody>\n",
       "</table>\n",
       "</div>"
      ],
      "text/plain": [
       "       Duracao_media_ms  Perc_medio_CPU  Load_avg_minute  Requests_média\n",
       "count         29.000000       29.000000        29.000000       29.000000\n",
       "mean         811.586207       47.975050         3.927406      631.793103\n",
       "std          672.159129       43.282833         3.379525      391.095657\n",
       "min          140.000000        6.866574         0.498327       56.000000\n",
       "25%          150.000000       10.581583         0.650421      230.000000\n",
       "50%          520.000000       20.151097         2.333277      720.000000\n",
       "75%         1500.000000       98.170972         7.317686      890.000000\n",
       "max         1950.000000      121.235760         9.580188     1535.000000"
      ]
     },
     "execution_count": 11,
     "metadata": {},
     "output_type": "execute_result"
    }
   ],
   "source": [
    "df = pd.read_csv('servidor.csv')\n",
    "df.head()\n",
    "df.info()\n",
    "df.describe()"
   ]
  },
  {
   "cell_type": "code",
   "execution_count": 14,
   "metadata": {},
   "outputs": [
    {
     "data": {
      "text/html": [
       "<table class=\"simpletable\">\n",
       "<caption>OLS Regression Results</caption>\n",
       "<tr>\n",
       "  <th>Dep. Variable:</th>    <td>Duracao_media_ms</td> <th>  R-squared:         </th> <td>   1.000</td> \n",
       "</tr>\n",
       "<tr>\n",
       "  <th>Model:</th>                   <td>OLS</td>       <th>  Adj. R-squared:    </th> <td>   0.999</td> \n",
       "</tr>\n",
       "<tr>\n",
       "  <th>Method:</th>             <td>Least Squares</td>  <th>  F-statistic:       </th> <td>1.755e+04</td>\n",
       "</tr>\n",
       "<tr>\n",
       "  <th>Date:</th>             <td>Fri, 10 Nov 2017</td> <th>  Prob (F-statistic):</th> <td>1.17e-41</td> \n",
       "</tr>\n",
       "<tr>\n",
       "  <th>Time:</th>                 <td>14:11:46</td>     <th>  Log-Likelihood:    </th> <td> -118.48</td> \n",
       "</tr>\n",
       "<tr>\n",
       "  <th>No. Observations:</th>      <td>    29</td>      <th>  AIC:               </th> <td>   245.0</td> \n",
       "</tr>\n",
       "<tr>\n",
       "  <th>Df Residuals:</th>          <td>    25</td>      <th>  BIC:               </th> <td>   250.4</td> \n",
       "</tr>\n",
       "<tr>\n",
       "  <th>Df Model:</th>              <td>     3</td>      <th>                     </th>     <td> </td>    \n",
       "</tr>\n",
       "<tr>\n",
       "  <th>Covariance Type:</th>      <td>nonrobust</td>    <th>                     </th>     <td> </td>    \n",
       "</tr>\n",
       "</table>\n",
       "<table class=\"simpletable\">\n",
       "<tr>\n",
       "         <td></td>            <th>coef</th>     <th>std err</th>      <th>t</th>      <th>P>|t|</th>  <th>[0.025</th>    <th>0.975]</th>  \n",
       "</tr>\n",
       "<tr>\n",
       "  <th>Intercept</th>       <td>   20.7948</td> <td>    6.316</td> <td>    3.292</td> <td> 0.003</td> <td>    7.786</td> <td>   33.803</td>\n",
       "</tr>\n",
       "<tr>\n",
       "  <th>Perc_medio_CPU</th>  <td>    0.2873</td> <td>    0.285</td> <td>    1.009</td> <td> 0.323</td> <td>   -0.299</td> <td>    0.874</td>\n",
       "</tr>\n",
       "<tr>\n",
       "  <th>Load_avg_minute</th> <td>  194.4347</td> <td>    3.828</td> <td>   50.799</td> <td> 0.000</td> <td>  186.552</td> <td>  202.318</td>\n",
       "</tr>\n",
       "<tr>\n",
       "  <th>Requests_média</th>  <td>    0.0212</td> <td>    0.010</td> <td>    2.206</td> <td> 0.037</td> <td>    0.001</td> <td>    0.041</td>\n",
       "</tr>\n",
       "</table>\n",
       "<table class=\"simpletable\">\n",
       "<tr>\n",
       "  <th>Omnibus:</th>       <td> 0.521</td> <th>  Durbin-Watson:     </th> <td>   2.480</td>\n",
       "</tr>\n",
       "<tr>\n",
       "  <th>Prob(Omnibus):</th> <td> 0.771</td> <th>  Jarque-Bera (JB):  </th> <td>   0.611</td>\n",
       "</tr>\n",
       "<tr>\n",
       "  <th>Skew:</th>          <td>-0.081</td> <th>  Prob(JB):          </th> <td>   0.737</td>\n",
       "</tr>\n",
       "<tr>\n",
       "  <th>Kurtosis:</th>      <td> 2.308</td> <th>  Cond. No.          </th> <td>1.67e+03</td>\n",
       "</tr>\n",
       "</table>"
      ],
      "text/plain": [
       "<class 'statsmodels.iolib.summary.Summary'>\n",
       "\"\"\"\n",
       "                            OLS Regression Results                            \n",
       "==============================================================================\n",
       "Dep. Variable:       Duracao_media_ms   R-squared:                       1.000\n",
       "Model:                            OLS   Adj. R-squared:                  0.999\n",
       "Method:                 Least Squares   F-statistic:                 1.755e+04\n",
       "Date:                Fri, 10 Nov 2017   Prob (F-statistic):           1.17e-41\n",
       "Time:                        14:11:46   Log-Likelihood:                -118.48\n",
       "No. Observations:                  29   AIC:                             245.0\n",
       "Df Residuals:                      25   BIC:                             250.4\n",
       "Df Model:                           3                                         \n",
       "Covariance Type:            nonrobust                                         \n",
       "===================================================================================\n",
       "                      coef    std err          t      P>|t|      [0.025      0.975]\n",
       "-----------------------------------------------------------------------------------\n",
       "Intercept          20.7948      6.316      3.292      0.003       7.786      33.803\n",
       "Perc_medio_CPU      0.2873      0.285      1.009      0.323      -0.299       0.874\n",
       "Load_avg_minute   194.4347      3.828     50.799      0.000     186.552     202.318\n",
       "Requests_média      0.0212      0.010      2.206      0.037       0.001       0.041\n",
       "==============================================================================\n",
       "Omnibus:                        0.521   Durbin-Watson:                   2.480\n",
       "Prob(Omnibus):                  0.771   Jarque-Bera (JB):                0.611\n",
       "Skew:                          -0.081   Prob(JB):                        0.737\n",
       "Kurtosis:                       2.308   Cond. No.                     1.67e+03\n",
       "==============================================================================\n",
       "\n",
       "Warnings:\n",
       "[1] Standard Errors assume that the covariance matrix of the errors is correctly specified.\n",
       "[2] The condition number is large, 1.67e+03. This might indicate that there are\n",
       "strong multicollinearity or other numerical problems.\n",
       "\"\"\""
      ]
     },
     "execution_count": 14,
     "metadata": {},
     "output_type": "execute_result"
    }
   ],
   "source": [
    "results = smf.ols('Duracao_media_ms ~ Perc_medio_CPU + Load_avg_minute + Requests_média', data=df).fit()\n",
    "results.summary()"
   ]
  },
  {
   "cell_type": "code",
   "execution_count": 18,
   "metadata": {},
   "outputs": [
    {
     "name": "stdout",
     "output_type": "stream",
     "text": [
      "const               4.817213\n",
      "Perc_medio_CPU     17.701874\n",
      "Load_avg_minute    19.506190\n",
      "Requests_média      1.645110\n",
      "dtype: float64\n"
     ]
    }
   ],
   "source": [
    "X = df.drop('Duracao_media_ms',axis=1)\n",
    "Xe = sm.add_constant(X,prepend=True)\n",
    "vif = [variance_inflation_factor(Xe.values, i) for i in range(Xe.shape[1])]\n",
    "vif_s =pd.Series(vif, index =Xe.columns)\n",
    "print(vif_s)"
   ]
  },
  {
   "cell_type": "code",
   "execution_count": 29,
   "metadata": {},
   "outputs": [
    {
     "data": {
      "text/plain": [
       "[('Lagrange multiplier statistic', 3.6684353081331946),\n",
       " ('p-value', 0.29956464547347383),\n",
       " ('f-value', 1.2068063937739497),\n",
       " ('f p-value', 0.32771840796145069)]"
      ]
     },
     "execution_count": 29,
     "metadata": {},
     "output_type": "execute_result"
    }
   ],
   "source": [
    "name = ['Lagrange multiplier statistic', 'p-value', \n",
    "        'f-value', 'f p-value']\n",
    "testeH = het_breuschpagan(results.resid, results.model.exog)\n",
    "lzip(name, testeH)"
   ]
  },
  {
   "cell_type": "markdown",
   "metadata": {
    "collapsed": true
   },
   "source": [
    "# Avaliação do modelo\n",
    "- Modelo: y = 0.2873x1 + 194.4347x2 + 0.0212x3 + 20.7948\n",
    "- R quadrado ajustado: 0.999;\n",
    "- Significância da regressão (F-test): Rejeitamos a hipótese nula de coeficientes zerados;\n",
    "- Significância dos coeficientes: O Coeficiente \"Perc_medio_CPU\"  poderia ser retirado do modelo;\n",
    "- Multicolinearidade (VIF): Temos multicolinearidade entre \"Perc_medio_CPU\" e \"Load_avg_minute\", porém, não há muito o que fazer sobre isso;\n",
    "- Heterocedasticidade: De acordo com o teste de Breusch-Pagan (p-value > 0.05) o modelo é homocedástico. "
   ]
  },
  {
   "cell_type": "code",
   "execution_count": null,
   "metadata": {
    "collapsed": true
   },
   "outputs": [],
   "source": []
  }
 ],
 "metadata": {
  "kernelspec": {
   "display_name": "Python 3",
   "language": "python",
   "name": "python3"
  },
  "language_info": {
   "codemirror_mode": {
    "name": "ipython",
    "version": 3
   },
   "file_extension": ".py",
   "mimetype": "text/x-python",
   "name": "python",
   "nbconvert_exporter": "python",
   "pygments_lexer": "ipython3",
   "version": "3.6.2"
  }
 },
 "nbformat": 4,
 "nbformat_minor": 2
}
