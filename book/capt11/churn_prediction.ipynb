{
 "cells": [
  {
   "cell_type": "markdown",
   "metadata": {},
   "source": [
    "# Churn prediction\n",
    "## Evasão escolar\n",
    "\n",
    "Churn prediction é um tipo de trabalho muito comum em data science, sendo uma questão de classificação binária. Trada-se do possível abandono de um cliente ou de um aluno. Analisamos o dataset e tentamos prever as situações de risco de abandono, para tomarmos medidas proativas de fidelização.\n",
    "Para este exemplo, usamos um dataset real, porém desidentificado, de uma pesquisa que realizei há algum tempo, a pedido de uma instituição de ensino, para identificar os alunos com maior probabilidade de abandorarem o curso.\n",
    "Da população de alunos, foram eliminados os que possuem percentual de bolsa de estudos igual ou superior a 50%, pois trata-se de situações especiais. Os dados são coletados semanalmente, a partir dos resultados das primeiras provas de cada período."
   ]
  },
  {
   "cell_type": "code",
   "execution_count": 136,
   "metadata": {
    "collapsed": true
   },
   "outputs": [],
   "source": [
    "import pandas as pd\n",
    "import numpy as np\n",
    "from sklearn import svm, datasets\n",
    "from sklearn.preprocessing import StandardScaler\n",
    "from sklearn.model_selection import train_test_split\n",
    "from sklearn import svm"
   ]
  },
  {
   "cell_type": "code",
   "execution_count": 137,
   "metadata": {},
   "outputs": [
    {
     "data": {
      "text/html": [
       "<div>\n",
       "<style>\n",
       "    .dataframe thead tr:only-child th {\n",
       "        text-align: right;\n",
       "    }\n",
       "\n",
       "    .dataframe thead th {\n",
       "        text-align: left;\n",
       "    }\n",
       "\n",
       "    .dataframe tbody tr th {\n",
       "        vertical-align: top;\n",
       "    }\n",
       "</style>\n",
       "<table border=\"1\" class=\"dataframe\">\n",
       "  <thead>\n",
       "    <tr style=\"text-align: right;\">\n",
       "      <th></th>\n",
       "      <th>periodo</th>\n",
       "      <th>bolsa</th>\n",
       "      <th>repetiu</th>\n",
       "      <th>ematraso</th>\n",
       "      <th>disciplinas</th>\n",
       "      <th>faltas</th>\n",
       "      <th>desempenho</th>\n",
       "      <th>abandonou</th>\n",
       "    </tr>\n",
       "  </thead>\n",
       "  <tbody>\n",
       "    <tr>\n",
       "      <th>0</th>\n",
       "      <td>2</td>\n",
       "      <td>0.25</td>\n",
       "      <td>8</td>\n",
       "      <td>1</td>\n",
       "      <td>4</td>\n",
       "      <td>0</td>\n",
       "      <td>0.000000</td>\n",
       "      <td>1</td>\n",
       "    </tr>\n",
       "    <tr>\n",
       "      <th>1</th>\n",
       "      <td>2</td>\n",
       "      <td>0.15</td>\n",
       "      <td>3</td>\n",
       "      <td>1</td>\n",
       "      <td>3</td>\n",
       "      <td>6</td>\n",
       "      <td>5.333333</td>\n",
       "      <td>0</td>\n",
       "    </tr>\n",
       "    <tr>\n",
       "      <th>2</th>\n",
       "      <td>4</td>\n",
       "      <td>0.10</td>\n",
       "      <td>0</td>\n",
       "      <td>1</td>\n",
       "      <td>1</td>\n",
       "      <td>0</td>\n",
       "      <td>8.000000</td>\n",
       "      <td>0</td>\n",
       "    </tr>\n",
       "    <tr>\n",
       "      <th>3</th>\n",
       "      <td>4</td>\n",
       "      <td>0.20</td>\n",
       "      <td>8</td>\n",
       "      <td>1</td>\n",
       "      <td>1</td>\n",
       "      <td>0</td>\n",
       "      <td>4.000000</td>\n",
       "      <td>1</td>\n",
       "    </tr>\n",
       "    <tr>\n",
       "      <th>4</th>\n",
       "      <td>1</td>\n",
       "      <td>0.20</td>\n",
       "      <td>3</td>\n",
       "      <td>1</td>\n",
       "      <td>1</td>\n",
       "      <td>1</td>\n",
       "      <td>8.000000</td>\n",
       "      <td>0</td>\n",
       "    </tr>\n",
       "  </tbody>\n",
       "</table>\n",
       "</div>"
      ],
      "text/plain": [
       "   periodo  bolsa  repetiu  ematraso  disciplinas  faltas  desempenho  \\\n",
       "0        2   0.25        8         1            4       0    0.000000   \n",
       "1        2   0.15        3         1            3       6    5.333333   \n",
       "2        4   0.10        0         1            1       0    8.000000   \n",
       "3        4   0.20        8         1            1       0    4.000000   \n",
       "4        1   0.20        3         1            1       1    8.000000   \n",
       "\n",
       "   abandonou  \n",
       "0          1  \n",
       "1          0  \n",
       "2          0  \n",
       "3          1  \n",
       "4          0  "
      ]
     },
     "execution_count": 137,
     "metadata": {},
     "output_type": "execute_result"
    }
   ],
   "source": [
    "df = pd.read_csv('evasao.csv')\n",
    "df.head()"
   ]
  },
  {
   "cell_type": "code",
   "execution_count": 138,
   "metadata": {},
   "outputs": [
    {
     "data": {
      "text/html": [
       "<div>\n",
       "<style>\n",
       "    .dataframe thead tr:only-child th {\n",
       "        text-align: right;\n",
       "    }\n",
       "\n",
       "    .dataframe thead th {\n",
       "        text-align: left;\n",
       "    }\n",
       "\n",
       "    .dataframe tbody tr th {\n",
       "        vertical-align: top;\n",
       "    }\n",
       "</style>\n",
       "<table border=\"1\" class=\"dataframe\">\n",
       "  <thead>\n",
       "    <tr style=\"text-align: right;\">\n",
       "      <th></th>\n",
       "      <th>periodo</th>\n",
       "      <th>bolsa</th>\n",
       "      <th>repetiu</th>\n",
       "      <th>ematraso</th>\n",
       "      <th>disciplinas</th>\n",
       "      <th>faltas</th>\n",
       "      <th>desempenho</th>\n",
       "      <th>abandonou</th>\n",
       "    </tr>\n",
       "  </thead>\n",
       "  <tbody>\n",
       "    <tr>\n",
       "      <th>count</th>\n",
       "      <td>300.000000</td>\n",
       "      <td>300.000000</td>\n",
       "      <td>300.000000</td>\n",
       "      <td>300.000000</td>\n",
       "      <td>300.000000</td>\n",
       "      <td>300.000000</td>\n",
       "      <td>300.000000</td>\n",
       "      <td>300.000000</td>\n",
       "    </tr>\n",
       "    <tr>\n",
       "      <th>mean</th>\n",
       "      <td>5.460000</td>\n",
       "      <td>0.123333</td>\n",
       "      <td>2.776667</td>\n",
       "      <td>0.476667</td>\n",
       "      <td>2.293333</td>\n",
       "      <td>2.213333</td>\n",
       "      <td>2.623111</td>\n",
       "      <td>0.410000</td>\n",
       "    </tr>\n",
       "    <tr>\n",
       "      <th>std</th>\n",
       "      <td>2.937772</td>\n",
       "      <td>0.086490</td>\n",
       "      <td>2.530111</td>\n",
       "      <td>0.500290</td>\n",
       "      <td>1.648133</td>\n",
       "      <td>2.734853</td>\n",
       "      <td>2.583423</td>\n",
       "      <td>0.492655</td>\n",
       "    </tr>\n",
       "    <tr>\n",
       "      <th>min</th>\n",
       "      <td>1.000000</td>\n",
       "      <td>0.000000</td>\n",
       "      <td>0.000000</td>\n",
       "      <td>0.000000</td>\n",
       "      <td>0.000000</td>\n",
       "      <td>0.000000</td>\n",
       "      <td>0.000000</td>\n",
       "      <td>0.000000</td>\n",
       "    </tr>\n",
       "    <tr>\n",
       "      <th>25%</th>\n",
       "      <td>3.000000</td>\n",
       "      <td>0.050000</td>\n",
       "      <td>0.000000</td>\n",
       "      <td>0.000000</td>\n",
       "      <td>1.000000</td>\n",
       "      <td>0.000000</td>\n",
       "      <td>0.400000</td>\n",
       "      <td>0.000000</td>\n",
       "    </tr>\n",
       "    <tr>\n",
       "      <th>50%</th>\n",
       "      <td>5.000000</td>\n",
       "      <td>0.100000</td>\n",
       "      <td>2.000000</td>\n",
       "      <td>0.000000</td>\n",
       "      <td>2.000000</td>\n",
       "      <td>1.000000</td>\n",
       "      <td>2.000000</td>\n",
       "      <td>0.000000</td>\n",
       "    </tr>\n",
       "    <tr>\n",
       "      <th>75%</th>\n",
       "      <td>8.000000</td>\n",
       "      <td>0.200000</td>\n",
       "      <td>5.000000</td>\n",
       "      <td>1.000000</td>\n",
       "      <td>4.000000</td>\n",
       "      <td>4.000000</td>\n",
       "      <td>4.000000</td>\n",
       "      <td>1.000000</td>\n",
       "    </tr>\n",
       "    <tr>\n",
       "      <th>max</th>\n",
       "      <td>10.000000</td>\n",
       "      <td>0.250000</td>\n",
       "      <td>8.000000</td>\n",
       "      <td>1.000000</td>\n",
       "      <td>5.000000</td>\n",
       "      <td>10.000000</td>\n",
       "      <td>10.000000</td>\n",
       "      <td>1.000000</td>\n",
       "    </tr>\n",
       "  </tbody>\n",
       "</table>\n",
       "</div>"
      ],
      "text/plain": [
       "          periodo       bolsa     repetiu    ematraso  disciplinas  \\\n",
       "count  300.000000  300.000000  300.000000  300.000000   300.000000   \n",
       "mean     5.460000    0.123333    2.776667    0.476667     2.293333   \n",
       "std      2.937772    0.086490    2.530111    0.500290     1.648133   \n",
       "min      1.000000    0.000000    0.000000    0.000000     0.000000   \n",
       "25%      3.000000    0.050000    0.000000    0.000000     1.000000   \n",
       "50%      5.000000    0.100000    2.000000    0.000000     2.000000   \n",
       "75%      8.000000    0.200000    5.000000    1.000000     4.000000   \n",
       "max     10.000000    0.250000    8.000000    1.000000     5.000000   \n",
       "\n",
       "           faltas  desempenho   abandonou  \n",
       "count  300.000000  300.000000  300.000000  \n",
       "mean     2.213333    2.623111    0.410000  \n",
       "std      2.734853    2.583423    0.492655  \n",
       "min      0.000000    0.000000    0.000000  \n",
       "25%      0.000000    0.400000    0.000000  \n",
       "50%      1.000000    2.000000    0.000000  \n",
       "75%      4.000000    4.000000    1.000000  \n",
       "max     10.000000   10.000000    1.000000  "
      ]
     },
     "execution_count": 138,
     "metadata": {},
     "output_type": "execute_result"
    }
   ],
   "source": [
    "df.describe()"
   ]
  },
  {
   "cell_type": "code",
   "execution_count": 139,
   "metadata": {
    "collapsed": true
   },
   "outputs": [],
   "source": [
    "features = df[['periodo','bolsa','repetiu','ematraso','disciplinas','faltas']]\n",
    "labels = df[['abandonou']]"
   ]
  },
  {
   "cell_type": "code",
   "execution_count": 140,
   "metadata": {},
   "outputs": [
    {
     "data": {
      "text/html": [
       "<div>\n",
       "<style>\n",
       "    .dataframe thead tr:only-child th {\n",
       "        text-align: right;\n",
       "    }\n",
       "\n",
       "    .dataframe thead th {\n",
       "        text-align: left;\n",
       "    }\n",
       "\n",
       "    .dataframe tbody tr th {\n",
       "        vertical-align: top;\n",
       "    }\n",
       "</style>\n",
       "<table border=\"1\" class=\"dataframe\">\n",
       "  <thead>\n",
       "    <tr style=\"text-align: right;\">\n",
       "      <th></th>\n",
       "      <th>periodo</th>\n",
       "      <th>bolsa</th>\n",
       "      <th>repetiu</th>\n",
       "      <th>ematraso</th>\n",
       "      <th>disciplinas</th>\n",
       "      <th>faltas</th>\n",
       "    </tr>\n",
       "  </thead>\n",
       "  <tbody>\n",
       "    <tr>\n",
       "      <th>0</th>\n",
       "      <td>2</td>\n",
       "      <td>0.25</td>\n",
       "      <td>8</td>\n",
       "      <td>1</td>\n",
       "      <td>4</td>\n",
       "      <td>0</td>\n",
       "    </tr>\n",
       "    <tr>\n",
       "      <th>1</th>\n",
       "      <td>2</td>\n",
       "      <td>0.15</td>\n",
       "      <td>3</td>\n",
       "      <td>1</td>\n",
       "      <td>3</td>\n",
       "      <td>6</td>\n",
       "    </tr>\n",
       "    <tr>\n",
       "      <th>2</th>\n",
       "      <td>4</td>\n",
       "      <td>0.10</td>\n",
       "      <td>0</td>\n",
       "      <td>1</td>\n",
       "      <td>1</td>\n",
       "      <td>0</td>\n",
       "    </tr>\n",
       "    <tr>\n",
       "      <th>3</th>\n",
       "      <td>4</td>\n",
       "      <td>0.20</td>\n",
       "      <td>8</td>\n",
       "      <td>1</td>\n",
       "      <td>1</td>\n",
       "      <td>0</td>\n",
       "    </tr>\n",
       "    <tr>\n",
       "      <th>4</th>\n",
       "      <td>1</td>\n",
       "      <td>0.20</td>\n",
       "      <td>3</td>\n",
       "      <td>1</td>\n",
       "      <td>1</td>\n",
       "      <td>1</td>\n",
       "    </tr>\n",
       "  </tbody>\n",
       "</table>\n",
       "</div>"
      ],
      "text/plain": [
       "   periodo  bolsa  repetiu  ematraso  disciplinas  faltas\n",
       "0        2   0.25        8         1            4       0\n",
       "1        2   0.15        3         1            3       6\n",
       "2        4   0.10        0         1            1       0\n",
       "3        4   0.20        8         1            1       0\n",
       "4        1   0.20        3         1            1       1"
      ]
     },
     "execution_count": 140,
     "metadata": {},
     "output_type": "execute_result"
    }
   ],
   "source": [
    "features.head()\n"
   ]
  },
  {
   "cell_type": "code",
   "execution_count": 141,
   "metadata": {},
   "outputs": [
    {
     "data": {
      "text/html": [
       "<div>\n",
       "<style>\n",
       "    .dataframe thead tr:only-child th {\n",
       "        text-align: right;\n",
       "    }\n",
       "\n",
       "    .dataframe thead th {\n",
       "        text-align: left;\n",
       "    }\n",
       "\n",
       "    .dataframe tbody tr th {\n",
       "        vertical-align: top;\n",
       "    }\n",
       "</style>\n",
       "<table border=\"1\" class=\"dataframe\">\n",
       "  <thead>\n",
       "    <tr style=\"text-align: right;\">\n",
       "      <th></th>\n",
       "      <th>abandonou</th>\n",
       "    </tr>\n",
       "  </thead>\n",
       "  <tbody>\n",
       "    <tr>\n",
       "      <th>0</th>\n",
       "      <td>1</td>\n",
       "    </tr>\n",
       "    <tr>\n",
       "      <th>1</th>\n",
       "      <td>0</td>\n",
       "    </tr>\n",
       "    <tr>\n",
       "      <th>2</th>\n",
       "      <td>0</td>\n",
       "    </tr>\n",
       "    <tr>\n",
       "      <th>3</th>\n",
       "      <td>1</td>\n",
       "    </tr>\n",
       "    <tr>\n",
       "      <th>4</th>\n",
       "      <td>0</td>\n",
       "    </tr>\n",
       "  </tbody>\n",
       "</table>\n",
       "</div>"
      ],
      "text/plain": [
       "   abandonou\n",
       "0          1\n",
       "1          0\n",
       "2          0\n",
       "3          1\n",
       "4          0"
      ]
     },
     "execution_count": 141,
     "metadata": {},
     "output_type": "execute_result"
    }
   ],
   "source": [
    "labels.head()"
   ]
  },
  {
   "cell_type": "markdown",
   "metadata": {},
   "source": [
    "## Separação dos dados\n",
    "Precisamos separar os dados de teste dos dados de treino, virtualmente esquecendo que os dados de testes existem!"
   ]
  },
  {
   "cell_type": "code",
   "execution_count": 142,
   "metadata": {
    "collapsed": true
   },
   "outputs": [],
   "source": [
    "X_train, X_test, y_train, y_test = train_test_split(features, labels, test_size=0.33, random_state=42)"
   ]
  },
  {
   "cell_type": "markdown",
   "metadata": {},
   "source": [
    "## Padronização dos atributos\n",
    "Como vamos usar SVM, precisamos colocar os atributos numéricos na mesma escala, e codificar os atributos de categoria. Temos um atributo de categoria: 'ematraso' e ele possui apenas dois valores: zero e um, logo, já está codificado. Se fossem múltiplos valores, teríamos que usar algo como o OneHotEncoder para transformá-lo em variáveis binárias."
   ]
  },
  {
   "cell_type": "code",
   "execution_count": 179,
   "metadata": {},
   "outputs": [
    {
     "data": {
      "text/html": [
       "<div>\n",
       "<style>\n",
       "    .dataframe thead tr:only-child th {\n",
       "        text-align: right;\n",
       "    }\n",
       "\n",
       "    .dataframe thead th {\n",
       "        text-align: left;\n",
       "    }\n",
       "\n",
       "    .dataframe tbody tr th {\n",
       "        vertical-align: top;\n",
       "    }\n",
       "</style>\n",
       "<table border=\"1\" class=\"dataframe\">\n",
       "  <thead>\n",
       "    <tr style=\"text-align: right;\">\n",
       "      <th></th>\n",
       "      <th>0</th>\n",
       "      <th>1</th>\n",
       "      <th>2</th>\n",
       "      <th>3</th>\n",
       "      <th>4</th>\n",
       "      <th>e</th>\n",
       "    </tr>\n",
       "  </thead>\n",
       "  <tbody>\n",
       "    <tr>\n",
       "      <th>0</th>\n",
       "      <td>-0.480126</td>\n",
       "      <td>-0.860931</td>\n",
       "      <td>-1.060438</td>\n",
       "      <td>1.549659</td>\n",
       "      <td>-0.859126</td>\n",
       "      <td>1</td>\n",
       "    </tr>\n",
       "    <tr>\n",
       "      <th>1</th>\n",
       "      <td>1.218911</td>\n",
       "      <td>0.308306</td>\n",
       "      <td>2.091473</td>\n",
       "      <td>-0.869615</td>\n",
       "      <td>-0.505264</td>\n",
       "      <td>0</td>\n",
       "    </tr>\n",
       "    <tr>\n",
       "      <th>2</th>\n",
       "      <td>0.879104</td>\n",
       "      <td>0.892925</td>\n",
       "      <td>-0.666449</td>\n",
       "      <td>-0.264796</td>\n",
       "      <td>0.556319</td>\n",
       "      <td>1</td>\n",
       "    </tr>\n",
       "    <tr>\n",
       "      <th>3</th>\n",
       "      <td>0.539296</td>\n",
       "      <td>-0.860931</td>\n",
       "      <td>-0.666449</td>\n",
       "      <td>-1.474433</td>\n",
       "      <td>-0.859126</td>\n",
       "      <td>0</td>\n",
       "    </tr>\n",
       "    <tr>\n",
       "      <th>4</th>\n",
       "      <td>-1.159741</td>\n",
       "      <td>-0.860931</td>\n",
       "      <td>-1.060438</td>\n",
       "      <td>0.340022</td>\n",
       "      <td>0.202458</td>\n",
       "      <td>0</td>\n",
       "    </tr>\n",
       "  </tbody>\n",
       "</table>\n",
       "</div>"
      ],
      "text/plain": [
       "          0         1         2         3         4  e\n",
       "0 -0.480126 -0.860931 -1.060438  1.549659 -0.859126  1\n",
       "1  1.218911  0.308306  2.091473 -0.869615 -0.505264  0\n",
       "2  0.879104  0.892925 -0.666449 -0.264796  0.556319  1\n",
       "3  0.539296 -0.860931 -0.666449 -1.474433 -0.859126  0\n",
       "4 -1.159741 -0.860931 -1.060438  0.340022  0.202458  0"
      ]
     },
     "execution_count": 179,
     "metadata": {},
     "output_type": "execute_result"
    }
   ],
   "source": [
    "padronizador = StandardScaler().fit(X_train[['periodo', 'bolsa', 'repetiu', 'disciplinas', 'faltas']])\n",
    "X_train_1 = pd.DataFrame(padronizador.transform(X_train[['periodo', 'bolsa', 'repetiu', 'disciplinas', 'faltas']]))\n",
    "X_train_scaled = pd.DataFrame(X_train_1)\n",
    "X_train_scaled = X_train_scaled.assign(e = X_train['ematraso'].values)\n",
    "X_train_scaled.head()\n"
   ]
  },
  {
   "cell_type": "markdown",
   "metadata": {},
   "source": [
    "### Kernel linear"
   ]
  },
  {
   "cell_type": "code",
   "execution_count": 144,
   "metadata": {},
   "outputs": [
    {
     "data": {
      "text/plain": [
       "0.6616915422885572"
      ]
     },
     "execution_count": 144,
     "metadata": {},
     "output_type": "execute_result"
    }
   ],
   "source": [
    "modeloLinear = svm.SVC(kernel='linear') \n",
    "modeloLinear.fit(X_train_scaled.values, y_train.values.reshape(201,))\n",
    "modeloLinear.score(X_train_scaled.values, y_train.values.reshape(201,))"
   ]
  },
  {
   "cell_type": "markdown",
   "metadata": {},
   "source": [
    "### Kernel RBF com C=2 e sem gamma"
   ]
  },
  {
   "cell_type": "code",
   "execution_count": 145,
   "metadata": {},
   "outputs": [
    {
     "data": {
      "text/plain": [
       "0.78606965174129351"
      ]
     },
     "execution_count": 145,
     "metadata": {},
     "output_type": "execute_result"
    }
   ],
   "source": [
    "modeloRbf = svm.SVC(kernel='rbf',C=2) \n",
    "modeloRbf.fit(X_train_scaled.values, y_train.values.reshape(y_train.size))\n",
    "modeloRbf.score(X_train_scaled.values, y_train.values.reshape(y_train.size))"
   ]
  },
  {
   "cell_type": "markdown",
   "metadata": {},
   "source": [
    "### Kernel RBF com C=1 e gamma=10"
   ]
  },
  {
   "cell_type": "code",
   "execution_count": 158,
   "metadata": {},
   "outputs": [
    {
     "data": {
      "text/plain": [
       "1.0"
      ]
     },
     "execution_count": 158,
     "metadata": {},
     "output_type": "execute_result"
    }
   ],
   "source": [
    "modeloRbfg10 = svm.SVC(kernel='rbf',C=1,gamma=10) \n",
    "modeloRbfg10.fit(X_train_scaled.values, y_train.values.reshape(y_train.size))\n",
    "modeloRbfg10.score(X_train_scaled.values, y_train.values.reshape(y_train.size))"
   ]
  },
  {
   "cell_type": "markdown",
   "metadata": {},
   "source": [
    "### Kernel Poly com C=2 e gamma=10"
   ]
  },
  {
   "cell_type": "code",
   "execution_count": 185,
   "metadata": {},
   "outputs": [
    {
     "data": {
      "text/plain": [
       "0.91542288557213936"
      ]
     },
     "execution_count": 185,
     "metadata": {},
     "output_type": "execute_result"
    }
   ],
   "source": [
    "modeloPoly = svm.SVC(kernel='poly',C=2,gamma=10) \n",
    "modeloPoly.fit(X_train_scaled.values, y_train.values.reshape(y_train.size))\n",
    "modeloPoly.score(X_train_scaled.values, y_train.values.reshape(y_train.size))"
   ]
  },
  {
   "cell_type": "markdown",
   "metadata": {},
   "source": [
    "### Kernel Sigmoid com C=2 e gamma=100"
   ]
  },
  {
   "cell_type": "code",
   "execution_count": 176,
   "metadata": {},
   "outputs": [
    {
     "data": {
      "text/plain": [
       "0.5074626865671642"
      ]
     },
     "execution_count": 176,
     "metadata": {},
     "output_type": "execute_result"
    }
   ],
   "source": [
    "modeloSig = svm.SVC(kernel='sigmoid',C=2,gamma=100) \n",
    "modeloSig.fit(X_train_scaled.values, y_train.values.reshape(y_train.size))\n",
    "modeloSig.score(X_train_scaled.values, y_train.values.reshape(y_train.size))"
   ]
  },
  {
   "cell_type": "markdown",
   "metadata": {},
   "source": [
    "Nem sempre o modelo que tem melhor score é o modelo que dá a melhor previsão para dados ainda não vistos. Pode ser o caso de \"overfitting\". Vamos testar vários tipos de kernel e combinações de parâmetros. "
   ]
  },
  {
   "cell_type": "code",
   "execution_count": 180,
   "metadata": {},
   "outputs": [
    {
     "data": {
      "text/html": [
       "<div>\n",
       "<style>\n",
       "    .dataframe thead tr:only-child th {\n",
       "        text-align: right;\n",
       "    }\n",
       "\n",
       "    .dataframe thead th {\n",
       "        text-align: left;\n",
       "    }\n",
       "\n",
       "    .dataframe tbody tr th {\n",
       "        vertical-align: top;\n",
       "    }\n",
       "</style>\n",
       "<table border=\"1\" class=\"dataframe\">\n",
       "  <thead>\n",
       "    <tr style=\"text-align: right;\">\n",
       "      <th></th>\n",
       "      <th>0</th>\n",
       "      <th>1</th>\n",
       "      <th>2</th>\n",
       "      <th>3</th>\n",
       "      <th>4</th>\n",
       "      <th>e</th>\n",
       "    </tr>\n",
       "  </thead>\n",
       "  <tbody>\n",
       "    <tr>\n",
       "      <th>0</th>\n",
       "      <td>-1.159741</td>\n",
       "      <td>-0.860931</td>\n",
       "      <td>1.697485</td>\n",
       "      <td>0.340022</td>\n",
       "      <td>-0.859126</td>\n",
       "      <td>1</td>\n",
       "    </tr>\n",
       "    <tr>\n",
       "      <th>1</th>\n",
       "      <td>-0.140318</td>\n",
       "      <td>-0.276312</td>\n",
       "      <td>-1.060438</td>\n",
       "      <td>0.944841</td>\n",
       "      <td>0.556319</td>\n",
       "      <td>1</td>\n",
       "    </tr>\n",
       "    <tr>\n",
       "      <th>2</th>\n",
       "      <td>-0.480126</td>\n",
       "      <td>-0.276312</td>\n",
       "      <td>1.303496</td>\n",
       "      <td>-1.474433</td>\n",
       "      <td>-0.859126</td>\n",
       "      <td>0</td>\n",
       "    </tr>\n",
       "    <tr>\n",
       "      <th>3</th>\n",
       "      <td>-0.140318</td>\n",
       "      <td>0.308306</td>\n",
       "      <td>0.121529</td>\n",
       "      <td>-0.869615</td>\n",
       "      <td>-0.505264</td>\n",
       "      <td>0</td>\n",
       "    </tr>\n",
       "    <tr>\n",
       "      <th>4</th>\n",
       "      <td>-0.480126</td>\n",
       "      <td>-0.276312</td>\n",
       "      <td>2.091473</td>\n",
       "      <td>-0.869615</td>\n",
       "      <td>-0.859126</td>\n",
       "      <td>0</td>\n",
       "    </tr>\n",
       "  </tbody>\n",
       "</table>\n",
       "</div>"
      ],
      "text/plain": [
       "          0         1         2         3         4  e\n",
       "0 -1.159741 -0.860931  1.697485  0.340022 -0.859126  1\n",
       "1 -0.140318 -0.276312 -1.060438  0.944841  0.556319  1\n",
       "2 -0.480126 -0.276312  1.303496 -1.474433 -0.859126  0\n",
       "3 -0.140318  0.308306  0.121529 -0.869615 -0.505264  0\n",
       "4 -0.480126 -0.276312  2.091473 -0.869615 -0.859126  0"
      ]
     },
     "execution_count": 180,
     "metadata": {},
     "output_type": "execute_result"
    }
   ],
   "source": [
    "X_test_1 = padronizador.transform(X_test[['periodo', 'bolsa', 'repetiu', 'disciplinas', 'faltas']])\n",
    "X_test_1 = pd.DataFrame(padronizador.transform(X_test[['periodo', 'bolsa', 'repetiu', 'disciplinas', 'faltas']]))\n",
    "X_test_scaled = pd.DataFrame(X_test_1)\n",
    "X_test_scaled = X_test_scaled.assign(e = X_test['ematraso'].values)\n",
    "X_test_scaled.head()"
   ]
  },
  {
   "cell_type": "markdown",
   "metadata": {},
   "source": [
    "A melhor maneira de testar é comparar os resultados um a um."
   ]
  },
  {
   "cell_type": "code",
   "execution_count": 159,
   "metadata": {},
   "outputs": [
    {
     "name": "stdout",
     "output_type": "stream",
     "text": [
      "Acertos 56\n",
      "Percentual 0.5656565656565656\n",
      "Erramos ao dizer que o aluno abandonou 43\n",
      "Erramos ao dizer que o aluno permaneceu 0\n"
     ]
    }
   ],
   "source": [
    "predicoes = modeloRbfg10.predict(X_test_scaled)\n",
    "printResults(predicoes)"
   ]
  },
  {
   "cell_type": "code",
   "execution_count": 178,
   "metadata": {},
   "outputs": [
    {
     "name": "stdout",
     "output_type": "stream",
     "text": [
      "Acertos 68\n",
      "Percentual 0.6868686868686869\n",
      "Erramos ao dizer que o aluno abandonou 23\n",
      "Erramos ao dizer que o aluno permaneceu 8\n"
     ]
    }
   ],
   "source": [
    "predicoesGamma1 = modeloRbf.predict(X_test_scaled)\n",
    "printResults(predicoesGamma1)"
   ]
  },
  {
   "cell_type": "markdown",
   "metadata": {},
   "source": [
    "Este foi o melhor resultado que conseguimos."
   ]
  },
  {
   "cell_type": "code",
   "execution_count": 187,
   "metadata": {},
   "outputs": [
    {
     "name": "stdout",
     "output_type": "stream",
     "text": [
      "Acertos 61\n",
      "Percentual 0.6161616161616161\n",
      "Erramos ao dizer que o aluno abandonou 19\n",
      "Erramos ao dizer que o aluno permaneceu 19\n"
     ]
    }
   ],
   "source": [
    "predicoesPoly = modeloPoly.predict(X_test_scaled)\n",
    "printResults(predicoesPoly)"
   ]
  },
  {
   "cell_type": "code",
   "execution_count": 177,
   "metadata": {},
   "outputs": [
    {
     "name": "stdout",
     "output_type": "stream",
     "text": [
      "Acertos 54\n",
      "Percentual 0.5454545454545454\n",
      "Erramos ao dizer que o aluno abandonou 19\n",
      "Erramos ao dizer que o aluno permaneceu 26\n"
     ]
    }
   ],
   "source": [
    "predicoesSig = modeloSig.predict(X_test_scaled)\n",
    "printResults(predicoesSig)"
   ]
  },
  {
   "cell_type": "code",
   "execution_count": 126,
   "metadata": {
    "collapsed": true
   },
   "outputs": [],
   "source": [
    "def printResults(pr):\n",
    "    acertos = 0\n",
    "    errosAbandono = 0\n",
    "    errosPermanencia = 0\n",
    "    for n in range(0,len(pr)):\n",
    "        if pr[n] == y_test.values.flatten()[n]:\n",
    "            acertos = acertos + 1\n",
    "        else:\n",
    "            if pr[n] == 0:\n",
    "                errosAbandono = errosAbandono + 1\n",
    "            else:\n",
    "                errosPermanencia = errosPermanencia + 1\n",
    "    print('Acertos',acertos)\n",
    "    print('Percentual',acertos / len(pr))\n",
    "    print('Erramos ao dizer que o aluno abandonou', errosAbandono)\n",
    "    print('Erramos ao dizer que o aluno permaneceu', errosPermanencia)"
   ]
  },
  {
   "cell_type": "markdown",
   "metadata": {},
   "source": [
    "###### Conclusão\n",
    "No melhor modelo (RBF sem Gamma) acertamos 69% dos alunos que abandonaram o curso. Porém, nossos maiores erros foram ao prevermos que o aluno abandonou o curso, e erramos pouco ao considerar que ele não abandonou. \n",
    "Com isto, pecamos por excesso, mas conseguimos atingir mais os alunos que abandoraram ou abandonariam o curso, e isso é importante.\n",
    "Os erros mais relevantes seriam aqueles em que não consideramos o risco do aluno abandonar o curso, que foram poucos casos. Mesmo assim, alguns casos foram devidos a erro de registro da secretaria."
   ]
  },
  {
   "cell_type": "markdown",
   "metadata": {},
   "source": [
    "Um aluno foi considerado como tendo abandonado o curso quando não reabriu a matrícula por um determinado tempo. \n",
    "Na situação original, houve alguns casos de alunos que foram considerados como tendo abandonado o curso, mas, na verdade apenas demoraram a reabrir a matrícula.\n",
    "E houve casos em que o aluno realmente abandonou o curso, mas a secretaria ainda não havia registrado este fato."
   ]
  },
  {
   "cell_type": "code",
   "execution_count": null,
   "metadata": {
    "collapsed": true
   },
   "outputs": [],
   "source": []
  }
 ],
 "metadata": {
  "kernelspec": {
   "display_name": "Python 3",
   "language": "python",
   "name": "python3"
  }
 },
 "nbformat": 4,
 "nbformat_minor": 2
}
