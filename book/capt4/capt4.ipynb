{
 "cells": [
  {
   "cell_type": "code",
   "execution_count": 2,
   "metadata": {
    "collapsed": true
   },
   "outputs": [],
   "source": [
    "import numpy as np\n",
    "import pandas as pd\n"
   ]
  },
  {
   "cell_type": "code",
   "execution_count": 3,
   "metadata": {
    "collapsed": true
   },
   "outputs": [],
   "source": [
    "pedidos = [{'numero': 1029,'marca':'XPTO','quantidade':50},\n",
    "          {'numero': 3233,'marca':'ABCD','quantidade':50},\n",
    "          {'numero': 5455,'marca':'XPTO','quantidade':50},\n",
    "          {'numero': 1234,'marca':'ABCD','quantidade':50},\n",
    "          {'numero': 7654,'marca':'TXWZ','quantidade':50},\n",
    "          {'numero': 8765,'marca':'XPTO','quantidade':50},\n",
    "          {'numero': 4354,'marca':'TXWZ','quantidade':50},\n",
    "          {'numero': 9089,'marca':'XPTO','quantidade':50},\n",
    "          {'numero': 1031,'marca':'XPTO','quantidade':50}]"
   ]
  },
  {
   "cell_type": "code",
   "execution_count": 4,
   "metadata": {
    "collapsed": true
   },
   "outputs": [],
   "source": [
    "ped_df = pd.DataFrame(pedidos)"
   ]
  },
  {
   "cell_type": "code",
   "execution_count": 5,
   "metadata": {},
   "outputs": [
    {
     "data": {
      "text/html": [
       "<div>\n",
       "<style>\n",
       "    .dataframe thead tr:only-child th {\n",
       "        text-align: right;\n",
       "    }\n",
       "\n",
       "    .dataframe thead th {\n",
       "        text-align: left;\n",
       "    }\n",
       "\n",
       "    .dataframe tbody tr th {\n",
       "        vertical-align: top;\n",
       "    }\n",
       "</style>\n",
       "<table border=\"1\" class=\"dataframe\">\n",
       "  <thead>\n",
       "    <tr style=\"text-align: right;\">\n",
       "      <th></th>\n",
       "      <th>marca</th>\n",
       "      <th>numero</th>\n",
       "      <th>quantidade</th>\n",
       "    </tr>\n",
       "  </thead>\n",
       "  <tbody>\n",
       "    <tr>\n",
       "      <th>0</th>\n",
       "      <td>XPTO</td>\n",
       "      <td>1029</td>\n",
       "      <td>50</td>\n",
       "    </tr>\n",
       "    <tr>\n",
       "      <th>1</th>\n",
       "      <td>ABCD</td>\n",
       "      <td>3233</td>\n",
       "      <td>50</td>\n",
       "    </tr>\n",
       "    <tr>\n",
       "      <th>2</th>\n",
       "      <td>XPTO</td>\n",
       "      <td>5455</td>\n",
       "      <td>50</td>\n",
       "    </tr>\n",
       "    <tr>\n",
       "      <th>3</th>\n",
       "      <td>ABCD</td>\n",
       "      <td>1234</td>\n",
       "      <td>50</td>\n",
       "    </tr>\n",
       "    <tr>\n",
       "      <th>4</th>\n",
       "      <td>TXWZ</td>\n",
       "      <td>7654</td>\n",
       "      <td>50</td>\n",
       "    </tr>\n",
       "    <tr>\n",
       "      <th>5</th>\n",
       "      <td>XPTO</td>\n",
       "      <td>8765</td>\n",
       "      <td>50</td>\n",
       "    </tr>\n",
       "    <tr>\n",
       "      <th>6</th>\n",
       "      <td>TXWZ</td>\n",
       "      <td>4354</td>\n",
       "      <td>50</td>\n",
       "    </tr>\n",
       "    <tr>\n",
       "      <th>7</th>\n",
       "      <td>XPTO</td>\n",
       "      <td>9089</td>\n",
       "      <td>50</td>\n",
       "    </tr>\n",
       "    <tr>\n",
       "      <th>8</th>\n",
       "      <td>XPTO</td>\n",
       "      <td>1031</td>\n",
       "      <td>50</td>\n",
       "    </tr>\n",
       "  </tbody>\n",
       "</table>\n",
       "</div>"
      ],
      "text/plain": [
       "  marca  numero  quantidade\n",
       "0  XPTO    1029          50\n",
       "1  ABCD    3233          50\n",
       "2  XPTO    5455          50\n",
       "3  ABCD    1234          50\n",
       "4  TXWZ    7654          50\n",
       "5  XPTO    8765          50\n",
       "6  TXWZ    4354          50\n",
       "7  XPTO    9089          50\n",
       "8  XPTO    1031          50"
      ]
     },
     "execution_count": 5,
     "metadata": {},
     "output_type": "execute_result"
    }
   ],
   "source": [
    "ped_df"
   ]
  },
  {
   "cell_type": "code",
   "execution_count": 6,
   "metadata": {},
   "outputs": [
    {
     "data": {
      "text/plain": [
       "XPTO    5\n",
       "TXWZ    2\n",
       "ABCD    2\n",
       "Name: marca, dtype: int64"
      ]
     },
     "execution_count": 6,
     "metadata": {},
     "output_type": "execute_result"
    }
   ],
   "source": [
    "ped_df['marca'].value_counts()"
   ]
  },
  {
   "cell_type": "code",
   "execution_count": 7,
   "metadata": {
    "collapsed": true
   },
   "outputs": [],
   "source": [
    "arr = ped_df['marca'].value_counts() / len(ped_df)"
   ]
  },
  {
   "cell_type": "code",
   "execution_count": 8,
   "metadata": {},
   "outputs": [
    {
     "name": "stdout",
     "output_type": "stream",
     "text": [
      "9\n"
     ]
    }
   ],
   "source": [
    "print(len(ped_df))"
   ]
  },
  {
   "cell_type": "code",
   "execution_count": 9,
   "metadata": {},
   "outputs": [
    {
     "data": {
      "text/plain": [
       "XPTO    0.555556\n",
       "TXWZ    0.222222\n",
       "ABCD    0.222222\n",
       "Name: marca, dtype: float64"
      ]
     },
     "execution_count": 9,
     "metadata": {},
     "output_type": "execute_result"
    }
   ],
   "source": [
    "arr"
   ]
  },
  {
   "cell_type": "code",
   "execution_count": 10,
   "metadata": {
    "collapsed": true
   },
   "outputs": [],
   "source": [
    "import matplotlib.pyplot as plt\n",
    "%matplotlib inline"
   ]
  },
  {
   "cell_type": "code",
   "execution_count": 11,
   "metadata": {},
   "outputs": [
    {
     "data": {
      "text/plain": [
       "<matplotlib.axes._subplots.AxesSubplot at 0x7f3af0016978>"
      ]
     },
     "execution_count": 11,
     "metadata": {},
     "output_type": "execute_result"
    },
    {
     "data": {
      "image/png": "[encoded data removed]",
      "text/plain": [
       "<matplotlib.figure.Figure at 0x7f3af0016160>"
      ]
     },
     "metadata": {},
     "output_type": "display_data"
    }
   ],
   "source": [
    "ped_df['marca'].value_counts().hist()"
   ]
  },
  {
   "cell_type": "code",
   "execution_count": 12,
   "metadata": {},
   "outputs": [
    {
     "data": {
      "text/plain": [
       "Index(['XPTO', 'TXWZ', 'ABCD'], dtype='object')"
      ]
     },
     "execution_count": 12,
     "metadata": {},
     "output_type": "execute_result"
    }
   ],
   "source": [
    "indx = [0,1,2]\n",
    "arr.index"
   ]
  },
  {
   "cell_type": "code",
   "execution_count": 13,
   "metadata": {},
   "outputs": [
    {
     "data": {
      "text/plain": [
       "([<matplotlib.axis.XTick at 0x7f3aed35d390>,\n",
       "  <matplotlib.axis.XTick at 0x7f3aed34ef28>,\n",
       "  <matplotlib.axis.XTick at 0x7f3aed366160>],\n",
       " <a list of 3 Text xticklabel objects>)"
      ]
     },
     "execution_count": 13,
     "metadata": {},
     "output_type": "execute_result"
    },
    {
     "data": {
      "image/png": "[encoded data removed]",
      "text/plain": [
       "<matplotlib.figure.Figure at 0x7f3aed3ef9b0>"
      ]
     },
     "metadata": {},
     "output_type": "display_data"
    }
   ],
   "source": [
    "plt.bar(indx, arr*100)\n",
    "plt.ylabel('%')\n",
    "plt.title('Frequência relativa')\n",
    "plt.xticks(indx, arr.index)\n"
   ]
  },
  {
   "cell_type": "code",
   "execution_count": 14,
   "metadata": {},
   "outputs": [
    {
     "data": {
      "text/plain": [
       "([<matplotlib.axis.XTick at 0x7f3aed29c9b0>,\n",
       "  <matplotlib.axis.XTick at 0x7f3aed29a860>,\n",
       "  <matplotlib.axis.XTick at 0x7f3aed291a90>],\n",
       " <a list of 3 Text xticklabel objects>)"
      ]
     },
     "execution_count": 14,
     "metadata": {},
     "output_type": "execute_result"
    },
    {
     "data": {
      "image/png": "[encoded data removed]",
      "text/plain": [
       "<matplotlib.figure.Figure at 0x7f3aed35d438>"
      ]
     },
     "metadata": {},
     "output_type": "display_data"
    }
   ],
   "source": [
    "orders = [{'number': 1029,'brand':'XPTO','qty':50},\n",
    "          {'number': 3233,'brand':'ABCD','qty':50},\n",
    "          {'number': 5455,'brand':'XPTO','qty':50},\n",
    "          {'number': 1234,'brand':'ABCD','qty':50},\n",
    "          {'number': 7654,'brand':'TXWZ','qty':50},\n",
    "          {'number': 8765,'brand':'XPTO','qty':50},\n",
    "          {'number': 4354,'brand':'TXWZ','qty':50},\n",
    "          {'number': 9089,'brand':'XPTO','qty':50},\n",
    "          {'number': 1031,'brand':'XPTO','qty':50}]\n",
    "orders_df = pd.DataFrame(orders)\n",
    "series = orders_df['brand'].value_counts() / len(orders_df)\n",
    "indx = [0,1,2]\n",
    "plt.bar(indx, series*100)\n",
    "plt.ylabel('%')\n",
    "plt.title('Relative fequency')\n",
    "plt.xticks(indx, series.index)"
   ]
  },
  {
   "cell_type": "code",
   "execution_count": 15,
   "metadata": {
    "collapsed": true
   },
   "outputs": [],
   "source": [
    "compras = [1,1,1,3,3,5,5,6,6,6,6,7,8,8,9,9,9,9,10,10,10,11,13,14,14,15,15,15,15]"
   ]
  },
  {
   "cell_type": "code",
   "execution_count": 16,
   "metadata": {
    "collapsed": true
   },
   "outputs": [],
   "source": [
    "pdc = pd.DataFrame(compras)"
   ]
  },
  {
   "cell_type": "code",
   "execution_count": 17,
   "metadata": {},
   "outputs": [
    {
     "name": "stdout",
     "output_type": "stream",
     "text": [
      "0    14\n",
      "dtype: int64\n"
     ]
    }
   ],
   "source": [
    "amplitude = pdc.max() - pdc.min()\n",
    "print(amplitude)"
   ]
  },
  {
   "cell_type": "code",
   "execution_count": 18,
   "metadata": {},
   "outputs": [
    {
     "data": {
      "text/plain": [
       "array([[<matplotlib.axes._subplots.AxesSubplot object at 0x7f3aed2ec5f8>]], dtype=object)"
      ]
     },
     "execution_count": 18,
     "metadata": {},
     "output_type": "execute_result"
    },
    {
     "data": {
      "image/png": "[encoded data removed]",
      "text/plain": [
       "<matplotlib.figure.Figure at 0x7f3aed2f94a8>"
      ]
     },
     "metadata": {},
     "output_type": "display_data"
    }
   ],
   "source": [
    "pdc.hist()"
   ]
  },
  {
   "cell_type": "code",
   "execution_count": 19,
   "metadata": {},
   "outputs": [
    {
     "data": {
      "text/plain": [
       "array([[<matplotlib.axes._subplots.AxesSubplot object at 0x7f3aed41cac8>]], dtype=object)"
      ]
     },
     "execution_count": 19,
     "metadata": {},
     "output_type": "execute_result"
    },
    {
     "data": {
      "image/png": "[encoded data removed]",
      "text/plain": [
       "<matplotlib.figure.Figure at 0x7f3aed172588>"
      ]
     },
     "metadata": {},
     "output_type": "display_data"
    }
   ],
   "source": [
    "pdc.hist(bins=6)"
   ]
  },
  {
   "cell_type": "code",
   "execution_count": 20,
   "metadata": {},
   "outputs": [
    {
     "data": {
      "text/plain": [
       "array([[<matplotlib.axes._subplots.AxesSubplot object at 0x7f3aed12c630>]], dtype=object)"
      ]
     },
     "execution_count": 20,
     "metadata": {},
     "output_type": "execute_result"
    },
    {
     "data": {
      "image/png": "[encoded data removed]",
      "text/plain": [
       "<matplotlib.figure.Figure at 0x7f3aed0caeb8>"
      ]
     },
     "metadata": {},
     "output_type": "display_data"
    }
   ],
   "source": [
    "pdc.hist(bins=7)"
   ]
  },
  {
   "cell_type": "code",
   "execution_count": 21,
   "metadata": {
    "collapsed": true
   },
   "outputs": [],
   "source": [
    "#1,3 5,6 7,8 9,10 11,13 14,15\n",
    "bins = pd.cut(pdc[0],bins=[0,3,6,7,10,13,15])"
   ]
  },
  {
   "cell_type": "code",
   "execution_count": 22,
   "metadata": {},
   "outputs": [
    {
     "data": {
      "text/plain": [
       "(7, 10]     9\n",
       "(13, 15]    6\n",
       "(3, 6]      6\n",
       "(0, 3]      5\n",
       "(10, 13]    2\n",
       "(6, 7]      1\n",
       "Name: 0, dtype: int64"
      ]
     },
     "execution_count": 22,
     "metadata": {},
     "output_type": "execute_result"
    }
   ],
   "source": [
    "serie = bins.value_counts()\n",
    "serie"
   ]
  },
  {
   "cell_type": "code",
   "execution_count": 23,
   "metadata": {
    "collapsed": true
   },
   "outputs": [],
   "source": [
    "s2 = serie.sort_index()"
   ]
  },
  {
   "cell_type": "code",
   "execution_count": 24,
   "metadata": {},
   "outputs": [
    {
     "data": {
      "text/plain": [
       "(0, 3]      5\n",
       "(3, 6]      6\n",
       "(6, 7]      1\n",
       "(7, 10]     9\n",
       "(10, 13]    2\n",
       "(13, 15]    6\n",
       "Name: 0, dtype: int64"
      ]
     },
     "execution_count": 24,
     "metadata": {},
     "output_type": "execute_result"
    }
   ],
   "source": [
    "s2"
   ]
  },
  {
   "cell_type": "code",
   "execution_count": 25,
   "metadata": {},
   "outputs": [
    {
     "data": {
      "text/plain": [
       "<matplotlib.axes._subplots.AxesSubplot at 0x7f3aecfc0f98>"
      ]
     },
     "execution_count": 25,
     "metadata": {},
     "output_type": "execute_result"
    },
    {
     "data": {
      "image/png": "[encoded data removed]",
      "text/plain": [
       "<matplotlib.figure.Figure at 0x7f3aecfffdd8>"
      ]
     },
     "metadata": {},
     "output_type": "display_data"
    }
   ],
   "source": [
    "s2.plot(kind='bar')"
   ]
  },
  {
   "cell_type": "code",
   "execution_count": 26,
   "metadata": {
    "collapsed": true
   },
   "outputs": [],
   "source": [
    "pesos = 70 + np.random.randn(30)"
   ]
  },
  {
   "cell_type": "code",
   "execution_count": 27,
   "metadata": {},
   "outputs": [
    {
     "data": {
      "text/plain": [
       "array([ 68.65351265,  70.4554891 ,  70.90858411,  69.09674694,\n",
       "        69.48450108,  69.77829038,  70.05864837,  71.32543158,\n",
       "        69.78301286,  70.86327845,  70.64528582,  69.74841797,\n",
       "        70.54084318,  69.90147043,  70.75582143,  70.29761177,\n",
       "        69.35041613,  68.98238474,  69.32389406,  69.8670832 ,\n",
       "        70.40016148,  68.23025281,  69.3201854 ,  72.28055467,\n",
       "        71.72781387,  68.75882924,  71.88082058,  71.30360669,\n",
       "        69.5147921 ,  70.45415288])"
      ]
     },
     "execution_count": 27,
     "metadata": {},
     "output_type": "execute_result"
    }
   ],
   "source": [
    "pesos"
   ]
  },
  {
   "cell_type": "code",
   "execution_count": 28,
   "metadata": {},
   "outputs": [
    {
     "data": {
      "text/plain": [
       "70.123063132707358"
      ]
     },
     "execution_count": 28,
     "metadata": {},
     "output_type": "execute_result"
    }
   ],
   "source": [
    "pesos.mean()"
   ]
  },
  {
   "cell_type": "code",
   "execution_count": 30,
   "metadata": {},
   "outputs": [
    {
     "name": "stdout",
     "output_type": "stream",
     "text": [
      "70.1230631327\n",
      "Desvio populacional 0.97653531607\n",
      "Desvio amostral 0.993229436736\n"
     ]
    }
   ],
   "source": [
    "from scipy.stats import norm\n",
    "data = norm.rvs(70, 6.5, size=500)\n",
    "print(np.mean(pesos))\n",
    "print('Desvio populacional',np.std(pesos)) # Se o vetor pesos for uma população\n",
    "print('Desvio amostral',np.std(pesos,ddof=1)) # Se o vetor pesos for apenas uma amostra"
   ]
  },
  {
   "cell_type": "code",
   "execution_count": 30,
   "metadata": {},
   "outputs": [
    {
     "name": "stdout",
     "output_type": "stream",
     "text": [
      "mu: 70.2415168171 std: 6.46355735965\n"
     ]
    },
    {
     "data": {
      "text/plain": [
       "(array([  1.,   2.,   2.,   2.,   7.,   9.,  13.,  21.,  31.,  35.,  38.,\n",
       "         37.,  56.,  55.,  41.,  35.,  32.,  24.,  21.,  15.,  10.,   6.,\n",
       "          2.,   3.,   2.]),\n",
       " array([ 50.05968004,  51.61783722,  53.17599439,  54.73415157,\n",
       "         56.29230874,  57.85046592,  59.4086231 ,  60.96678027,\n",
       "         62.52493745,  64.08309463,  65.6412518 ,  67.19940898,\n",
       "         68.75756615,  70.31572333,  71.87388051,  73.43203768,\n",
       "         74.99019486,  76.54835204,  78.10650921,  79.66466639,\n",
       "         81.22282356,  82.78098074,  84.33913792,  85.89729509,\n",
       "         87.45545227,  89.01360945]),\n",
       " <a list of 25 Patch objects>)"
      ]
     },
     "execution_count": 30,
     "metadata": {},
     "output_type": "execute_result"
    },
    {
     "data": {
      "image/png": "[encoded data removed]",
      "text/plain": [
       "<matplotlib.figure.Figure at 0x7f01d35c5240>"
      ]
     },
     "metadata": {},
     "output_type": "display_data"
    }
   ],
   "source": [
    "mu, std = norm.fit(data)\n",
    "print('mu:', mu, 'std:', std)\n",
    "plt.hist(data, bins=25)"
   ]
  },
  {
   "cell_type": "code",
   "execution_count": 31,
   "metadata": {},
   "outputs": [
    {
     "data": {
      "image/png": "[encoded data removed]",
      "text/plain": [
       "<matplotlib.figure.Figure at 0x7f01d2fa9a90>"
      ]
     },
     "metadata": {},
     "output_type": "display_data"
    }
   ],
   "source": [
    "plt.hist(data, bins=25, normed=True, alpha=0.6)\n",
    "xmin, xmax = plt.xlim()\n",
    "x = np.linspace(xmin, xmax, 100)\n",
    "p = norm.pdf(x, mu, std)\n",
    "plt.plot(x, p, 'k', linewidth=2)\n",
    "title = \"Fit results: mu = %.2f,  std = %.2f\" % (mu, std)\n",
    "plt.title(title)\n",
    "\n",
    "plt.show()"
   ]
  },
  {
   "cell_type": "code",
   "execution_count": 58,
   "metadata": {},
   "outputs": [
    {
     "data": {
      "image/png": "[encoded data removed]",
      "text/plain": [
       "<matplotlib.figure.Figure at 0x7f01d2770cc0>"
      ]
     },
     "metadata": {},
     "output_type": "display_data"
    }
   ],
   "source": [
    "import math\n",
    "import matplotlib.mlab as mlab\n",
    "mu = 0\n",
    "variance = 1\n",
    "sigma = math.sqrt(variance)\n",
    "x = np.linspace(mu - 3*sigma, mu + 3*sigma, 100)\n",
    "plt.plot(x,mlab.normpdf(x, mu, sigma))\n",
    "y = mlab.normpdf(x,mu,sigma)\n",
    "plt.plot([0,0],[0,0.4])\n",
    "sn1 = mlab.normpdf(-1,0,sigma)\n",
    "s1  = mlab.normpdf(1,0,sigma)\n",
    "sn2 = mlab.normpdf(-2,0,sigma)\n",
    "s2  = mlab.normpdf(2,0,sigma)\n",
    "sn3 = mlab.normpdf(-3,0,sigma)\n",
    "s3  = mlab.normpdf(3,0,sigma)\n",
    "\n",
    "plt.plot([-1,-1],[0,sn1],'r-')\n",
    "plt.plot([1,1],[0,s1],'r-')\n",
    "plt.plot([-2,-2],[0,sn2],'g:')\n",
    "plt.plot([2,2],[0,s2],'g:')\n",
    "plt.plot([-3,-3],[0,sn3],'k.')\n",
    "plt.plot([3,3],[0,s3],'k.')\n",
    "\n",
    "plt.show()\n"
   ]
  },
  {
   "cell_type": "code",
   "execution_count": 8,
   "metadata": {},
   "outputs": [
    {
     "name": "stdout",
     "output_type": "stream",
     "text": [
      "col_0   2  3   4   5   6  7  8  9\n",
      "row_0                            \n",
      "counts  2  9  25  29  19  9  5  2\n"
     ]
    },
    {
     "data": {
      "text/plain": [
       "array([[<matplotlib.axes._subplots.AxesSubplot object at 0x7fae24ddc198>]], dtype=object)"
      ]
     },
     "execution_count": 8,
     "metadata": {},
     "output_type": "execute_result"
    },
    {
     "data": {
      "image/png": "[encoded data removed]",
      "text/plain": [
       "<matplotlib.figure.Figure at 0x7fae24daa048>"
      ]
     },
     "metadata": {},
     "output_type": "display_data"
    }
   ],
   "source": [
    "import scipy, scipy.stats\n",
    "fair_coin_flips = scipy.stats.binom.rvs(n=10,        # Number of flips per trial\n",
    "                                  p=0.5,       # Success probability\n",
    "                                  size=100)  # Number of trials\n",
    "\n",
    "print( pd.crosstab(index=\"counts\", columns= fair_coin_flips))\n",
    "\n",
    "pd.DataFrame(fair_coin_flips).hist(range=(-0.5,10.5), bins=11)"
   ]
  },
  {
   "cell_type": "code",
   "execution_count": 10,
   "metadata": {},
   "outputs": [
    {
     "name": "stdout",
     "output_type": "stream",
     "text": [
      "0.03771565209193284\n",
      "0.4397916134297761\n"
     ]
    }
   ],
   "source": [
    "print(scipy.stats.kurtosis(fair_coin_flips))\n",
    "print(scipy.stats.skew(fair_coin_flips))"
   ]
  },
  {
   "cell_type": "code",
   "execution_count": 24,
   "metadata": {
    "collapsed": true
   },
   "outputs": [],
   "source": [
    "visitas = np.random.poisson(lam=6,size=1000)"
   ]
  },
  {
   "cell_type": "code",
   "execution_count": 28,
   "metadata": {},
   "outputs": [
    {
     "data": {
      "text/plain": [
       "16      1\n",
       "15      1\n",
       "14      2\n",
       "13      5\n",
       "0       5\n",
       "12      7\n",
       "1      13\n",
       "11     31\n",
       "2      36\n",
       "10     37\n",
       "9      82\n",
       "3     104\n",
       "8     105\n",
       "4     121\n",
       "7     131\n",
       "5     159\n",
       "6     160\n",
       "Name: 0, dtype: int64"
      ]
     },
     "execution_count": 28,
     "metadata": {},
     "output_type": "execute_result"
    }
   ],
   "source": [
    "vdf = pd.DataFrame(visitas)\n",
    "vdf[0].value_counts().sort_values()"
   ]
  },
  {
   "cell_type": "code",
   "execution_count": 26,
   "metadata": {},
   "outputs": [
    {
     "data": {
      "text/plain": [
       "0    6.05\n",
       "dtype: float64"
      ]
     },
     "execution_count": 26,
     "metadata": {},
     "output_type": "execute_result"
    }
   ],
   "source": [
    "vdf.mean()"
   ]
  },
  {
   "cell_type": "code",
   "execution_count": 27,
   "metadata": {
    "scrolled": true
   },
   "outputs": [
    {
     "data": {
      "text/plain": [
       "array([[<matplotlib.axes._subplots.AxesSubplot object at 0x7fe97c6f43c8>]], dtype=object)"
      ]
     },
     "execution_count": 27,
     "metadata": {},
     "output_type": "execute_result"
    },
    {
     "data": {
      "image/png": "[encoded data removed]",
      "text/plain": [
       "<matplotlib.figure.Figure at 0x7fe97c704c50>"
      ]
     },
     "metadata": {},
     "output_type": "display_data"
    }
   ],
   "source": [
    "vdf.hist()"
   ]
  },
  {
   "cell_type": "code",
   "execution_count": 12,
   "metadata": {},
   "outputs": [
    {
     "data": {
      "image/png": "[encoded data removed]",
      "text/plain": [
       "<matplotlib.figure.Figure at 0x7fae24c3c630>"
      ]
     },
     "metadata": {},
     "output_type": "display_data"
    },
    {
     "name": "stdout",
     "output_type": "stream",
     "text": [
      "(array(100.0), array(25.0), array(0.0), array(0.0))\n"
     ]
    }
   ],
   "source": [
    "distribution = scipy.stats.norm(loc=100,scale=5)\n",
    "sample = distribution.rvs(size=10000)\n",
    "plt.hist(sample)\n",
    "plt.show()\n",
    "print(distribution.stats('mvsk'))"
   ]
  },
  {
   "cell_type": "code",
   "execution_count": 13,
   "metadata": {},
   "outputs": [
    {
     "data": {
      "image/png": "[encoded data removed]",
      "text/plain": [
       "<matplotlib.figure.Figure at 0x7fae24d7eb70>"
      ]
     },
     "metadata": {},
     "output_type": "display_data"
    }
   ],
   "source": [
    "distribution = scipy.stats.gengamma(100, 70, loc=50, scale=10)\n",
    "sample = distribution.rvs(size=10000)\n",
    "plt.hist(sample)\n",
    "plt.show()"
   ]
  },
  {
   "cell_type": "code",
   "execution_count": 31,
   "metadata": {},
   "outputs": [
    {
     "data": {
      "text/plain": [
       "<matplotlib.axes._subplots.AxesSubplot at 0x7fae23a51e48>"
      ]
     },
     "execution_count": 31,
     "metadata": {},
     "output_type": "execute_result"
    },
    {
     "data": {
      "image/png": "[encoded data removed]",
      "text/plain": [
       "<matplotlib.figure.Figure at 0x7fae238cdb00>"
      ]
     },
     "metadata": {},
     "output_type": "display_data"
    }
   ],
   "source": [
    "norm_data = np.random.normal(size=100000)\n",
    "peaked_data = np.concatenate((np.random.exponential(size=50000),\n",
    "                             np.random.exponential(size=50000)*(-1)),\n",
    "                             axis=0)\n",
    "data_df = pd.DataFrame({\"Baixa curtose\":norm_data,\n",
    "                       \"Alta curtose\":peaked_data})\n",
    "data_df.plot(kind=\"density\",\n",
    "            figsize=(10,10),\n",
    "            xlim=(-5,5),style=['r-','b*'])"
   ]
  },
  {
   "cell_type": "code",
   "execution_count": 33,
   "metadata": {},
   "outputs": [
    {
     "data": {
      "text/plain": [
       "<matplotlib.axes._subplots.AxesSubplot at 0x7fae23908400>"
      ]
     },
     "execution_count": 33,
     "metadata": {},
     "output_type": "execute_result"
    },
    {
     "data": {
      "image/png": "[encoded data removed]",
      "text/plain": [
       "<matplotlib.figure.Figure at 0x7fae23500198>"
      ]
     },
     "metadata": {},
     "output_type": "display_data"
    }
   ],
   "source": [
    "#norm_data = np.random.normal(size=100000)\n",
    "norm_data = np.concatenate((np.random.exponential(size=50000),\n",
    "                             np.random.exponential(size=50000)*(-1)),\n",
    "                             axis=0)\n",
    "skewed_data = np.concatenate((np.random.normal(size=35000)+2, \n",
    "                             np.random.exponential(size=65000)), \n",
    "                             axis=0)\n",
    "\n",
    "data_df = pd.DataFrame({\"Baixa assimetria\":norm_data,\n",
    "                       \"Alta assimetria\":skewed_data})\n",
    "data_df.plot(kind=\"density\",\n",
    "            figsize=(10,10),\n",
    "            xlim=(-5,5),style=['r-','b*'])"
   ]
  },
  {
   "cell_type": "code",
   "execution_count": 19,
   "metadata": {},
   "outputs": [
    {
     "name": "stdout",
     "output_type": "stream",
     "text": [
      "1.9722402747009318 0.055507850726839614 0.00688384489341277 -0.030680951431508063\n"
     ]
    }
   ],
   "source": []
  },
  {
   "cell_type": "code",
   "execution_count": null,
   "metadata": {
    "collapsed": true
   },
   "outputs": [],
   "source": []
  }
 ],
 "metadata": {
  "kernelspec": {
   "display_name": "Python 3",
   "language": "python",
   "name": "python3"
  },
  "language_info": {
   "codemirror_mode": {
    "name": "ipython",
    "version": 3
   },
   "file_extension": ".py",
   "mimetype": "text/x-python",
   "name": "python",
   "nbconvert_exporter": "python",
   "pygments_lexer": "ipython3",
   "version": "3.6.2"
  }
 },
 "nbformat": 4,
 "nbformat_minor": 2
}
