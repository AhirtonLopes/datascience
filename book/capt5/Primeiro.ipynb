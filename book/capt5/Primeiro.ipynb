{
 "cells": [
  {
   "cell_type": "markdown",
   "metadata": {},
   "source": [
    "# Variáveis"
   ]
  },
  {
   "cell_type": "markdown",
   "metadata": {},
   "source": [
    "Em **Python** definimos variáveis atribuindo um valor a elas. O tipo é dado pelo tipo de dados do literal:"
   ]
  },
  {
   "cell_type": "code",
   "execution_count": 1,
   "metadata": {},
   "outputs": [
    {
     "name": "stdout",
     "output_type": "stream",
     "text": [
      "Variável a: 5\n",
      "Tipo de dados: <class 'int'>\n"
     ]
    }
   ],
   "source": [
    "a = 5 # isso é um comentário\n",
    "print('Variável a:',a)\n",
    "print('Tipo de dados:',type(a))"
   ]
  },
  {
   "cell_type": "code",
   "execution_count": 2,
   "metadata": {},
   "outputs": [
    {
     "name": "stdout",
     "output_type": "stream",
     "text": [
      "Tipo de b: <class 'float'> tipo de c: <class 'bool'>\n"
     ]
    }
   ],
   "source": [
    "'''\n",
    "Isso é um comentário \n",
    "de múltiplas linhas\n",
    "'''\n",
    "b = 0.77 # variável contínua\n",
    "c = True # variável booleana (True / False)\n",
    "print('Tipo de b:',type(b),'tipo de c:',type(c))"
   ]
  },
  {
   "cell_type": "code",
   "execution_count": 3,
   "metadata": {},
   "outputs": [
    {
     "name": "stdout",
     "output_type": "stream",
     "text": [
      "Teste <class 'str'>\n"
     ]
    }
   ],
   "source": [
    "nome = 'Teste'\n",
    "print(nome,type(nome))"
   ]
  },
  {
   "cell_type": "markdown",
   "metadata": {},
   "source": [
    "## Variáveis multivaloradas"
   ]
  },
  {
   "cell_type": "code",
   "execution_count": 5,
   "metadata": {},
   "outputs": [
    {
     "name": "stdout",
     "output_type": "stream",
     "text": [
      "[6.5, 4.0, 7.0, 6.5, 7.5, 8.0, 9.5, 10.0]\n",
      "Nota: 6.5\n",
      "Nota: 4.0\n",
      "Nota: 7.0\n",
      "Nota: 6.5\n",
      "Nota: 7.5\n",
      "Nota: 8.0\n",
      "Nota: 9.5\n",
      "Nota: 10.0\n"
     ]
    }
   ],
   "source": [
    "# Listas\n",
    "notas = [6.5, 4.0, 7.0, 6.5, 7.5, 8.0, 9.5, 10.0]\n",
    "print(notas)\n",
    "for nota in notas:\n",
    "    print('Nota:',nota)"
   ]
  },
  {
   "cell_type": "code",
   "execution_count": 6,
   "metadata": {},
   "outputs": [
    {
     "name": "stdout",
     "output_type": "stream",
     "text": [
      "6.5\n"
     ]
    }
   ],
   "source": [
    "# Indexando (o índice começa em zero!)\n",
    "print(notas[0])"
   ]
  },
  {
   "cell_type": "code",
   "execution_count": 9,
   "metadata": {},
   "outputs": [
    {
     "name": "stdout",
     "output_type": "stream",
     "text": [
      "[7.0, 6.5]\n"
     ]
    }
   ],
   "source": [
    "# Particionando\n",
    "# [<índice inicial>:<índice final - exclusive>]\n",
    "print(notas[2:4]) # Mostra as notas da terceira inclusive até a quinta exclusive"
   ]
  },
  {
   "cell_type": "code",
   "execution_count": 10,
   "metadata": {},
   "outputs": [
    {
     "name": "stdout",
     "output_type": "stream",
     "text": [
      "[6.5, 4.0, 7.0]\n"
     ]
    }
   ],
   "source": [
    "# Particionando\n",
    "# Do início as 3 primeiras \n",
    "print(notas[:3])"
   ]
  },
  {
   "cell_type": "code",
   "execution_count": 11,
   "metadata": {},
   "outputs": [
    {
     "name": "stdout",
     "output_type": "stream",
     "text": [
      "[7.0, 6.5, 7.5, 8.0, 9.5, 10.0]\n"
     ]
    }
   ],
   "source": [
    "# Particionando\n",
    "# Pule as duas primeiras notas e me mostre o resto, até o fim\n",
    "print(notas[2:])"
   ]
  },
  {
   "cell_type": "code",
   "execution_count": 15,
   "metadata": {},
   "outputs": [
    {
     "name": "stdout",
     "output_type": "stream",
     "text": [
      "[9.5, 10.0]\n"
     ]
    }
   ],
   "source": [
    "# Particionando\n",
    "# Se i índice for negativo, significa que deve ser contado do fim da lista\n",
    "# Mostre as duas últimas notas\n",
    "print(notas[-2:])"
   ]
  },
  {
   "cell_type": "code",
   "execution_count": 16,
   "metadata": {},
   "outputs": [
    {
     "name": "stdout",
     "output_type": "stream",
     "text": [
      "[6.5, 4.0, 7.0, 6.5, 7.5, 8.0, 9.5]\n"
     ]
    }
   ],
   "source": [
    "# Particionando\n",
    "# Se i índice for negativo, significa que deve ser contado do fim da lista\n",
    "# Tudo menos a última nota\n",
    "print(notas[:-1])"
   ]
  },
  {
   "cell_type": "markdown",
   "metadata": {},
   "source": [
    "# Expressões"
   ]
  },
  {
   "cell_type": "code",
   "execution_count": 19,
   "metadata": {},
   "outputs": [
    {
     "name": "stdout",
     "output_type": "stream",
     "text": [
      "1.3333333333333333\n"
     ]
    }
   ],
   "source": [
    "a = 5\n",
    "b = 7\n",
    "c = 2\n",
    "d = 3\n",
    "resultado = (b - a) * c / d\n",
    "print(resultado)"
   ]
  },
  {
   "cell_type": "code",
   "execution_count": 20,
   "metadata": {},
   "outputs": [
    {
     "name": "stdout",
     "output_type": "stream",
     "text": [
      "1\n"
     ]
    }
   ],
   "source": [
    "# Resto da divisão\n",
    "print(5 % 2)"
   ]
  },
  {
   "cell_type": "code",
   "execution_count": 21,
   "metadata": {},
   "outputs": [
    {
     "name": "stdout",
     "output_type": "stream",
     "text": [
      "8\n"
     ]
    }
   ],
   "source": [
    "# Exponenciação\n",
    "print(2**3)"
   ]
  },
  {
   "cell_type": "markdown",
   "metadata": {},
   "source": [
    "# Tuplas"
   ]
  },
  {
   "cell_type": "code",
   "execution_count": 22,
   "metadata": {},
   "outputs": [
    {
     "name": "stdout",
     "output_type": "stream",
     "text": [
      "[('Fulano', 'Rua x numero 5'), ('Beltrano', 'Rua a numero 1')]\n"
     ]
    }
   ],
   "source": [
    "aluno1 = ('Fulano','Rua x numero 5')\n",
    "aluno2 = ('Beltrano','Rua a numero 1')\n",
    "alunos = [aluno1,aluno2]\n",
    "print(alunos)\n"
   ]
  },
  {
   "cell_type": "code",
   "execution_count": 23,
   "metadata": {
    "collapsed": true
   },
   "outputs": [],
   "source": [
    "a = ['banana',5,True]"
   ]
  },
  {
   "cell_type": "code",
   "execution_count": 24,
   "metadata": {},
   "outputs": [
    {
     "name": "stdout",
     "output_type": "stream",
     "text": [
      "['banana', 5, True]\n"
     ]
    }
   ],
   "source": [
    "print(a)\n"
   ]
  },
  {
   "cell_type": "markdown",
   "metadata": {},
   "source": [
    "# Dicionários"
   ]
  },
  {
   "cell_type": "code",
   "execution_count": 29,
   "metadata": {
    "collapsed": true
   },
   "outputs": [],
   "source": [
    "produto1 = {'codigo' : 34, 'descricao': 'Parafuso', 'qtde' : 100}\n",
    "produto2 = {'codigo' : 35, 'descricao': 'Prego', 'qtde' : 80}\n",
    "produto3 = {'codigo' : 36, 'descricao': 'Serrote', 'qtde' : 20}"
   ]
  },
  {
   "cell_type": "code",
   "execution_count": 30,
   "metadata": {},
   "outputs": [
    {
     "name": "stdout",
     "output_type": "stream",
     "text": [
      "{'codigo': 34, 'descricao': 'Parafuso', 'qtde': 100}\n"
     ]
    }
   ],
   "source": [
    "print(produto1)"
   ]
  },
  {
   "cell_type": "code",
   "execution_count": 31,
   "metadata": {},
   "outputs": [
    {
     "name": "stdout",
     "output_type": "stream",
     "text": [
      "Parafuso\n"
     ]
    }
   ],
   "source": [
    "print(produto1['descricao'])"
   ]
  },
  {
   "cell_type": "code",
   "execution_count": 32,
   "metadata": {
    "collapsed": true
   },
   "outputs": [],
   "source": [
    "produtos = [produto1,produto2,produto3]"
   ]
  },
  {
   "cell_type": "code",
   "execution_count": 33,
   "metadata": {},
   "outputs": [
    {
     "name": "stdout",
     "output_type": "stream",
     "text": [
      "Prego\n"
     ]
    }
   ],
   "source": [
    "print(produtos[1]['descricao']) # pega a descrição do segundo produto"
   ]
  },
  {
   "cell_type": "markdown",
   "metadata": {
    "collapsed": true
   },
   "source": [
    "# Expressões lógicas"
   ]
  },
  {
   "cell_type": "code",
   "execution_count": 2,
   "metadata": {},
   "outputs": [
    {
     "name": "stdout",
     "output_type": "stream",
     "text": [
      "False\n",
      "True\n",
      "True\n"
     ]
    }
   ],
   "source": [
    "a = True\n",
    "b = False\n",
    "print(a and b)\n",
    "print(a or b)\n",
    "print(not (a and b))"
   ]
  },
  {
   "cell_type": "code",
   "execution_count": 4,
   "metadata": {},
   "outputs": [
    {
     "name": "stdout",
     "output_type": "stream",
     "text": [
      "False\n",
      "True\n",
      "True\n",
      "True\n",
      "True\n"
     ]
    }
   ],
   "source": [
    "n = 5\n",
    "z = 6\n",
    "print(n == z)\n",
    "print(not (n == z))\n",
    "print(n != z)\n",
    "print(n <= z)\n",
    "print(z > n)"
   ]
  },
  {
   "cell_type": "markdown",
   "metadata": {},
   "source": [
    "# Controle de fluxo"
   ]
  },
  {
   "cell_type": "code",
   "execution_count": 7,
   "metadata": {},
   "outputs": [
    {
     "name": "stdout",
     "output_type": "stream",
     "text": [
      "1\n",
      "2\n",
      "3\n",
      "4\n",
      "5\n"
     ]
    }
   ],
   "source": [
    "# while\n",
    "x = 0\n",
    "while x<5:\n",
    "    x += 1\n",
    "    print(x)"
   ]
  },
  {
   "cell_type": "code",
   "execution_count": 9,
   "metadata": {},
   "outputs": [
    {
     "name": "stdout",
     "output_type": "stream",
     "text": [
      "1\n",
      "2\n",
      "3\n",
      "4\n",
      "5\n"
     ]
    }
   ],
   "source": [
    "# for\n",
    "for x in range(1,6):\n",
    "    print(x)"
   ]
  },
  {
   "cell_type": "code",
   "execution_count": 10,
   "metadata": {
    "collapsed": true
   },
   "outputs": [],
   "source": [
    "import numpy as np"
   ]
  },
  {
   "cell_type": "code",
   "execution_count": 17,
   "metadata": {},
   "outputs": [
    {
     "name": "stdout",
     "output_type": "stream",
     "text": [
      "Tamanho: 20\n",
      "Tipo: <class 'numpy.ndarray'>\n",
      "1.0\n",
      "1.47368421053\n",
      "1.94736842105\n",
      "2.42105263158\n",
      "2.89473684211\n",
      "3.36842105263\n",
      "3.84210526316\n",
      "4.31578947368\n",
      "4.78947368421\n",
      "5.26315789474\n",
      "5.73684210526\n",
      "6.21052631579\n",
      "6.68421052632\n",
      "7.15789473684\n",
      "7.63157894737\n",
      "8.10526315789\n",
      "8.57894736842\n",
      "9.05263157895\n",
      "9.52631578947\n",
      "10.0\n",
      "<class 'numpy.float64'>\n"
     ]
    }
   ],
   "source": [
    "x = np.linspace(1,10,num=20)\n",
    "print('Tamanho:',len(x))\n",
    "print('Tipo:',type(x))\n",
    "for numero in x:\n",
    "    print(numero)\n",
    "print(type(numero))"
   ]
  },
  {
   "cell_type": "code",
   "execution_count": 19,
   "metadata": {},
   "outputs": [
    {
     "name": "stdout",
     "output_type": "stream",
     "text": [
      "range(1, 6)\n"
     ]
    }
   ],
   "source": [
    "print(range(1,6))"
   ]
  },
  {
   "cell_type": "code",
   "execution_count": 22,
   "metadata": {},
   "outputs": [
    {
     "name": "stdout",
     "output_type": "stream",
     "text": [
      "a==7 e b <10\n",
      "c é False\n"
     ]
    }
   ],
   "source": [
    "# if\n",
    "a = 7\n",
    "b = 5\n",
    "c = False\n",
    "\n",
    "if a == 7 and b < 10:\n",
    "    print('a==7 e b <10')\n",
    "else:\n",
    "    print('Contrário')\n",
    "        \n",
    "if c:\n",
    "    print('c é True')\n",
    "elif not c:\n",
    "        print('c é False')\n",
    "    "
   ]
  },
  {
   "cell_type": "markdown",
   "metadata": {},
   "source": [
    "# Programação funcional"
   ]
  },
  {
   "cell_type": "code",
   "execution_count": 29,
   "metadata": {},
   "outputs": [
    {
     "name": "stdout",
     "output_type": "stream",
     "text": [
      "Texto: Este\n",
      "é\n",
      "um\n",
      "texto\n"
     ]
    }
   ],
   "source": [
    "# Generator\n",
    "palavras = ['Este','é','um','texto']\n",
    "palavras_iterator = (palavra for palavra in palavras)\n",
    "primeira = next(palavras_iterator)\n",
    "print('Texto:',primeira)\n",
    "for x in palavras_iterator:\n",
    "    print(x)"
   ]
  },
  {
   "cell_type": "code",
   "execution_count": 31,
   "metadata": {},
   "outputs": [
    {
     "name": "stdout",
     "output_type": "stream",
     "text": [
      "[1, 2, 3, 4]\n",
      "['Minha', 'terra', 'tem', 'palmeiras', 'onde', 'canta', 'o', 'sabiá']\n"
     ]
    }
   ],
   "source": [
    "# List comprehension\n",
    "lista = [x for x in range(1,5)]\n",
    "print(lista)\n",
    "texto = \"Minha terra tem palmeiras onde canta o sabiá\"\n",
    "lista2 = [palavra for palavra in texto.split(' ')]\n",
    "print(lista2)"
   ]
  },
  {
   "cell_type": "code",
   "execution_count": 33,
   "metadata": {},
   "outputs": [
    {
     "name": "stdout",
     "output_type": "stream",
     "text": [
      "1\n"
     ]
    }
   ],
   "source": [
    "# Lambda\n",
    "delta = lambda a,b,c: b**2 - 4*a*c\n",
    "# x² - 5x + 6 = 0 \n",
    "print(delta(1,-5,6))"
   ]
  },
  {
   "cell_type": "code",
   "execution_count": null,
   "metadata": {
    "collapsed": true
   },
   "outputs": [],
   "source": []
  }
 ],
 "metadata": {
  "kernelspec": {
   "display_name": "Python 3",
   "language": "python",
   "name": "python3"
  },
  "language_info": {
   "codemirror_mode": {
    "name": "ipython",
    "version": 3
   },
   "file_extension": ".py",
   "mimetype": "text/x-python",
   "name": "python",
   "nbconvert_exporter": "python",
   "pygments_lexer": "ipython3",
   "version": "3.6.2"
  }
 },
 "nbformat": 4,
 "nbformat_minor": 2
}
