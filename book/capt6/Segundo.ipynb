{
 "cells": [
  {
   "cell_type": "markdown",
   "metadata": {},
   "source": [
    "# NumPy"
   ]
  },
  {
   "cell_type": "code",
   "execution_count": 2,
   "metadata": {},
   "outputs": [],
   "source": [
    "import numpy as np"
   ]
  },
  {
   "cell_type": "code",
   "execution_count": 5,
   "metadata": {},
   "outputs": [
    {
     "name": "stdout",
     "output_type": "stream",
     "text": [
      "Média: 62.2\n",
      "Máximo: 81.0\n",
      "Mínimo: 50.0\n"
     ]
    }
   ],
   "source": [
    "pesos = np.array([50.,55.5,53.4,60.10,70.1,81.,65.3])\n",
    "print('Média:',pesos.mean())\n",
    "print('Máximo:',pesos.max())\n",
    "print('Mínimo:',pesos.min())"
   ]
  },
  {
   "cell_type": "code",
   "execution_count": 7,
   "metadata": {},
   "outputs": [
    {
     "name": "stdout",
     "output_type": "stream",
     "text": [
      "[ 50.          50.52631579  51.05263158  51.57894737  52.10526316\n",
      "  52.63157895  53.15789474  53.68421053  54.21052632  54.73684211\n",
      "  55.26315789  55.78947368  56.31578947  56.84210526  57.36842105\n",
      "  57.89473684  58.42105263  58.94736842  59.47368421  60.        ]\n"
     ]
    }
   ],
   "source": [
    "pesos = np.linspace(50,60,num=20)\n",
    "print(pesos)"
   ]
  },
  {
   "cell_type": "code",
   "execution_count": 12,
   "metadata": {},
   "outputs": [
    {
     "name": "stdout",
     "output_type": "stream",
     "text": [
      "[  1.           2.52631579   4.05263158   5.57894737   7.10526316\n",
      "   8.63157895  10.15789474  11.68421053  13.21052632  14.73684211\n",
      "  16.26315789  17.78947368  19.31578947  20.84210526  22.36842105\n",
      "  23.89473684  25.42105263  26.94736842  28.47368421  30.        ]\n"
     ]
    }
   ],
   "source": [
    "valores = np.linspace(1,30,num=20)\n",
    "print(valores)"
   ]
  },
  {
   "cell_type": "code",
   "execution_count": 9,
   "metadata": {},
   "outputs": [
    {
     "name": "stdout",
     "output_type": "stream",
     "text": [
      "[ 49.  48.  47.  46.  45.  44.  43.  42.  41.  40.  39.  38.  37.  36.  35.\n",
      "  34.  33.  32.  31.  30.]\n"
     ]
    }
   ],
   "source": [
    "print(pesos - valores)"
   ]
  },
  {
   "cell_type": "code",
   "execution_count": 10,
   "metadata": {},
   "outputs": [
    {
     "name": "stdout",
     "output_type": "stream",
     "text": [
      "[   50.           127.64542936   206.89750693   287.75623269   370.22160665\n",
      "   454.29362881   539.97229917   627.25761773   716.14958449   806.64819945\n",
      "   898.7534626    992.46537396  1087.78393352  1184.70914127  1283.24099723\n",
      "  1383.37950139  1485.12465374  1588.47645429  1693.43490305  1800.        ]\n"
     ]
    }
   ],
   "source": [
    "print(pesos * valores)"
   ]
  },
  {
   "cell_type": "code",
   "execution_count": 11,
   "metadata": {},
   "outputs": [
    {
     "name": "stdout",
     "output_type": "stream",
     "text": [
      "[ 49.  48.  47.  46.  45.  44.  43.  42.  41.  40.  39.  38.  37.  36.  35.\n",
      "  34.  33.  32.  31.  30.]\n"
     ]
    }
   ],
   "source": [
    "pesos -= valores\n",
    "print(pesos)"
   ]
  },
  {
   "cell_type": "code",
   "execution_count": 14,
   "metadata": {},
   "outputs": [
    {
     "data": {
      "text/plain": [
       "790.0"
      ]
     },
     "execution_count": 14,
     "metadata": {},
     "output_type": "execute_result"
    }
   ],
   "source": [
    "np.sum(pesos)"
   ]
  },
  {
   "cell_type": "code",
   "execution_count": 15,
   "metadata": {},
   "outputs": [
    {
     "data": {
      "text/plain": [
       "5.7662812973353983"
      ]
     },
     "execution_count": 15,
     "metadata": {},
     "output_type": "execute_result"
    }
   ],
   "source": [
    "np.std(pesos)"
   ]
  },
  {
   "cell_type": "code",
   "execution_count": 20,
   "metadata": {},
   "outputs": [
    {
     "data": {
      "text/plain": [
       "0.1249144024931208"
      ]
     },
     "execution_count": 20,
     "metadata": {},
     "output_type": "execute_result"
    }
   ],
   "source": [
    "np.random.rand()"
   ]
  },
  {
   "cell_type": "code",
   "execution_count": 37,
   "metadata": {},
   "outputs": [
    {
     "name": "stdout",
     "output_type": "stream",
     "text": [
      "Tipo: <class 'numpy.ndarray'>\n",
      "[[ 0.17152166  0.68527698]\n",
      " [ 0.83389686  0.30696622]]\n"
     ]
    }
   ],
   "source": [
    "vetor = np.random.rand(2,2)\n",
    "print('Tipo:',type(vetor))\n",
    "print(vetor)\n"
   ]
  },
  {
   "cell_type": "code",
   "execution_count": 58,
   "metadata": {},
   "outputs": [
    {
     "name": "stdout",
     "output_type": "stream",
     "text": [
      "Primeiro elemento, segunda linha: 0.833896862636\n",
      "Primeira linha: [0.17152165622510307, 0.68527698169731255]\n",
      "Segunda coluna: [0.68527698169731255, 0.30696621967223781]\n"
     ]
    }
   ],
   "source": [
    "print('Primeiro elemento, segunda linha:',vetor[1,0])\n",
    "# Navegando pela primeira linha\n",
    "print('Primeira linha:',[vetor[0,x] for x in range(vetor.shape[0])])\n",
    "# Navegando pela segund coluna\n",
    "print('Segunda coluna:',[vetor[x,1] for x in range(vetor.shape[1])])\n"
   ]
  },
  {
   "cell_type": "code",
   "execution_count": 61,
   "metadata": {},
   "outputs": [
    {
     "name": "stdout",
     "output_type": "stream",
     "text": [
      "(2, 2)\n",
      "2\n",
      "2\n"
     ]
    }
   ],
   "source": [
    "print(vetor.shape)\n",
    "print(vetor.shape[0])\n",
    "print(vetor.shape[1])"
   ]
  },
  {
   "cell_type": "code",
   "execution_count": 34,
   "metadata": {},
   "outputs": [
    {
     "data": {
      "text/plain": [
       "0.17152165622510307"
      ]
     },
     "execution_count": 34,
     "metadata": {},
     "output_type": "execute_result"
    }
   ],
   "source": [
    "np.random.rand()"
   ]
  },
  {
   "cell_type": "code",
   "execution_count": 36,
   "metadata": {},
   "outputs": [
    {
     "name": "stdout",
     "output_type": "stream",
     "text": [
      "Primeiro: 0.5163986277024462\n",
      "Segundo: 0.5706675868681398\n",
      "Terceiro: 0.028474226478096942\n"
     ]
    }
   ],
   "source": [
    "np.random.seed(101)\n",
    "print('Primeiro:',np.random.rand())\n",
    "print('Segundo:',np.random.rand())\n",
    "print('Terceiro:',np.random.rand())"
   ]
  },
  {
   "cell_type": "code",
   "execution_count": 63,
   "metadata": {},
   "outputs": [
    {
     "name": "stdout",
     "output_type": "stream",
     "text": [
      "[ 0.85734924  0.08707633 -0.39746171  1.26168798  0.43333132 -0.1366137\n",
      "  0.88213984 -0.37781124  0.1466388   1.26912178  0.30788108 -0.60680554\n",
      "  0.91931842 -1.1961184   0.50894522 -0.84843996  2.01079346 -0.1376097\n",
      " -0.59826923  0.02823374]\n"
     ]
    }
   ],
   "source": [
    "seq = np.random.randn(20)\n",
    "print(seq)"
   ]
  },
  {
   "cell_type": "code",
   "execution_count": null,
   "metadata": {
    "collapsed": true
   },
   "outputs": [],
   "source": []
  }
 ],
 "metadata": {
  "kernelspec": {
   "display_name": "Python 3",
   "language": "python",
   "name": "python3"
  },
  "language_info": {
   "codemirror_mode": {
    "name": "ipython",
    "version": 3
   },
   "file_extension": ".py",
   "mimetype": "text/x-python",
   "name": "python",
   "nbconvert_exporter": "python",
   "pygments_lexer": "ipython3",
   "version": "3.6.2"
  }
 },
 "nbformat": 4,
 "nbformat_minor": 2
}
