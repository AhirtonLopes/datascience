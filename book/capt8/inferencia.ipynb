{
 "cells": [
  {
   "cell_type": "code",
   "execution_count": 2,
   "metadata": {
    "collapsed": true
   },
   "outputs": [],
   "source": [
    "import numpy as np\n",
    "import matplotlib.pyplot as plt\n",
    "import matplotlib.mlab as mlab\n",
    "import scipy.stats as stats\n",
    "import math\n",
    "%matplotlib inline"
   ]
  },
  {
   "cell_type": "code",
   "execution_count": 14,
   "metadata": {
    "collapsed": true
   },
   "outputs": [],
   "source": [
    "amostra = np.array([3, 2, 2, 2, 1, 2, 2, 2, 2, 3, 1, 2, 1, 2, 2, 0, 1, 2, 2, 1, 2, 1, 1,\n",
    "       2, 2, 3, 2, 1, 2, 3, 4, 1, 1, 2, 1, 1, 1, 2, 3, 0, 2, 2, 1, 2, 3, 3,\n",
    "       2, 2, 3, 2])"
   ]
  },
  {
   "cell_type": "code",
   "execution_count": 15,
   "metadata": {},
   "outputs": [
    {
     "data": {
      "text/plain": [
       "array([3, 2, 2, 2, 1, 2, 2, 2, 2, 3, 1, 2, 1, 2, 2, 0, 1, 2, 2, 1, 2, 1, 1,\n",
       "       2, 2, 3, 2, 1, 2, 3, 4, 1, 1, 2, 1, 1, 1, 2, 3, 0, 2, 2, 1, 2, 3, 3,\n",
       "       2, 2, 3, 2])"
      ]
     },
     "execution_count": 15,
     "metadata": {},
     "output_type": "execute_result"
    }
   ],
   "source": [
    "amostra"
   ]
  },
  {
   "cell_type": "code",
   "execution_count": 16,
   "metadata": {},
   "outputs": [
    {
     "name": "stdout",
     "output_type": "stream",
     "text": [
      "Média: 1.84\n",
      "Desvio amostral: 0.817162836919\n"
     ]
    }
   ],
   "source": [
    "print('Média:',amostra.mean())\n",
    "print('Desvio amostral:',amostra.std(ddof=1))"
   ]
  },
  {
   "cell_type": "code",
   "execution_count": 34,
   "metadata": {},
   "outputs": [
    {
     "name": "stdout",
     "output_type": "stream",
     "text": [
      "z-score 1.64485362695\n"
     ]
    }
   ],
   "source": [
    "print('z-score',stats.norm.ppf(.95))"
   ]
  },
  {
   "cell_type": "code",
   "execution_count": 23,
   "metadata": {
    "collapsed": true
   },
   "outputs": [],
   "source": [
    "# Plot área 0,025 ou zscore 1,645"
   ]
  },
  {
   "cell_type": "code",
   "execution_count": 33,
   "metadata": {},
   "outputs": [
    {
     "data": {
      "image/png": "[encoded data removed]",
      "text/plain": [
       "<matplotlib.figure.Figure at 0x7f1e59d92a20>"
      ]
     },
     "metadata": {},
     "output_type": "display_data"
    }
   ],
   "source": [
    "mu = 0\n",
    "variance = 1\n",
    "sigma = math.sqrt(variance)\n",
    "x = np.linspace(mu - 3*sigma, mu + 3*sigma, 100)\n",
    "plt.plot(x,mlab.normpdf(x, mu, sigma))\n",
    "y = mlab.normpdf(x,mu,sigma)\n",
    "zc1 = mlab.normpdf(-1.645,0,sigma)\n",
    "zc2 = mlab.normpdf(1.645,0,sigma)\n",
    "plt.plot([0,0],[0,0.4])\n",
    "plt.plot([-1.645,-1.645],[0,zc1],'r-')\n",
    "plt.plot([1.645,1.645],[0,zc2],'b-')\n",
    "\n",
    "plt.show()"
   ]
  },
  {
   "cell_type": "code",
   "execution_count": 18,
   "metadata": {},
   "outputs": [
    {
     "data": {
      "text/plain": [
       "array([2, 1, 1, 3, 0, 1, 2, 1, 1, 2, 2, 0])"
      ]
     },
     "execution_count": 18,
     "metadata": {},
     "output_type": "execute_result"
    }
   ],
   "source": [
    "# Agora T de Student\n",
    "nova = np.array([2, 1, 1, 3, 0, 1, 2, 1, 1, 2, 2, 0])\n",
    "nova"
   ]
  },
  {
   "cell_type": "code",
   "execution_count": 22,
   "metadata": {},
   "outputs": [
    {
     "name": "stdout",
     "output_type": "stream",
     "text": [
      "Média: 1.33333333333 Desvio amostral: 0.887625364599\n"
     ]
    }
   ],
   "source": [
    "print('Média:',nova.mean(),'Desvio amostral:',nova.std(ddof=1))"
   ]
  },
  {
   "cell_type": "code",
   "execution_count": null,
   "metadata": {
    "collapsed": true
   },
   "outputs": [],
   "source": []
  },
  {
   "cell_type": "code",
   "execution_count": 44,
   "metadata": {},
   "outputs": [
    {
     "name": "stdout",
     "output_type": "stream",
     "text": [
      "t-score -2.20098516008\n"
     ]
    }
   ],
   "source": [
    "print('t-score',stats.t.ppf(0.05/2, 11))"
   ]
  },
  {
   "cell_type": "code",
   "execution_count": 50,
   "metadata": {},
   "outputs": [
    {
     "name": "stdout",
     "output_type": "stream",
     "text": [
      "2.20098516008\n"
     ]
    }
   ],
   "source": [
    "print(abs(stats.t.ppf(0.05/2, df=11)))"
   ]
  },
  {
   "cell_type": "code",
   "execution_count": 72,
   "metadata": {},
   "outputs": [
    {
     "data": {
      "image/png": "[encoded data removed]",
      "text/plain": [
       "<matplotlib.figure.Figure at 0x7f1e569292b0>"
      ]
     },
     "metadata": {},
     "output_type": "display_data"
    }
   ],
   "source": [
    "plt.figure()\n",
    "xs = np.linspace(-5,5,1000)\n",
    "plt.plot(xs, stats.t.pdf(xs,11), 'k')\n",
    "tc = abs(stats.t.ppf(0.05/2, df=11))\n",
    "tc1 = stats.t.pdf(-tc,df=11)\n",
    "tc2 = stats.t.pdf(tc,df=11)\n",
    "tm = stats.t.pdf(0.0,df=11)\n",
    "plt.plot([0,0],[0,tm])\n",
    "plt.plot([-tc,-tc],[0,tc1],'r-')\n",
    "plt.plot([tc,tc],[0,tc2],'b-')\n",
    "\n",
    "plt.show()"
   ]
  },
  {
   "cell_type": "code",
   "execution_count": 23,
   "metadata": {},
   "outputs": [
    {
     "data": {
      "text/plain": [
       "-2.2009851600829489"
      ]
     },
     "execution_count": 23,
     "metadata": {},
     "output_type": "execute_result"
    }
   ],
   "source": [
    "stats.t.ppf(0.05/2, df=11)"
   ]
  },
  {
   "cell_type": "code",
   "execution_count": 70,
   "metadata": {
    "collapsed": true
   },
   "outputs": [],
   "source": [
    "# Qui-quadrado"
   ]
  },
  {
   "cell_type": "code",
   "execution_count": 90,
   "metadata": {
    "collapsed": true
   },
   "outputs": [],
   "source": [
    "#x = np.linspace(0, 5, 50)\n",
    "#plt.plot(x, stats.chi2.pdf(x, 49))\n"
   ]
  },
  {
   "cell_type": "code",
   "execution_count": 24,
   "metadata": {},
   "outputs": [
    {
     "name": "stdout",
     "output_type": "stream",
     "text": [
      "X esq 0.975\n",
      "X dir 0.025000000000000022\n",
      "Val Prob Esq 31.5549164627\n",
      "Val Prob Dir 70.2224135664\n",
      "Desvio 0.817162836919\n",
      "Limite Esq 0.6826039096396304\n",
      "Limite Dir 1.0182938717196643\n",
      "Desvio válido\n"
     ]
    }
   ],
   "source": [
    "# Xc esquerdo:\n",
    "xesquerdo = (1 + 0.95) / 2\n",
    "print('X esq',xesquerdo)\n",
    "\n",
    "# Xc direito:\n",
    "xdireito = (1 - 0.95) / 2\n",
    "print('X dir',xdireito)\n",
    "\n",
    "# Valor da probabilidade esquerda (df = graus de liberdade):\n",
    "vpe = stats.chi2.isf(q=xesquerdo, df=49)\n",
    "print('Val Prob Esq', vpe)\n",
    "\n",
    "# Valor da probabilidade direita:\n",
    "vpd = stats.chi2.isf(q=xdireito, df=49)\n",
    "print('Val Prob Dir', vpd)\n",
    "\n",
    "# Desvio padrão da amostra:\n",
    "dp = amostra.std(ddof=1)\n",
    "print('Desvio',dp)\n",
    "\n",
    "# Limite inferior (esquerdo):\n",
    "me = math.sqrt((49 * dp**2)/vpd)\n",
    "print('Limite Esq',me)\n",
    "\n",
    "# Limite superior (direito):\n",
    "md = math.sqrt((49 * dp**2)/vpe)\n",
    "print('Limite Dir',md)\n",
    "\n",
    "# Testando: \n",
    "if dp <= md and dp >= me:\n",
    "    print('Desvio válido')"
   ]
  },
  {
   "cell_type": "markdown",
   "metadata": {},
   "source": [
    "## Amostras de queijo"
   ]
  },
  {
   "cell_type": "code",
   "execution_count": 26,
   "metadata": {
    "collapsed": true
   },
   "outputs": [],
   "source": [
    "lote = np.array([58.5, 60.1, 60.02, 57.4, 60.3, 55.4, 58.2, 59.8, 54.3, 60.4, 60.7, 60.1, 55.6, 57.1, 60.0, \n",
    "                 60.7, 60.3, 56.7,  57.9, 59.01])"
   ]
  },
  {
   "cell_type": "code",
   "execution_count": 27,
   "metadata": {},
   "outputs": [
    {
     "name": "stdout",
     "output_type": "stream",
     "text": [
      "20\n"
     ]
    }
   ],
   "source": [
    "print(len(lote))"
   ]
  },
  {
   "cell_type": "code",
   "execution_count": 28,
   "metadata": {},
   "outputs": [
    {
     "name": "stdout",
     "output_type": "stream",
     "text": [
      "Média 58.6265 Desvio 1.96817381293\n"
     ]
    }
   ],
   "source": [
    "print('Média',lote.mean(),'Desvio',lote.std(ddof=1))"
   ]
  },
  {
   "cell_type": "code",
   "execution_count": 21,
   "metadata": {},
   "outputs": [
    {
     "name": "stdout",
     "output_type": "stream",
     "text": [
      "valor crítico 1.72913281152\n"
     ]
    }
   ],
   "source": [
    "vc = abs(stats.t.ppf(0.05, df=19))\n",
    "print('valor crítico',vc)"
   ]
  },
  {
   "cell_type": "code",
   "execution_count": 22,
   "metadata": {},
   "outputs": [
    {
     "data": {
      "image/png": "[encoded data removed]",
      "text/plain": [
       "<matplotlib.figure.Figure at 0x7f90eda0ea90>"
      ]
     },
     "metadata": {},
     "output_type": "display_data"
    }
   ],
   "source": [
    "df = 19 # graus de liberdade\n",
    "plt.figure()\n",
    "xs = np.linspace(-5,5,1000)\n",
    "plt.plot(xs, stats.t.pdf(xs,df), 'k')\n",
    "tc = abs(stats.t.ppf(0.05, df=df))\n",
    "tc1 = stats.t.pdf(-tc,df=df)\n",
    "tm = stats.t.pdf(0.0,df=df)\n",
    "plt.plot([0,0],[0,tm])\n",
    "plt.plot([-tc,-tc],[0,tc1],'r-')\n",
    "\n",
    "plt.show()"
   ]
  },
  {
   "cell_type": "code",
   "execution_count": 32,
   "metadata": {},
   "outputs": [
    {
     "name": "stdout",
     "output_type": "stream",
     "text": [
      "t_score -3.1211782185934647\n",
      "p_value 0.00627482624083\n"
     ]
    }
   ],
   "source": [
    "t_score = (58.66 - 60) / (1.92 / math.sqrt(20))\n",
    "print('t_score',t_score)\n",
    "p_value = stats.t.pdf(t_score,df=19)\n",
    "print('p_value',p_value)"
   ]
  },
  {
   "cell_type": "code",
   "execution_count": 24,
   "metadata": {},
   "outputs": [
    {
     "data": {
      "text/plain": [
       "<function matplotlib.pyplot.show>"
      ]
     },
     "execution_count": 24,
     "metadata": {},
     "output_type": "execute_result"
    },
    {
     "data": {
      "image/png": "[encoded data removed]",
      "text/plain": [
       "<matplotlib.figure.Figure at 0x7f90eda774e0>"
      ]
     },
     "metadata": {},
     "output_type": "display_data"
    }
   ],
   "source": [
    "df = 19 # graus de liberdade\n",
    "plt.figure()\n",
    "xs = np.linspace(-5,5,1000)\n",
    "plt.plot(xs, stats.t.pdf(xs,df), 'k')\n",
    "plt.show"
   ]
  },
  {
   "cell_type": "code",
   "execution_count": 6,
   "metadata": {
    "collapsed": true
   },
   "outputs": [],
   "source": [
    "# Teste bicaudal\n",
    "amostra = np.array([95.88,101.2,102.04,100.1,98.7,96.18,97.53,100.79,98.52,100.08,100.45,99.19,\n",
    "                    99.91,101.01,98.78,101.02,98.78,100.18,100.94,97.12])"
   ]
  },
  {
   "cell_type": "code",
   "execution_count": 7,
   "metadata": {},
   "outputs": [
    {
     "name": "stdout",
     "output_type": "stream",
     "text": [
      "média 99.42 desvio 1.71949502991 n 20 gl 19\n"
     ]
    }
   ],
   "source": [
    "mediah0 = 100 # média da Hipótese nula 100 mg\n",
    "media = amostra.mean()\n",
    "desvio = amostra.std(ddof=1)\n",
    "n = len(amostra)\n",
    "gl = n - 1\n",
    "print('média',media,'desvio',desvio,'n',n,'gl',gl)"
   ]
  },
  {
   "cell_type": "code",
   "execution_count": 8,
   "metadata": {},
   "outputs": [
    {
     "name": "stdout",
     "output_type": "stream",
     "text": [
      "T crítico 1 -2.09302405441 T crítico 2 2.09302405441\n",
      "tc1 0.0494481421318 tc2 0.0494481421318\n",
      "t_observado -1.50848871836\n",
      "a1 0.12703656733 a2 0.12703656733\n",
      "Não rejeitamos a hipótese nula\n",
      "alfa 0.05\n",
      "valor_p 0.147878761659\n",
      "Não rejeitamos a hipótese nula com base no valor_p\n"
     ]
    },
    {
     "data": {
      "image/png": "[encoded data removed]",
      "text/plain": [
       "<matplotlib.figure.Figure at 0x7f4bdb38a1d0>"
      ]
     },
     "metadata": {},
     "output_type": "display_data"
    }
   ],
   "source": [
    "alfa = 0.05\n",
    "plt.figure()\n",
    "xs = np.linspace(-5,5,1000)\n",
    "plt.plot(xs, stats.t.pdf(xs,gl), 'k')\n",
    "tc = abs(stats.t.ppf(0.05/2, df=gl))\n",
    "print('T crítico 1',-tc,'T crítico 2',tc)\n",
    "tc1 = stats.t.pdf(-tc,df=gl)\n",
    "tc2 = stats.t.pdf(tc,df=gl)\n",
    "print('tc1',tc1, 'tc2',tc2)\n",
    "tm = stats.t.pdf(0.0,df=gl)\n",
    "plt.plot([0,0],[0,tm])\n",
    "plt.plot([-tc,-tc],[0,tc1],'r-')\n",
    "plt.plot([tc,tc],[0,tc2],'b-')\n",
    "t_observado = (media - mediah0) / (desvio / math.sqrt(n))\n",
    "print('t_observado',t_observado)\n",
    "a1 = stats.t.pdf(t_observado,df=gl)\n",
    "a2 = a1 = stats.t.pdf(-t_observado,df=gl)\n",
    "print('a1',a1,'a2',a2)\n",
    "plt.plot([-t_observado,-t_observado],[0,a1],'k:')\n",
    "plt.plot([t_observado,t_observado],[0,a2],'k:')\n",
    "if t_observado > (-tc) and t_observado < tc:\n",
    "    print('Não rejeitamos a hipótese nula')\n",
    "else:\n",
    "    print('Rejeitamos a hipótese nula')\n",
    "print('alfa',alfa)\n",
    "valor_p = stats.t.sf(np.abs(t_observado), n-1)*2\n",
    "print('valor_p',valor_p)\n",
    "if valor_p <= alfa:\n",
    "    print('Rejeitamos a hipótese nula com base no valor_p')\n",
    "else:\n",
    "    print('Não rejeitamos a hipótese nula com base no valor_p')\n",
    "\n",
    "plt.show()"
   ]
  },
  {
   "cell_type": "code",
   "execution_count": null,
   "metadata": {
    "collapsed": true
   },
   "outputs": [],
   "source": []
  }
 ],
 "metadata": {
  "kernelspec": {
   "display_name": "Python 3",
   "language": "python",
   "name": "python3"
  },
  "language_info": {
   "codemirror_mode": {
    "name": "ipython",
    "version": 3
   },
   "file_extension": ".py",
   "mimetype": "text/x-python",
   "name": "python",
   "nbconvert_exporter": "python",
   "pygments_lexer": "ipython3",
   "version": "3.6.3"
  }
 },
 "nbformat": 4,
 "nbformat_minor": 2
}
