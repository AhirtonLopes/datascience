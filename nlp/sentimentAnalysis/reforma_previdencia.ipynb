{
 "cells": [
  {
   "cell_type": "markdown",
   "metadata": {},
   "source": [
    "# Sentimentos de tweets quando à Reforma da Previdência"
   ]
  },
  {
   "cell_type": "code",
   "execution_count": 1,
   "metadata": {},
   "outputs": [
    {
     "name": "stderr",
     "output_type": "stream",
     "text": [
      "\n",
      "Attaching package: ‘plyr’\n",
      "\n",
      "The following object is masked from ‘package:twitteR’:\n",
      "\n",
      "    id\n",
      "\n",
      "\n",
      "Attaching package: ‘dplyr’\n",
      "\n",
      "The following objects are masked from ‘package:plyr’:\n",
      "\n",
      "    arrange, count, desc, failwith, id, mutate, rename, summarise,\n",
      "    summarize\n",
      "\n",
      "The following objects are masked from ‘package:twitteR’:\n",
      "\n",
      "    id, location\n",
      "\n",
      "The following objects are masked from ‘package:stats’:\n",
      "\n",
      "    filter, lag\n",
      "\n",
      "The following objects are masked from ‘package:base’:\n",
      "\n",
      "    intersect, setdiff, setequal, union\n",
      "\n"
     ]
    }
   ],
   "source": [
    "library(twitteR)\n",
    "library(ROAuth)\n",
    "library(httr)\n",
    "library(plyr)\n",
    "library(stringr)\n",
    "library(tidytext)\n",
    "library(readr)\n",
    "library(dplyr)\n",
    "\n",
    "\n"
   ]
  },
  {
   "cell_type": "code",
   "execution_count": 2,
   "metadata": {},
   "outputs": [
    {
     "name": "stdout",
     "output_type": "stream",
     "text": [
      "[1] \"Using direct authentication\"\n"
     ]
    }
   ],
   "source": [
    "# parameters: api_key,api_secret,access_token,access_token_secret\n",
    "setup_twitter_oauth('1', '2', \n",
    "                    '3', \n",
    "                    '4')"
   ]
  },
  {
   "cell_type": "code",
   "execution_count": 3,
   "metadata": {},
   "outputs": [
    {
     "name": "stderr",
     "output_type": "stream",
     "text": [
      "Warning message in doRppAPICall(\"search/tweets\", n, params = params, retryOnRateLimit = retryOnRateLimit, :\n",
      "“5000 tweets were requested but the API can only return 1359”"
     ]
    }
   ],
   "source": [
    "tweetsrp <- searchTwitter('#reformaDaPrevidencia', n=5000, lang='pt')"
   ]
  },
  {
   "cell_type": "code",
   "execution_count": 4,
   "metadata": {},
   "outputs": [
    {
     "data": {
      "text/plain": [
       "[[1]]\n",
       "[1] \"GeraldoSiFi30: Ok, ok... a #Tuiuti foi o máximo neste #carnaval2018 ! Mas agora é vida real: dia 20 fev,  \\\" Vampirão\\\" vai colocar… https://t.co/On7tqxc8Rc\"\n",
       "\n",
       "[[2]]\n",
       "[1] \"LopesAnnamaria: RT @Fernanreira: Primeiro receba dos grandes devedores.\\n#Reformadaprevidencia não. https://t.co/e1kdGqfTZz\"\n",
       "\n",
       "[[3]]\n",
       "[1] \"GilPereiraXavi1: RT @Fernanreira: Primeiro receba dos grandes devedores.\\n#Reformadaprevidencia não. https://t.co/e1kdGqfTZz\"\n",
       "\n",
       "[[4]]\n",
       "[1] \"DiasDougfotos: @DeniseAlvesBR @Boatosorg BOA #ENTREVISTA DE #BOLSONARO para #RedeTV \\n&gt; Não queremos dar carta branca para… https://t.co/LoEfbyK9on\"\n",
       "\n",
       "[[5]]\n",
       "[1] \"DiasDougfotos: @chilliperod @laurojardim BOA #ENTREVISTA DE #BOLSONARO para #RedeTV\\n &gt; Não queremos dar carta branca para… https://t.co/JYe6MnlKlD\"\n",
       "\n",
       "[[6]]\n",
       "[1] \"cidcleybuarque: RT @tvcamara: O que pode mudar na aposentadoria dos funcionários públicos com a #ReformaDaPrevidência? Fizemos uma matéria especial sobre e…\"\n"
      ]
     },
     "metadata": {},
     "output_type": "display_data"
    }
   ],
   "source": [
    "head(tweetsrp)"
   ]
  },
  {
   "cell_type": "code",
   "execution_count": 5,
   "metadata": {},
   "outputs": [],
   "source": [
    "df <- twListToDF(tweetsrp)\n"
   ]
  },
  {
   "cell_type": "code",
   "execution_count": 6,
   "metadata": {},
   "outputs": [
    {
     "data": {
      "text/html": [
       "<table>\n",
       "<thead><tr><th scope=col>text</th><th scope=col>favorited</th><th scope=col>favoriteCount</th><th scope=col>replyToSN</th><th scope=col>created</th><th scope=col>truncated</th><th scope=col>replyToSID</th><th scope=col>id</th><th scope=col>replyToUID</th><th scope=col>statusSource</th><th scope=col>screenName</th><th scope=col>retweetCount</th><th scope=col>isRetweet</th><th scope=col>retweeted</th><th scope=col>longitude</th><th scope=col>latitude</th></tr></thead>\n",
       "<tbody>\n",
       "\t<tr><td><span style=white-space:pre-wrap>Ok, ok... a #Tuiuti foi o máximo neste #carnaval2018 ! Mas agora é vida real: dia 20 fev,  \" Vampirão\" vai colocar… https://t.co/On7tqxc8Rc </span></td><td>FALSE                                                                                                                                                                               </td><td>1                                                                                                                                                                                   </td><td><span style=white-space:pre-wrap>NA           </span>                                                                                                                               </td><td>2018-02-15 07:48:08                                                                                                                                                                 </td><td> TRUE                                                                                                                                                                               </td><td><span style=white-space:pre-wrap>NA                </span>                                                                                                                          </td><td>964043637683310592                                                                                                                                                                  </td><td><span style=white-space:pre-wrap>NA       </span>                                                                                                                                   </td><td>&lt;a href=\"http://twitter.com/download/android\" rel=\"nofollow\"&gt;Twitter for Android&lt;/a&gt;                                                                                    </td><td><span style=white-space:pre-wrap>GeraldoSiFi30  </span>                                                                                                                             </td><td>0                                                                                                                                                                                   </td><td>FALSE                                                                                                                                                                               </td><td>FALSE                                                                                                                                                                               </td><td>NA                                                                                                                                                                                  </td><td>NA                                                                                                                                                                                  </td></tr>\n",
       "\t<tr><td><span style=white-space:pre-wrap>RT @Fernanreira: Primeiro receba dos grandes devedores.\n",
       "#Reformadaprevidencia não. https://t.co/e1kdGqfTZz                                 </span></td><td>FALSE                                                                                                                                                                               </td><td>0                                                                                                                                                                                   </td><td><span style=white-space:pre-wrap>NA           </span>                                                                                                                               </td><td>2018-02-15 04:12:05                                                                                                                                                                 </td><td>FALSE                                                                                                                                                                               </td><td><span style=white-space:pre-wrap>NA                </span>                                                                                                                          </td><td>963989267058954240                                                                                                                                                                  </td><td><span style=white-space:pre-wrap>NA       </span>                                                                                                                                   </td><td><span style=white-space:pre-wrap>&lt;a href=\"http://twitter.com/download/iphone\" rel=\"nofollow\"&gt;Twitter for iPhone&lt;/a&gt;  </span>                                            </td><td>LopesAnnamaria                                                                                                                                                                      </td><td>5                                                                                                                                                                                   </td><td> TRUE                                                                                                                                                                               </td><td>FALSE                                                                                                                                                                               </td><td>NA                                                                                                                                                                                  </td><td>NA                                                                                                                                                                                  </td></tr>\n",
       "\t<tr><td><span style=white-space:pre-wrap>RT @Fernanreira: Primeiro receba dos grandes devedores.\n",
       "#Reformadaprevidencia não. https://t.co/e1kdGqfTZz                                 </span></td><td>FALSE                                                                                                                                                                               </td><td>0                                                                                                                                                                                   </td><td><span style=white-space:pre-wrap>NA           </span>                                                                                                                               </td><td>2018-02-15 02:59:38                                                                                                                                                                 </td><td>FALSE                                                                                                                                                                               </td><td><span style=white-space:pre-wrap>NA                </span>                                                                                                                          </td><td>963971033689673729                                                                                                                                                                  </td><td><span style=white-space:pre-wrap>NA       </span>                                                                                                                                   </td><td><span style=white-space:pre-wrap>&lt;a href=\"http://twitter.com\" rel=\"nofollow\"&gt;Twitter Web Client&lt;/a&gt;                  </span>                                            </td><td>GilPereiraXavi1                                                                                                                                                                     </td><td>5                                                                                                                                                                                   </td><td> TRUE                                                                                                                                                                               </td><td>FALSE                                                                                                                                                                               </td><td>NA                                                                                                                                                                                  </td><td>NA                                                                                                                                                                                  </td></tr>\n",
       "\t<tr><td><span style=white-space:pre-wrap>@DeniseAlvesBR @Boatosorg BOA #ENTREVISTA DE #BOLSONARO para #RedeTV \n",
       "&amp;gt; Não queremos dar carta branca para… https://t.co/LoEfbyK9on     </span></td><td>FALSE                                                                                                                                                                                   </td><td>1                                                                                                                                                                                       </td><td>DeniseAlvesBR                                                                                                                                                                           </td><td>2018-02-15 01:59:26                                                                                                                                                                     </td><td> TRUE                                                                                                                                                                                   </td><td>963941847981797376                                                                                                                                                                      </td><td>963955880977985536                                                                                                                                                                      </td><td>257140427                                                                                                                                                                               </td><td><span style=white-space:pre-wrap>&lt;a href=\"http://twitter.com\" rel=\"nofollow\"&gt;Twitter Web Client&lt;/a&gt;                  </span>                                                </td><td><span style=white-space:pre-wrap>DiasDougfotos  </span>                                                                                                                                 </td><td>0                                                                                                                                                                                       </td><td>FALSE                                                                                                                                                                                   </td><td>FALSE                                                                                                                                                                                   </td><td>NA                                                                                                                                                                                      </td><td>NA                                                                                                                                                                                      </td></tr>\n",
       "\t<tr><td><span style=white-space:pre-wrap>@chilliperod @laurojardim BOA #ENTREVISTA DE #BOLSONARO para #RedeTV\n",
       " &amp;gt; Não queremos dar carta branca para… https://t.co/JYe6MnlKlD     </span></td><td>FALSE                                                                                                                                                                                   </td><td>2                                                                                                                                                                                       </td><td><span style=white-space:pre-wrap>chilliperod  </span>                                                                                                                                   </td><td>2018-02-15 01:54:08                                                                                                                                                                     </td><td> TRUE                                                                                                                                                                                   </td><td>963071264482119681                                                                                                                                                                      </td><td>963954549978476544                                                                                                                                                                      </td><td>248786695                                                                                                                                                                               </td><td><span style=white-space:pre-wrap>&lt;a href=\"http://twitter.com\" rel=\"nofollow\"&gt;Twitter Web Client&lt;/a&gt;                  </span>                                                </td><td><span style=white-space:pre-wrap>DiasDougfotos  </span>                                                                                                                                 </td><td>0                                                                                                                                                                                       </td><td>FALSE                                                                                                                                                                                   </td><td>FALSE                                                                                                                                                                                   </td><td>NA                                                                                                                                                                                      </td><td>NA                                                                                                                                                                                      </td></tr>\n",
       "\t<tr><td>RT @tvcamara: O que pode mudar na aposentadoria dos funcionários públicos com a #ReformaDaPrevidência? Fizemos uma matéria especial sobre e…</td><td>FALSE                                                                                                                                       </td><td>0                                                                                                                                           </td><td><span style=white-space:pre-wrap>NA           </span>                                                                                       </td><td>2018-02-15 01:48:46                                                                                                                         </td><td>FALSE                                                                                                                                       </td><td><span style=white-space:pre-wrap>NA                </span>                                                                                  </td><td>963953200104689664                                                                                                                          </td><td><span style=white-space:pre-wrap>NA       </span>                                                                                           </td><td><span style=white-space:pre-wrap>&lt;a href=\"http://twitter.com/download/iphone\" rel=\"nofollow\"&gt;Twitter for iPhone&lt;/a&gt;  </span>    </td><td>cidcleybuarque                                                                                                                              </td><td>9                                                                                                                                           </td><td> TRUE                                                                                                                                       </td><td>FALSE                                                                                                                                       </td><td>NA                                                                                                                                          </td><td>NA                                                                                                                                          </td></tr>\n",
       "</tbody>\n",
       "</table>\n"
      ],
      "text/latex": [
       "\\begin{tabular}{r|llllllllllllllll}\n",
       " text & favorited & favoriteCount & replyToSN & created & truncated & replyToSID & id & replyToUID & statusSource & screenName & retweetCount & isRetweet & retweeted & longitude & latitude\\\\\n",
       "\\hline\n",
       "\t Ok, ok... a \\#Tuiuti foi o máximo neste \\#carnaval2018 ! Mas agora é vida real: dia 20 fev,  \" Vampirão\" vai colocar… https://t.co/On7tqxc8Rc  & FALSE                                                                                                                                            & 1                                                                                                                                                & NA                                                                                                                                               & 2018-02-15 07:48:08                                                                                                                              &  TRUE                                                                                                                                            & NA                                                                                                                                               & 964043637683310592                                                                                                                               & NA                                                                                                                                               & <a href=\"http://twitter.com/download/android\" rel=\"nofollow\">Twitter for Android</a>                                                             & GeraldoSiFi30                                                                                                                                    & 0                                                                                                                                                & FALSE                                                                                                                                            & FALSE                                                                                                                                            & NA                                                                                                                                               & NA                                                                                                                                              \\\\\n",
       "\t RT @Fernanreira: Primeiro receba dos grandes devedores.\n",
       "\\#Reformadaprevidencia não. https://t.co/e1kdGqfTZz                                  & FALSE                                                                                                                                          & 0                                                                                                                                              & NA                                                                                                                                             & 2018-02-15 04:12:05                                                                                                                            & FALSE                                                                                                                                          & NA                                                                                                                                             & 963989267058954240                                                                                                                             & NA                                                                                                                                             & <a href=\"http://twitter.com/download/iphone\" rel=\"nofollow\">Twitter for iPhone</a>                                                             & LopesAnnamaria                                                                                                                                 & 5                                                                                                                                              &  TRUE                                                                                                                                          & FALSE                                                                                                                                          & NA                                                                                                                                             & NA                                                                                                                                            \\\\\n",
       "\t RT @Fernanreira: Primeiro receba dos grandes devedores.\n",
       "\\#Reformadaprevidencia não. https://t.co/e1kdGqfTZz                                  & FALSE                                                                                                                                          & 0                                                                                                                                              & NA                                                                                                                                             & 2018-02-15 02:59:38                                                                                                                            & FALSE                                                                                                                                          & NA                                                                                                                                             & 963971033689673729                                                                                                                             & NA                                                                                                                                             & <a href=\"http://twitter.com\" rel=\"nofollow\">Twitter Web Client</a>                                                                             & GilPereiraXavi1                                                                                                                                & 5                                                                                                                                              &  TRUE                                                                                                                                          & FALSE                                                                                                                                          & NA                                                                                                                                             & NA                                                                                                                                            \\\\\n",
       "\t @DeniseAlvesBR @Boatosorg BOA \\#ENTREVISTA DE \\#BOLSONARO para \\#RedeTV \n",
       "\\&gt; Não queremos dar carta branca para… https://t.co/LoEfbyK9on      & FALSE                                                                                                                                                & 1                                                                                                                                                    & DeniseAlvesBR                                                                                                                                        & 2018-02-15 01:59:26                                                                                                                                  &  TRUE                                                                                                                                                & 963941847981797376                                                                                                                                   & 963955880977985536                                                                                                                                   & 257140427                                                                                                                                            & <a href=\"http://twitter.com\" rel=\"nofollow\">Twitter Web Client</a>                                                                                   & DiasDougfotos                                                                                                                                        & 0                                                                                                                                                    & FALSE                                                                                                                                                & FALSE                                                                                                                                                & NA                                                                                                                                                   & NA                                                                                                                                                  \\\\\n",
       "\t @chilliperod @laurojardim BOA \\#ENTREVISTA DE \\#BOLSONARO para \\#RedeTV\n",
       " \\&gt; Não queremos dar carta branca para… https://t.co/JYe6MnlKlD      & FALSE                                                                                                                                                & 2                                                                                                                                                    & chilliperod                                                                                                                                          & 2018-02-15 01:54:08                                                                                                                                  &  TRUE                                                                                                                                                & 963071264482119681                                                                                                                                   & 963954549978476544                                                                                                                                   & 248786695                                                                                                                                            & <a href=\"http://twitter.com\" rel=\"nofollow\">Twitter Web Client</a>                                                                                   & DiasDougfotos                                                                                                                                        & 0                                                                                                                                                    & FALSE                                                                                                                                                & FALSE                                                                                                                                                & NA                                                                                                                                                   & NA                                                                                                                                                  \\\\\n",
       "\t RT @tvcamara: O que pode mudar na aposentadoria dos funcionários públicos com a \\#ReformaDaPrevidência? Fizemos uma matéria especial sobre e… & FALSE                                                                                                                                          & 0                                                                                                                                              & NA                                                                                                                                             & 2018-02-15 01:48:46                                                                                                                            & FALSE                                                                                                                                          & NA                                                                                                                                             & 963953200104689664                                                                                                                             & NA                                                                                                                                             & <a href=\"http://twitter.com/download/iphone\" rel=\"nofollow\">Twitter for iPhone</a>                                                             & cidcleybuarque                                                                                                                                 & 9                                                                                                                                              &  TRUE                                                                                                                                          & FALSE                                                                                                                                          & NA                                                                                                                                             & NA                                                                                                                                            \\\\\n",
       "\\end{tabular}\n"
      ],
      "text/markdown": [
       "\n",
       "text | favorited | favoriteCount | replyToSN | created | truncated | replyToSID | id | replyToUID | statusSource | screenName | retweetCount | isRetweet | retweeted | longitude | latitude | \n",
       "|---|---|---|---|---|---|\n",
       "| Ok, ok... a #Tuiuti foi o máximo neste #carnaval2018 ! Mas agora é vida real: dia 20 fev,  \" Vampirão\" vai colocar… https://t.co/On7tqxc8Rc  | FALSE                                                                                                                                        | 1                                                                                                                                            | NA                                                                                                                                           | 2018-02-15 07:48:08                                                                                                                          |  TRUE                                                                                                                                        | NA                                                                                                                                           | 964043637683310592                                                                                                                           | NA                                                                                                                                           | <a href=\"http://twitter.com/download/android\" rel=\"nofollow\">Twitter for Android</a>                                                         | GeraldoSiFi30                                                                                                                                | 0                                                                                                                                            | FALSE                                                                                                                                        | FALSE                                                                                                                                        | NA                                                                                                                                           | NA                                                                                                                                           | \n",
       "| RT @Fernanreira: Primeiro receba dos grandes devedores.\n",
       "#Reformadaprevidencia não. https://t.co/e1kdGqfTZz                                  | FALSE                                                                                                                                        | 0                                                                                                                                            | NA                                                                                                                                           | 2018-02-15 04:12:05                                                                                                                          | FALSE                                                                                                                                        | NA                                                                                                                                           | 963989267058954240                                                                                                                           | NA                                                                                                                                           | <a href=\"http://twitter.com/download/iphone\" rel=\"nofollow\">Twitter for iPhone</a>                                                           | LopesAnnamaria                                                                                                                               | 5                                                                                                                                            |  TRUE                                                                                                                                        | FALSE                                                                                                                                        | NA                                                                                                                                           | NA                                                                                                                                           | \n",
       "| RT @Fernanreira: Primeiro receba dos grandes devedores.\n",
       "#Reformadaprevidencia não. https://t.co/e1kdGqfTZz                                  | FALSE                                                                                                                                        | 0                                                                                                                                            | NA                                                                                                                                           | 2018-02-15 02:59:38                                                                                                                          | FALSE                                                                                                                                        | NA                                                                                                                                           | 963971033689673729                                                                                                                           | NA                                                                                                                                           | <a href=\"http://twitter.com\" rel=\"nofollow\">Twitter Web Client</a>                                                                           | GilPereiraXavi1                                                                                                                              | 5                                                                                                                                            |  TRUE                                                                                                                                        | FALSE                                                                                                                                        | NA                                                                                                                                           | NA                                                                                                                                           | \n",
       "| @DeniseAlvesBR @Boatosorg BOA #ENTREVISTA DE #BOLSONARO para #RedeTV \n",
       "&gt; Não queremos dar carta branca para… https://t.co/LoEfbyK9on      | FALSE                                                                                                                                        | 1                                                                                                                                            | DeniseAlvesBR                                                                                                                                | 2018-02-15 01:59:26                                                                                                                          |  TRUE                                                                                                                                        | 963941847981797376                                                                                                                           | 963955880977985536                                                                                                                           | 257140427                                                                                                                                    | <a href=\"http://twitter.com\" rel=\"nofollow\">Twitter Web Client</a>                                                                           | DiasDougfotos                                                                                                                                | 0                                                                                                                                            | FALSE                                                                                                                                        | FALSE                                                                                                                                        | NA                                                                                                                                           | NA                                                                                                                                           | \n",
       "| @chilliperod @laurojardim BOA #ENTREVISTA DE #BOLSONARO para #RedeTV\n",
       " &gt; Não queremos dar carta branca para… https://t.co/JYe6MnlKlD      | FALSE                                                                                                                                        | 2                                                                                                                                            | chilliperod                                                                                                                                  | 2018-02-15 01:54:08                                                                                                                          |  TRUE                                                                                                                                        | 963071264482119681                                                                                                                           | 963954549978476544                                                                                                                           | 248786695                                                                                                                                    | <a href=\"http://twitter.com\" rel=\"nofollow\">Twitter Web Client</a>                                                                           | DiasDougfotos                                                                                                                                | 0                                                                                                                                            | FALSE                                                                                                                                        | FALSE                                                                                                                                        | NA                                                                                                                                           | NA                                                                                                                                           | \n",
       "| RT @tvcamara: O que pode mudar na aposentadoria dos funcionários públicos com a #ReformaDaPrevidência? Fizemos uma matéria especial sobre e… | FALSE                                                                                                                                        | 0                                                                                                                                            | NA                                                                                                                                           | 2018-02-15 01:48:46                                                                                                                          | FALSE                                                                                                                                        | NA                                                                                                                                           | 963953200104689664                                                                                                                           | NA                                                                                                                                           | <a href=\"http://twitter.com/download/iphone\" rel=\"nofollow\">Twitter for iPhone</a>                                                           | cidcleybuarque                                                                                                                               | 9                                                                                                                                            |  TRUE                                                                                                                                        | FALSE                                                                                                                                        | NA                                                                                                                                           | NA                                                                                                                                           | \n",
       "\n",
       "\n"
      ],
      "text/plain": [
       "  text                                                                                                                                        \n",
       "1 Ok, ok... a #Tuiuti foi o máximo neste #carnaval2018 ! Mas agora é vida real: dia 20 fev,  \" Vampirão\" vai colocar… https://t.co/On7tqxc8Rc \n",
       "2 RT @Fernanreira: Primeiro receba dos grandes devedores.\\n#Reformadaprevidencia não. https://t.co/e1kdGqfTZz                                 \n",
       "3 RT @Fernanreira: Primeiro receba dos grandes devedores.\\n#Reformadaprevidencia não. https://t.co/e1kdGqfTZz                                 \n",
       "4 @DeniseAlvesBR @Boatosorg BOA #ENTREVISTA DE #BOLSONARO para #RedeTV \\n&gt; Não queremos dar carta branca para… https://t.co/LoEfbyK9on     \n",
       "5 @chilliperod @laurojardim BOA #ENTREVISTA DE #BOLSONARO para #RedeTV\\n &gt; Não queremos dar carta branca para… https://t.co/JYe6MnlKlD     \n",
       "6 RT @tvcamara: O que pode mudar na aposentadoria dos funcionários públicos com a #ReformaDaPrevidência? Fizemos uma matéria especial sobre e…\n",
       "  favorited favoriteCount replyToSN     created             truncated\n",
       "1 FALSE     1             NA            2018-02-15 07:48:08  TRUE    \n",
       "2 FALSE     0             NA            2018-02-15 04:12:05 FALSE    \n",
       "3 FALSE     0             NA            2018-02-15 02:59:38 FALSE    \n",
       "4 FALSE     1             DeniseAlvesBR 2018-02-15 01:59:26  TRUE    \n",
       "5 FALSE     2             chilliperod   2018-02-15 01:54:08  TRUE    \n",
       "6 FALSE     0             NA            2018-02-15 01:48:46 FALSE    \n",
       "  replyToSID         id                 replyToUID\n",
       "1 NA                 964043637683310592 NA        \n",
       "2 NA                 963989267058954240 NA        \n",
       "3 NA                 963971033689673729 NA        \n",
       "4 963941847981797376 963955880977985536 257140427 \n",
       "5 963071264482119681 963954549978476544 248786695 \n",
       "6 NA                 963953200104689664 NA        \n",
       "  statusSource                                                                        \n",
       "1 <a href=\"http://twitter.com/download/android\" rel=\"nofollow\">Twitter for Android</a>\n",
       "2 <a href=\"http://twitter.com/download/iphone\" rel=\"nofollow\">Twitter for iPhone</a>  \n",
       "3 <a href=\"http://twitter.com\" rel=\"nofollow\">Twitter Web Client</a>                  \n",
       "4 <a href=\"http://twitter.com\" rel=\"nofollow\">Twitter Web Client</a>                  \n",
       "5 <a href=\"http://twitter.com\" rel=\"nofollow\">Twitter Web Client</a>                  \n",
       "6 <a href=\"http://twitter.com/download/iphone\" rel=\"nofollow\">Twitter for iPhone</a>  \n",
       "  screenName      retweetCount isRetweet retweeted longitude latitude\n",
       "1 GeraldoSiFi30   0            FALSE     FALSE     NA        NA      \n",
       "2 LopesAnnamaria  5             TRUE     FALSE     NA        NA      \n",
       "3 GilPereiraXavi1 5             TRUE     FALSE     NA        NA      \n",
       "4 DiasDougfotos   0            FALSE     FALSE     NA        NA      \n",
       "5 DiasDougfotos   0            FALSE     FALSE     NA        NA      \n",
       "6 cidcleybuarque  9             TRUE     FALSE     NA        NA      "
      ]
     },
     "metadata": {},
     "output_type": "display_data"
    }
   ],
   "source": [
    "head(df)"
   ]
  },
  {
   "cell_type": "code",
   "execution_count": 7,
   "metadata": {},
   "outputs": [
    {
     "data": {
      "text/html": [
       "<table>\n",
       "<thead><tr><th scope=col>word</th><th scope=col>type</th><th scope=col>weight</th><th scope=col>other</th></tr></thead>\n",
       "<tbody>\n",
       "\t<tr><td>=[  </td><td>emot</td><td>-1  </td><td>A   </td></tr>\n",
       "\t<tr><td>=@  </td><td>emot</td><td>-1  </td><td>A   </td></tr>\n",
       "\t<tr><td>=p  </td><td>emot</td><td>-1  </td><td>A   </td></tr>\n",
       "\t<tr><td>=P  </td><td>emot</td><td>-1  </td><td>A   </td></tr>\n",
       "\t<tr><td>=x  </td><td>emot</td><td>-1  </td><td>A   </td></tr>\n",
       "\t<tr><td>=d  </td><td>emot</td><td> 1  </td><td>A   </td></tr>\n",
       "</tbody>\n",
       "</table>\n"
      ],
      "text/latex": [
       "\\begin{tabular}{r|llll}\n",
       " word & type & weight & other\\\\\n",
       "\\hline\n",
       "\t ={[} & emot & -1   & A   \\\\\n",
       "\t =@   & emot & -1   & A   \\\\\n",
       "\t =p   & emot & -1   & A   \\\\\n",
       "\t =P   & emot & -1   & A   \\\\\n",
       "\t =x   & emot & -1   & A   \\\\\n",
       "\t =d   & emot &  1   & A   \\\\\n",
       "\\end{tabular}\n"
      ],
      "text/markdown": [
       "\n",
       "word | type | weight | other | \n",
       "|---|---|---|---|---|---|\n",
       "| =[   | emot | -1   | A    | \n",
       "| =@   | emot | -1   | A    | \n",
       "| =p   | emot | -1   | A    | \n",
       "| =P   | emot | -1   | A    | \n",
       "| =x   | emot | -1   | A    | \n",
       "| =d   | emot |  1   | A    | \n",
       "\n",
       "\n"
      ],
      "text/plain": [
       "  word type weight other\n",
       "1 =[   emot -1     A    \n",
       "2 =@   emot -1     A    \n",
       "3 =p   emot -1     A    \n",
       "4 =P   emot -1     A    \n",
       "5 =x   emot -1     A    \n",
       "6 =d   emot  1     A    "
      ]
     },
     "metadata": {},
     "output_type": "display_data"
    }
   ],
   "source": [
    "oplexicon <- read_csv('oplexicon_v3.0/lexico_v3.0.txt', col_names = c('word', 'type', 'weight', 'other'), col_types = \n",
    "  cols(\n",
    "    word = col_character(),\n",
    "    type = col_character(),\n",
    "    weight = col_integer(), \n",
    "    other = col_character()\n",
    "  ))\n",
    "head(oplexicon)"
   ]
  },
  {
   "cell_type": "code",
   "execution_count": 8,
   "metadata": {},
   "outputs": [
    {
     "name": "stderr",
     "output_type": "stream",
     "text": [
      "Parsed with column specification:\n",
      "cols(\n",
      "  word = col_character()\n",
      ")\n"
     ]
    }
   ],
   "source": [
    "stopwords <- read_csv('portuguese-stopwords.txt', col_names = 'word')"
   ]
  },
  {
   "cell_type": "code",
   "execution_count": 9,
   "metadata": {},
   "outputs": [
    {
     "data": {
      "text/html": [
       "<table>\n",
       "<thead><tr><th scope=col>favorited</th><th scope=col>favoriteCount</th><th scope=col>replyToSN</th><th scope=col>created</th><th scope=col>truncated</th><th scope=col>replyToSID</th><th scope=col>id</th><th scope=col>replyToUID</th><th scope=col>statusSource</th><th scope=col>screenName</th><th scope=col>retweetCount</th><th scope=col>isRetweet</th><th scope=col>retweeted</th><th scope=col>longitude</th><th scope=col>latitude</th><th scope=col>word</th></tr></thead>\n",
       "<tbody>\n",
       "\t<tr><td>FALSE                                                                                           </td><td>1                                                                                               </td><td>NA                                                                                              </td><td>2018-02-15 07:48:08                                                                             </td><td>TRUE                                                                                            </td><td>NA                                                                                              </td><td>964043637683310592                                                                              </td><td>NA                                                                                              </td><td>&lt;a href=\"http://twitter.com/download/android\" rel=\"nofollow\"&gt;Twitter for Android&lt;/a&gt;</td><td>GeraldoSiFi30                                                                                   </td><td>0                                                                                               </td><td>FALSE                                                                                           </td><td>FALSE                                                                                           </td><td>NA                                                                                              </td><td>NA                                                                                              </td><td><span style=white-space:pre-wrap>ok          </span>                                            </td></tr>\n",
       "\t<tr><td>FALSE                                                                                           </td><td>1                                                                                               </td><td>NA                                                                                              </td><td>2018-02-15 07:48:08                                                                             </td><td>TRUE                                                                                            </td><td>NA                                                                                              </td><td>964043637683310592                                                                              </td><td>NA                                                                                              </td><td>&lt;a href=\"http://twitter.com/download/android\" rel=\"nofollow\"&gt;Twitter for Android&lt;/a&gt;</td><td>GeraldoSiFi30                                                                                   </td><td>0                                                                                               </td><td>FALSE                                                                                           </td><td>FALSE                                                                                           </td><td>NA                                                                                              </td><td>NA                                                                                              </td><td><span style=white-space:pre-wrap>ok          </span>                                            </td></tr>\n",
       "\t<tr><td>FALSE                                                                                           </td><td>1                                                                                               </td><td>NA                                                                                              </td><td>2018-02-15 07:48:08                                                                             </td><td>TRUE                                                                                            </td><td>NA                                                                                              </td><td>964043637683310592                                                                              </td><td>NA                                                                                              </td><td>&lt;a href=\"http://twitter.com/download/android\" rel=\"nofollow\"&gt;Twitter for Android&lt;/a&gt;</td><td>GeraldoSiFi30                                                                                   </td><td>0                                                                                               </td><td>FALSE                                                                                           </td><td>FALSE                                                                                           </td><td>NA                                                                                              </td><td>NA                                                                                              </td><td><span style=white-space:pre-wrap>tuiuti      </span>                                            </td></tr>\n",
       "\t<tr><td>FALSE                                                                                           </td><td>1                                                                                               </td><td>NA                                                                                              </td><td>2018-02-15 07:48:08                                                                             </td><td>TRUE                                                                                            </td><td>NA                                                                                              </td><td>964043637683310592                                                                              </td><td>NA                                                                                              </td><td>&lt;a href=\"http://twitter.com/download/android\" rel=\"nofollow\"&gt;Twitter for Android&lt;/a&gt;</td><td>GeraldoSiFi30                                                                                   </td><td>0                                                                                               </td><td>FALSE                                                                                           </td><td>FALSE                                                                                           </td><td>NA                                                                                              </td><td>NA                                                                                              </td><td>carnaval2018                                                                                    </td></tr>\n",
       "\t<tr><td>FALSE                                                                                           </td><td>1                                                                                               </td><td>NA                                                                                              </td><td>2018-02-15 07:48:08                                                                             </td><td>TRUE                                                                                            </td><td>NA                                                                                              </td><td>964043637683310592                                                                              </td><td>NA                                                                                              </td><td>&lt;a href=\"http://twitter.com/download/android\" rel=\"nofollow\"&gt;Twitter for Android&lt;/a&gt;</td><td>GeraldoSiFi30                                                                                   </td><td>0                                                                                               </td><td>FALSE                                                                                           </td><td>FALSE                                                                                           </td><td>NA                                                                                              </td><td>NA                                                                                              </td><td><span style=white-space:pre-wrap>vida        </span>                                            </td></tr>\n",
       "\t<tr><td>FALSE                                                                                           </td><td>1                                                                                               </td><td>NA                                                                                              </td><td>2018-02-15 07:48:08                                                                             </td><td>TRUE                                                                                            </td><td>NA                                                                                              </td><td>964043637683310592                                                                              </td><td>NA                                                                                              </td><td>&lt;a href=\"http://twitter.com/download/android\" rel=\"nofollow\"&gt;Twitter for Android&lt;/a&gt;</td><td>GeraldoSiFi30                                                                                   </td><td>0                                                                                               </td><td>FALSE                                                                                           </td><td>FALSE                                                                                           </td><td>NA                                                                                              </td><td>NA                                                                                              </td><td><span style=white-space:pre-wrap>real        </span>                                            </td></tr>\n",
       "</tbody>\n",
       "</table>\n"
      ],
      "text/latex": [
       "\\begin{tabular}{r|llllllllllllllll}\n",
       " favorited & favoriteCount & replyToSN & created & truncated & replyToSID & id & replyToUID & statusSource & screenName & retweetCount & isRetweet & retweeted & longitude & latitude & word\\\\\n",
       "\\hline\n",
       "\t FALSE                                                                                & 1                                                                                    & NA                                                                                   & 2018-02-15 07:48:08                                                                  & TRUE                                                                                 & NA                                                                                   & 964043637683310592                                                                   & NA                                                                                   & <a href=\"http://twitter.com/download/android\" rel=\"nofollow\">Twitter for Android</a> & GeraldoSiFi30                                                                        & 0                                                                                    & FALSE                                                                                & FALSE                                                                                & NA                                                                                   & NA                                                                                   & ok                                                                                  \\\\\n",
       "\t FALSE                                                                                & 1                                                                                    & NA                                                                                   & 2018-02-15 07:48:08                                                                  & TRUE                                                                                 & NA                                                                                   & 964043637683310592                                                                   & NA                                                                                   & <a href=\"http://twitter.com/download/android\" rel=\"nofollow\">Twitter for Android</a> & GeraldoSiFi30                                                                        & 0                                                                                    & FALSE                                                                                & FALSE                                                                                & NA                                                                                   & NA                                                                                   & ok                                                                                  \\\\\n",
       "\t FALSE                                                                                & 1                                                                                    & NA                                                                                   & 2018-02-15 07:48:08                                                                  & TRUE                                                                                 & NA                                                                                   & 964043637683310592                                                                   & NA                                                                                   & <a href=\"http://twitter.com/download/android\" rel=\"nofollow\">Twitter for Android</a> & GeraldoSiFi30                                                                        & 0                                                                                    & FALSE                                                                                & FALSE                                                                                & NA                                                                                   & NA                                                                                   & tuiuti                                                                              \\\\\n",
       "\t FALSE                                                                                & 1                                                                                    & NA                                                                                   & 2018-02-15 07:48:08                                                                  & TRUE                                                                                 & NA                                                                                   & 964043637683310592                                                                   & NA                                                                                   & <a href=\"http://twitter.com/download/android\" rel=\"nofollow\">Twitter for Android</a> & GeraldoSiFi30                                                                        & 0                                                                                    & FALSE                                                                                & FALSE                                                                                & NA                                                                                   & NA                                                                                   & carnaval2018                                                                        \\\\\n",
       "\t FALSE                                                                                & 1                                                                                    & NA                                                                                   & 2018-02-15 07:48:08                                                                  & TRUE                                                                                 & NA                                                                                   & 964043637683310592                                                                   & NA                                                                                   & <a href=\"http://twitter.com/download/android\" rel=\"nofollow\">Twitter for Android</a> & GeraldoSiFi30                                                                        & 0                                                                                    & FALSE                                                                                & FALSE                                                                                & NA                                                                                   & NA                                                                                   & vida                                                                                \\\\\n",
       "\t FALSE                                                                                & 1                                                                                    & NA                                                                                   & 2018-02-15 07:48:08                                                                  & TRUE                                                                                 & NA                                                                                   & 964043637683310592                                                                   & NA                                                                                   & <a href=\"http://twitter.com/download/android\" rel=\"nofollow\">Twitter for Android</a> & GeraldoSiFi30                                                                        & 0                                                                                    & FALSE                                                                                & FALSE                                                                                & NA                                                                                   & NA                                                                                   & real                                                                                \\\\\n",
       "\\end{tabular}\n"
      ],
      "text/markdown": [
       "\n",
       "favorited | favoriteCount | replyToSN | created | truncated | replyToSID | id | replyToUID | statusSource | screenName | retweetCount | isRetweet | retweeted | longitude | latitude | word | \n",
       "|---|---|---|---|---|---|\n",
       "| FALSE                                                                                | 1                                                                                    | NA                                                                                   | 2018-02-15 07:48:08                                                                  | TRUE                                                                                 | NA                                                                                   | 964043637683310592                                                                   | NA                                                                                   | <a href=\"http://twitter.com/download/android\" rel=\"nofollow\">Twitter for Android</a> | GeraldoSiFi30                                                                        | 0                                                                                    | FALSE                                                                                | FALSE                                                                                | NA                                                                                   | NA                                                                                   | ok                                                                                   | \n",
       "| FALSE                                                                                | 1                                                                                    | NA                                                                                   | 2018-02-15 07:48:08                                                                  | TRUE                                                                                 | NA                                                                                   | 964043637683310592                                                                   | NA                                                                                   | <a href=\"http://twitter.com/download/android\" rel=\"nofollow\">Twitter for Android</a> | GeraldoSiFi30                                                                        | 0                                                                                    | FALSE                                                                                | FALSE                                                                                | NA                                                                                   | NA                                                                                   | ok                                                                                   | \n",
       "| FALSE                                                                                | 1                                                                                    | NA                                                                                   | 2018-02-15 07:48:08                                                                  | TRUE                                                                                 | NA                                                                                   | 964043637683310592                                                                   | NA                                                                                   | <a href=\"http://twitter.com/download/android\" rel=\"nofollow\">Twitter for Android</a> | GeraldoSiFi30                                                                        | 0                                                                                    | FALSE                                                                                | FALSE                                                                                | NA                                                                                   | NA                                                                                   | tuiuti                                                                               | \n",
       "| FALSE                                                                                | 1                                                                                    | NA                                                                                   | 2018-02-15 07:48:08                                                                  | TRUE                                                                                 | NA                                                                                   | 964043637683310592                                                                   | NA                                                                                   | <a href=\"http://twitter.com/download/android\" rel=\"nofollow\">Twitter for Android</a> | GeraldoSiFi30                                                                        | 0                                                                                    | FALSE                                                                                | FALSE                                                                                | NA                                                                                   | NA                                                                                   | carnaval2018                                                                         | \n",
       "| FALSE                                                                                | 1                                                                                    | NA                                                                                   | 2018-02-15 07:48:08                                                                  | TRUE                                                                                 | NA                                                                                   | 964043637683310592                                                                   | NA                                                                                   | <a href=\"http://twitter.com/download/android\" rel=\"nofollow\">Twitter for Android</a> | GeraldoSiFi30                                                                        | 0                                                                                    | FALSE                                                                                | FALSE                                                                                | NA                                                                                   | NA                                                                                   | vida                                                                                 | \n",
       "| FALSE                                                                                | 1                                                                                    | NA                                                                                   | 2018-02-15 07:48:08                                                                  | TRUE                                                                                 | NA                                                                                   | 964043637683310592                                                                   | NA                                                                                   | <a href=\"http://twitter.com/download/android\" rel=\"nofollow\">Twitter for Android</a> | GeraldoSiFi30                                                                        | 0                                                                                    | FALSE                                                                                | FALSE                                                                                | NA                                                                                   | NA                                                                                   | real                                                                                 | \n",
       "\n",
       "\n"
      ],
      "text/plain": [
       "  favorited favoriteCount replyToSN created             truncated replyToSID\n",
       "1 FALSE     1             NA        2018-02-15 07:48:08 TRUE      NA        \n",
       "2 FALSE     1             NA        2018-02-15 07:48:08 TRUE      NA        \n",
       "3 FALSE     1             NA        2018-02-15 07:48:08 TRUE      NA        \n",
       "4 FALSE     1             NA        2018-02-15 07:48:08 TRUE      NA        \n",
       "5 FALSE     1             NA        2018-02-15 07:48:08 TRUE      NA        \n",
       "6 FALSE     1             NA        2018-02-15 07:48:08 TRUE      NA        \n",
       "  id                 replyToUID\n",
       "1 964043637683310592 NA        \n",
       "2 964043637683310592 NA        \n",
       "3 964043637683310592 NA        \n",
       "4 964043637683310592 NA        \n",
       "5 964043637683310592 NA        \n",
       "6 964043637683310592 NA        \n",
       "  statusSource                                                                        \n",
       "1 <a href=\"http://twitter.com/download/android\" rel=\"nofollow\">Twitter for Android</a>\n",
       "2 <a href=\"http://twitter.com/download/android\" rel=\"nofollow\">Twitter for Android</a>\n",
       "3 <a href=\"http://twitter.com/download/android\" rel=\"nofollow\">Twitter for Android</a>\n",
       "4 <a href=\"http://twitter.com/download/android\" rel=\"nofollow\">Twitter for Android</a>\n",
       "5 <a href=\"http://twitter.com/download/android\" rel=\"nofollow\">Twitter for Android</a>\n",
       "6 <a href=\"http://twitter.com/download/android\" rel=\"nofollow\">Twitter for Android</a>\n",
       "  screenName    retweetCount isRetweet retweeted longitude latitude\n",
       "1 GeraldoSiFi30 0            FALSE     FALSE     NA        NA      \n",
       "2 GeraldoSiFi30 0            FALSE     FALSE     NA        NA      \n",
       "3 GeraldoSiFi30 0            FALSE     FALSE     NA        NA      \n",
       "4 GeraldoSiFi30 0            FALSE     FALSE     NA        NA      \n",
       "5 GeraldoSiFi30 0            FALSE     FALSE     NA        NA      \n",
       "6 GeraldoSiFi30 0            FALSE     FALSE     NA        NA      \n",
       "  word        \n",
       "1 ok          \n",
       "2 ok          \n",
       "3 tuiuti      \n",
       "4 carnaval2018\n",
       "5 vida        \n",
       "6 real        "
      ]
     },
     "metadata": {},
     "output_type": "display_data"
    }
   ],
   "source": [
    "tweets <- df %>%\n",
    "    unnest_tokens(word,text) %>%\n",
    "    anti_join(stopwords,by=\"word\") \n",
    "head(tweets)"
   ]
  },
  {
   "cell_type": "code",
   "execution_count": 10,
   "metadata": {},
   "outputs": [
    {
     "name": "stderr",
     "output_type": "stream",
     "text": [
      "Joining, by = \"word\"\n"
     ]
    },
    {
     "data": {
      "text/html": [
       "<table>\n",
       "<thead><tr><th scope=col>screenName</th><th scope=col>peso</th></tr></thead>\n",
       "<tbody>\n",
       "\t<tr><td>___DENISE___EU_</td><td>-1             </td></tr>\n",
       "\t<tr><td>_bielcelentano </td><td> 0             </td></tr>\n",
       "\t<tr><td>_eitapa        </td><td> 0             </td></tr>\n",
       "\t<tr><td>_electriceel   </td><td>-1             </td></tr>\n",
       "\t<tr><td>_guilhermeclapp</td><td> 0             </td></tr>\n",
       "\t<tr><td>_hercules_k    </td><td> 0             </td></tr>\n",
       "</tbody>\n",
       "</table>\n"
      ],
      "text/latex": [
       "\\begin{tabular}{r|ll}\n",
       " screenName & peso\\\\\n",
       "\\hline\n",
       "\t \\_\\_\\_DENISE\\_\\_\\_EU\\_ & -1                           \\\\\n",
       "\t \\_bielcelentano  &  0               \\\\\n",
       "\t \\_eitapa         &  0               \\\\\n",
       "\t \\_electriceel    & -1               \\\\\n",
       "\t \\_guilhermeclapp &  0               \\\\\n",
       "\t \\_hercules\\_k     &  0                 \\\\\n",
       "\\end{tabular}\n"
      ],
      "text/markdown": [
       "\n",
       "screenName | peso | \n",
       "|---|---|---|---|---|---|\n",
       "| ___DENISE___EU_ | -1              | \n",
       "| _bielcelentano  |  0              | \n",
       "| _eitapa         |  0              | \n",
       "| _electriceel    | -1              | \n",
       "| _guilhermeclapp |  0              | \n",
       "| _hercules_k     |  0              | \n",
       "\n",
       "\n"
      ],
      "text/plain": [
       "  screenName      peso\n",
       "1 ___DENISE___EU_ -1  \n",
       "2 _bielcelentano   0  \n",
       "3 _eitapa          0  \n",
       "4 _electriceel    -1  \n",
       "5 _guilhermeclapp  0  \n",
       "6 _hercules_k      0  "
      ]
     },
     "metadata": {},
     "output_type": "display_data"
    }
   ],
   "source": [
    "sentimentoTweets <- tweets %>%\n",
    "    inner_join(oplexicon) %>%\n",
    "    group_by(screenName) %>%\n",
    "    summarize(peso = sum(weight, na.rm = TRUE))\n",
    "head(sentimentoTweets)"
   ]
  },
  {
   "cell_type": "code",
   "execution_count": 11,
   "metadata": {},
   "outputs": [
    {
     "data": {
      "text/html": [
       "185"
      ],
      "text/latex": [
       "185"
      ],
      "text/markdown": [
       "185"
      ],
      "text/plain": [
       "[1] 185"
      ]
     },
     "metadata": {},
     "output_type": "display_data"
    }
   ],
   "source": [
    "sum(sentimentoTweets$peso)"
   ]
  },
  {
   "cell_type": "code",
   "execution_count": 12,
   "metadata": {},
   "outputs": [
    {
     "data": {
      "text/html": [
       "0.201965065502183"
      ],
      "text/latex": [
       "0.201965065502183"
      ],
      "text/markdown": [
       "0.201965065502183"
      ],
      "text/plain": [
       "[1] 0.2019651"
      ]
     },
     "metadata": {},
     "output_type": "display_data"
    }
   ],
   "source": [
    "mean(sentimentoTweets$peso)"
   ]
  },
  {
   "cell_type": "code",
   "execution_count": null,
   "metadata": {},
   "outputs": [],
   "source": []
  }
 ],
 "metadata": {
  "kernelspec": {
   "display_name": "R",
   "language": "R",
   "name": "ir"
  },
  "language_info": {
   "codemirror_mode": "r",
   "file_extension": ".r",
   "mimetype": "text/x-r-source",
   "name": "R",
   "pygments_lexer": "r",
   "version": "3.4.2"
  }
 },
 "nbformat": 4,
 "nbformat_minor": 2
}
